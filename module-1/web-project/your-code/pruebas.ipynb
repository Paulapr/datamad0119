{
 "cells": [
  {
   "cell_type": "code",
   "execution_count": 1,
   "metadata": {},
   "outputs": [],
   "source": [
    "import requests\n",
    "import json\n",
    "import pandas as pd\n",
    "from bs4 import BeautifulSoup"
   ]
  },
  {
   "cell_type": "code",
   "execution_count": 2,
   "metadata": {},
   "outputs": [],
   "source": [
    " # funcion para sacar todas las paginas de conciertos de cada artista\n",
    "\n",
    "artistID = 561119\n",
    "\n",
    "def num_pag(artistID):\n",
    "    url = 'https://api.songkick.com/api/3.0/artists/{}/gigography.json?apikey=2KYDpKnYhVp98ZmM'.format(artistID)\n",
    "    get_events_page = requests.get(url)\n",
    "    all_concerts= get_events_page.json()\n",
    "    total_concerts =int(all_concerts['resultsPage']['totalEntries'])\n",
    "    n_pages= int((total_concerts / 50) + (total_concerts % 5 > 0))\n",
    "    return n_pages\n",
    "\n",
    "def all_events_pages(artistID,n_pages):\n",
    "    \n",
    "    all_concerts = []\n",
    "    events_per_page = []\n",
    "    for p in range(1, n_pages + 1):\n",
    "        url = 'https://api.songkick.com/api/3.0/artists/{}/gigography.json?apikey=2KYDpKnYhVp98ZmM&page='.format(artistID)\n",
    "        page_url= url + str(p)\n",
    "        get_events_page = requests.get(page_url)\n",
    "        all_concerts_page= get_events_page.json()\n",
    "        \n",
    "        def events_page (all_concerts_page):\n",
    "            events = all_concerts_page['resultsPage']['results']['event']\n",
    "            events_per_page = []\n",
    "            for event in events:\n",
    "                each_event = event['type'],event['displayName'],event['location']['city'],event['start']['date']\n",
    "                events_per_page.append(each_event)\n",
    "            return events_per_page\n",
    "        \n",
    "        all_concerts.append(events_per_page)\n",
    "        \n",
    "    return all_concerts\n"
   ]
  },
  {
   "cell_type": "code",
   "execution_count": 3,
   "metadata": {},
   "outputs": [],
   "source": [
    "artistID = 561119\n",
    "n_pages = num_pag(artistID)"
   ]
  },
  {
   "cell_type": "code",
   "execution_count": 4,
   "metadata": {},
   "outputs": [
    {
     "data": {
      "text/plain": [
       "[[],\n",
       " [],\n",
       " [],\n",
       " [],\n",
       " [],\n",
       " [],\n",
       " [],\n",
       " [],\n",
       " [],\n",
       " [],\n",
       " [],\n",
       " [],\n",
       " [],\n",
       " [],\n",
       " [],\n",
       " [],\n",
       " [],\n",
       " [],\n",
       " [],\n",
       " [],\n",
       " []]"
      ]
     },
     "execution_count": 4,
     "metadata": {},
     "output_type": "execute_result"
    }
   ],
   "source": [
    "artistID = 561119\n",
    "n_pages = num_pag(artistID)\n",
    "\n",
    "all_events_pages(artistID, n_pages)"
   ]
  },
  {
   "cell_type": "code",
   "execution_count": null,
   "metadata": {},
   "outputs": [],
   "source": [
    "lista_99id    #FUNCIONA\n",
    "\n",
    "def artist_df (artistID): # crea un df con los conciertos de cada artista\n",
    "    \n",
    "    def events_page (artistID): #Conciertos por pagina y por artista\n",
    "        url = 'https://api.songkick.com/api/3.0/artists/{}/gigography.json?apikey=2KYDpKnYhVp98ZmM'.format(artistID)\n",
    "        get_events = requests.get(url)\n",
    "        all_concerts= get_events.json()\n",
    "        events = all_concerts['resultsPage']['results']['event']\n",
    "        events_per_page = []\n",
    "        for event in events:\n",
    "            each_event = event['type'],event['displayName'],event['location']['city'],event['start']['date']\n",
    "            events_per_page.append(each_event)\n",
    "\n",
    "        return events_per_page\n",
    "    \n",
    "    conciertos_artista = pd.DataFrame(events_page (artistID), columns=['type_event','name_event','city_event','date_event'])\n",
    "    conciertos_artista['artist_id'] = artistID\n",
    "    \n",
    "    return conciertos_artista\n",
    "\n",
    "def lista_definitiva(lista_ids):\n",
    "    \n",
    "    lista_conciertos=pd.DataFrame()\n",
    "\n",
    "    for artist in lista_ids:\n",
    "        lista_conciertos = lista_conciertos.append(artist_df(artist))\n",
    "    return lista_conciertos\n"
   ]
  }
 ],
 "metadata": {
  "kernelspec": {
   "display_name": "Python 3",
   "language": "python",
   "name": "python3"
  },
  "language_info": {
   "codemirror_mode": {
    "name": "ipython",
    "version": 3
   },
   "file_extension": ".py",
   "mimetype": "text/x-python",
   "name": "python",
   "nbconvert_exporter": "python",
   "pygments_lexer": "ipython3",
   "version": "3.6.7"
  }
 },
 "nbformat": 4,
 "nbformat_minor": 2
}
