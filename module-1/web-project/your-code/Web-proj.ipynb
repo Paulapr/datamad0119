{
 "cells": [
  {
   "cell_type": "code",
   "execution_count": 1,
   "metadata": {},
   "outputs": [],
   "source": [
    "import requests\n",
    "import json\n",
    "import pandas as pd\n",
    "from bs4 import BeautifulSoup"
   ]
  },
  {
   "cell_type": "markdown",
   "metadata": {},
   "source": [
    "## 1. Web scraping: Extraer lista: Los 100 mejores artistas de la Historia según la revista Rolling Stone"
   ]
  },
  {
   "cell_type": "code",
   "execution_count": 2,
   "metadata": {},
   "outputs": [],
   "source": [
    "# Request a la web\n",
    "\n",
    "url = 'https://es.wikipedia.org/wiki/Anexo:Los_100_mejores_artistas_de_la_Historia_seg%C3%BAn_la_revista_Rolling_Stone'"
   ]
  },
  {
   "cell_type": "code",
   "execution_count": 3,
   "metadata": {},
   "outputs": [],
   "source": [
    "# Extraer la tabla con los artistas y el pais de procedencia\n",
    "\n",
    "def table_scrap (url):\n",
    "    html = requests.get(url).content\n",
    "    soup = BeautifulSoup(html, 'html.parser')\n",
    "    table = soup.find_all('table',{'class':'wikitable'})[0]\n",
    "    rows = table.find_all('tr')\n",
    "    rows = [row.text.strip().split(\"\\n\") for row in rows]\n",
    "    rows.pop(0)\n",
    "    for row in rows:\n",
    "        row.pop(0) and row.pop(0)\n",
    "    return rows\n",
    "\n",
    "rows = table_scrap (url)"
   ]
  },
  {
   "cell_type": "code",
   "execution_count": 4,
   "metadata": {
    "scrolled": true
   },
   "outputs": [],
   "source": [
    "# Crear la tabla con pandas\n",
    "\n",
    "def create_table(rows):\n",
    "    colnames = ['artist','country_proc']\n",
    "    data = rows\n",
    "    music_artist = pd.DataFrame(data, columns=colnames)\n",
    "    country= list(music_artist['country_proc'])\n",
    "    country = [x.replace('Reino Unido\\xa0Reino Unido','Reino Unido')\n",
    "           .replace('Estados Unidos\\xa0Estados Unidos','Estados Unidos')\n",
    "           .replace('Jamaica\\xa0Jamaica','Jamaica').replace('Irlanda\\xa0Irlanda','Irlanda')\n",
    "           .replace('Canadá\\xa0Canadá','Canadá').replace('Australia\\xa0Australia','Australia')\n",
    "           .replace('México México','México')for x in country]\n",
    "    music_artist['country_proc']=country\n",
    "    music_artist = music_artist[music_artist.artist!='Phil Spector'] #Elimino este artista.problema api\n",
    "    \n",
    "    return music_artist\n",
    "\n",
    "music_artist = create_table(rows)"
   ]
  },
  {
   "cell_type": "markdown",
   "metadata": {},
   "source": [
    "## 2. Hacer peticiones a la API (songkick) para cada uno de los artistas extraidos de los eventos pasados.\n",
    "\n",
    "\n",
    "Songkick --> Solicito la KEY: 2KYDpKnYhVp98ZmM"
   ]
  },
  {
   "cell_type": "code",
   "execution_count": 5,
   "metadata": {},
   "outputs": [],
   "source": [
    "# 1. Conseguir el ID de cada artista. \n",
    "\n",
    "artist_listnames = list(music_artist['artist']) #lista de los 99 mejores artistas según Rolling Stone\n",
    "\n",
    "def lista_IDs(artist_list):\n",
    "    \n",
    "    def all_id(artistName): #Extrae un json de cada artista\n",
    "        url = 'https://api.songkick.com/api/3.0/search/artists.json?apikey=2KYDpKnYhVp98ZmM&query={}'.format(artistName)\n",
    "        get_ids = requests.get(url)\n",
    "        artist_ids = pd.DataFrame(get_ids.json())\n",
    "        artist_ids = artist_ids.transpose()\n",
    "\n",
    "        def flatten(artist_ids, col_list): #Extrae del json exclusivamente el ID\n",
    "            for column in col_list:\n",
    "                flattened = pd.DataFrame(dict(artist_ids[column])).transpose()\n",
    "                columns = [str(col) for col in flattened.columns]\n",
    "                flattened.columns = [column + '_' + colname for colname in columns]\n",
    "                artist_ids = pd.concat([artist_ids, flattened], axis=1)\n",
    "                artist_ids = artist_ids.drop(column, axis=1)\n",
    "            return artist_ids\n",
    "\n",
    "        nested_columns = ['results']\n",
    "        nested_columns1 = ['results_artist']\n",
    "        nested_columns2 = ['results_artist_0']\n",
    "        artist_ids1 = flatten(artist_ids, nested_columns)\n",
    "        artist_ids2 = flatten(artist_ids1, nested_columns1)\n",
    "        artist_ids3 = flatten(artist_ids2, nested_columns2)\n",
    "        artistIDs = int(artist_ids3['results_artist_0_id'])\n",
    "\n",
    "        return artistIDs\n",
    "\n",
    "    list_IDs=[]\n",
    "    for artistName in artist_list:   #Añade todos los ID a una lista\n",
    "        list_IDs.append(all_id(artistName))\n",
    "    return list_IDs\n",
    "\n",
    "lista_99id = lista_IDs(artist_listnames)"
   ]
  },
  {
   "cell_type": "code",
   "execution_count": 12,
   "metadata": {},
   "outputs": [
    {
     "data": {
      "text/html": [
       "<div>\n",
       "<style scoped>\n",
       "    .dataframe tbody tr th:only-of-type {\n",
       "        vertical-align: middle;\n",
       "    }\n",
       "\n",
       "    .dataframe tbody tr th {\n",
       "        vertical-align: top;\n",
       "    }\n",
       "\n",
       "    .dataframe thead th {\n",
       "        text-align: right;\n",
       "    }\n",
       "</style>\n",
       "<table border=\"1\" class=\"dataframe\">\n",
       "  <thead>\n",
       "    <tr style=\"text-align: right;\">\n",
       "      <th></th>\n",
       "      <th>type_event</th>\n",
       "      <th>name_event</th>\n",
       "      <th>city_event</th>\n",
       "      <th>date_event</th>\n",
       "      <th>artist_id</th>\n",
       "    </tr>\n",
       "  </thead>\n",
       "  <tbody>\n",
       "    <tr>\n",
       "      <th>0</th>\n",
       "      <td>Concert</td>\n",
       "      <td>The Beatles at St Peter’s Church (June 7, 1957)</td>\n",
       "      <td>Woolton, UK</td>\n",
       "      <td>1957-06-07</td>\n",
       "      <td>417271</td>\n",
       "    </tr>\n",
       "    <tr>\n",
       "      <th>1</th>\n",
       "      <td>Concert</td>\n",
       "      <td>The Beatles at Rosebery (June 22, 1957)</td>\n",
       "      <td>Liverpool, UK</td>\n",
       "      <td>1957-06-22</td>\n",
       "      <td>417271</td>\n",
       "    </tr>\n",
       "    <tr>\n",
       "      <th>2</th>\n",
       "      <td>Concert</td>\n",
       "      <td>The Beatles at Cavern Club Liverpool (July 8, ...</td>\n",
       "      <td>Liverpool, UK</td>\n",
       "      <td>1957-07-08</td>\n",
       "      <td>417271</td>\n",
       "    </tr>\n",
       "    <tr>\n",
       "      <th>3</th>\n",
       "      <td>Concert</td>\n",
       "      <td>The Beatles at Wilson Hall (July 11, 1957)</td>\n",
       "      <td>Liverpool, UK</td>\n",
       "      <td>1957-07-11</td>\n",
       "      <td>417271</td>\n",
       "    </tr>\n",
       "    <tr>\n",
       "      <th>4</th>\n",
       "      <td>Concert</td>\n",
       "      <td>The Beatles at Wilson Hall (July 12, 1957)</td>\n",
       "      <td>Liverpool, UK</td>\n",
       "      <td>1957-07-12</td>\n",
       "      <td>417271</td>\n",
       "    </tr>\n",
       "  </tbody>\n",
       "</table>\n",
       "</div>"
      ],
      "text/plain": [
       "  type_event                                         name_event  \\\n",
       "0    Concert    The Beatles at St Peter’s Church (June 7, 1957)   \n",
       "1    Concert            The Beatles at Rosebery (June 22, 1957)   \n",
       "2    Concert  The Beatles at Cavern Club Liverpool (July 8, ...   \n",
       "3    Concert         The Beatles at Wilson Hall (July 11, 1957)   \n",
       "4    Concert         The Beatles at Wilson Hall (July 12, 1957)   \n",
       "\n",
       "      city_event  date_event  artist_id  \n",
       "0    Woolton, UK  1957-06-07     417271  \n",
       "1  Liverpool, UK  1957-06-22     417271  \n",
       "2  Liverpool, UK  1957-07-08     417271  \n",
       "3  Liverpool, UK  1957-07-11     417271  \n",
       "4  Liverpool, UK  1957-07-12     417271  "
      ]
     },
     "execution_count": 12,
     "metadata": {},
     "output_type": "execute_result"
    }
   ],
   "source": [
    "# 2. Con el ID extraido en la lista (list_IDs), procedo a extraer los conciertos de cada artista\n",
    "\n",
    "def artist_df (artistID): # crea un df con los conciertos de cada artista\n",
    "    \n",
    "    def events_page (artistID): #Conciertos por pagina y por artista\n",
    "        url = 'https://api.songkick.com/api/3.0/artists/{}/gigography.json?apikey=2KYDpKnYhVp98ZmM'.format(artistID)\n",
    "        get_events = requests.get(url)\n",
    "        all_concerts= get_events.json()\n",
    "        events = all_concerts['resultsPage']['results']['event']\n",
    "        events_per_page = []\n",
    "        for event in events:\n",
    "            each_event = event['type'],event['displayName'],event['location']['city'],event['start']['date']\n",
    "            events_per_page.append(each_event)\n",
    "        return events_per_page\n",
    "    \n",
    "    conciertos_artista = pd.DataFrame(events_page (artistID), columns=['type_event','name_event','city_event','date_event'])\n",
    "    conciertos_artista['artist_id'] = artistID\n",
    "    return conciertos_artista\n",
    "\n",
    "def lista_definitiva(lista_ids):\n",
    "    lista_conciertos=pd.DataFrame()\n",
    "    for artist in lista_ids:\n",
    "        lista_conciertos = lista_conciertos.append(artist_df(artist))\n",
    "    return lista_conciertos\n",
    "\n",
    "data_conciertos_best = lista_definitiva(lista_99id)\n",
    "data_conciertos_best.head()"
   ]
  },
  {
   "cell_type": "markdown",
   "metadata": {},
   "source": [
    "## 3. Crear el data set definitivo, uniendo la lista web scraping y los datos de conciertos de la api "
   ]
  },
  {
   "cell_type": "code",
   "execution_count": 17,
   "metadata": {},
   "outputs": [
    {
     "data": {
      "text/plain": [
       "(4254, 7)"
      ]
     },
     "metadata": {},
     "output_type": "display_data"
    },
    {
     "data": {
      "text/html": [
       "<div>\n",
       "<style scoped>\n",
       "    .dataframe tbody tr th:only-of-type {\n",
       "        vertical-align: middle;\n",
       "    }\n",
       "\n",
       "    .dataframe tbody tr th {\n",
       "        vertical-align: top;\n",
       "    }\n",
       "\n",
       "    .dataframe thead th {\n",
       "        text-align: right;\n",
       "    }\n",
       "</style>\n",
       "<table border=\"1\" class=\"dataframe\">\n",
       "  <thead>\n",
       "    <tr style=\"text-align: right;\">\n",
       "      <th></th>\n",
       "      <th>artist</th>\n",
       "      <th>country_proc</th>\n",
       "      <th>artist_id</th>\n",
       "      <th>type_event</th>\n",
       "      <th>name_event</th>\n",
       "      <th>city_event</th>\n",
       "      <th>date_event</th>\n",
       "    </tr>\n",
       "  </thead>\n",
       "  <tbody>\n",
       "    <tr>\n",
       "      <th>0</th>\n",
       "      <td>The Beatles</td>\n",
       "      <td>Reino Unido</td>\n",
       "      <td>417271</td>\n",
       "      <td>Concert</td>\n",
       "      <td>The Beatles at St Peter’s Church (June 7, 1957)</td>\n",
       "      <td>Woolton, UK</td>\n",
       "      <td>1957-06-07</td>\n",
       "    </tr>\n",
       "    <tr>\n",
       "      <th>1</th>\n",
       "      <td>The Beatles</td>\n",
       "      <td>Reino Unido</td>\n",
       "      <td>417271</td>\n",
       "      <td>Concert</td>\n",
       "      <td>The Beatles at Rosebery (June 22, 1957)</td>\n",
       "      <td>Liverpool, UK</td>\n",
       "      <td>1957-06-22</td>\n",
       "    </tr>\n",
       "    <tr>\n",
       "      <th>2</th>\n",
       "      <td>The Beatles</td>\n",
       "      <td>Reino Unido</td>\n",
       "      <td>417271</td>\n",
       "      <td>Concert</td>\n",
       "      <td>The Beatles at Cavern Club Liverpool (July 8, ...</td>\n",
       "      <td>Liverpool, UK</td>\n",
       "      <td>1957-07-08</td>\n",
       "    </tr>\n",
       "    <tr>\n",
       "      <th>3</th>\n",
       "      <td>The Beatles</td>\n",
       "      <td>Reino Unido</td>\n",
       "      <td>417271</td>\n",
       "      <td>Concert</td>\n",
       "      <td>The Beatles at Wilson Hall (July 11, 1957)</td>\n",
       "      <td>Liverpool, UK</td>\n",
       "      <td>1957-07-11</td>\n",
       "    </tr>\n",
       "    <tr>\n",
       "      <th>4</th>\n",
       "      <td>The Beatles</td>\n",
       "      <td>Reino Unido</td>\n",
       "      <td>417271</td>\n",
       "      <td>Concert</td>\n",
       "      <td>The Beatles at Wilson Hall (July 12, 1957)</td>\n",
       "      <td>Liverpool, UK</td>\n",
       "      <td>1957-07-12</td>\n",
       "    </tr>\n",
       "  </tbody>\n",
       "</table>\n",
       "</div>"
      ],
      "text/plain": [
       "        artist country_proc  artist_id type_event  \\\n",
       "0  The Beatles  Reino Unido     417271    Concert   \n",
       "1  The Beatles  Reino Unido     417271    Concert   \n",
       "2  The Beatles  Reino Unido     417271    Concert   \n",
       "3  The Beatles  Reino Unido     417271    Concert   \n",
       "4  The Beatles  Reino Unido     417271    Concert   \n",
       "\n",
       "                                          name_event     city_event  \\\n",
       "0    The Beatles at St Peter’s Church (June 7, 1957)    Woolton, UK   \n",
       "1            The Beatles at Rosebery (June 22, 1957)  Liverpool, UK   \n",
       "2  The Beatles at Cavern Club Liverpool (July 8, ...  Liverpool, UK   \n",
       "3         The Beatles at Wilson Hall (July 11, 1957)  Liverpool, UK   \n",
       "4         The Beatles at Wilson Hall (July 12, 1957)  Liverpool, UK   \n",
       "\n",
       "   date_event  \n",
       "0  1957-06-07  \n",
       "1  1957-06-22  \n",
       "2  1957-07-08  \n",
       "3  1957-07-11  \n",
       "4  1957-07-12  "
      ]
     },
     "metadata": {},
     "output_type": "display_data"
    }
   ],
   "source": [
    "def table_union(music_artist,data_conciertos_best):\n",
    "    music_artist['artist_id'] = lista_99id\n",
    "    conciertos_best = pd.merge(music_artist, data_conciertos_best, on=['artist_id'])\n",
    "    return conciertos_best\n",
    "\n",
    "conciertos_best = table_union(music_artist,data_conciertos_best)\n",
    "display (conciertos_best.shape)\n",
    "display (conciertos_best.head())"
   ]
  },
  {
   "cell_type": "code",
   "execution_count": null,
   "metadata": {},
   "outputs": [],
   "source": [
    "conciertos_best.to_csv('conciertos_best.csv')"
   ]
  },
  {
   "cell_type": "code",
   "execution_count": 14,
   "metadata": {},
   "outputs": [
    {
     "data": {
      "text/plain": [
       "London, UK                429\n",
       "New York, NY, US          265\n",
       "San Francisco, CA, US     152\n",
       "Chicago, IL, US            91\n",
       "Los Angeles, CA, US        82\n",
       "Calgary, AB, Canada        77\n",
       "Toronto, ON, Canada        65\n",
       "West Hollywood, CA, US     61\n",
       "Detroit, MI, US            60\n",
       "Boston, MA, US             57\n",
       "Name: city_event, dtype: int64"
      ]
     },
     "execution_count": 14,
     "metadata": {},
     "output_type": "execute_result"
    }
   ],
   "source": [
    "conciertos_best['city_event'].value_counts().head(10)"
   ]
  },
  {
   "cell_type": "code",
   "execution_count": null,
   "metadata": {},
   "outputs": [],
   "source": []
  }
 ],
 "metadata": {
  "kernelspec": {
   "display_name": "Python 3",
   "language": "python",
   "name": "python3"
  },
  "language_info": {
   "codemirror_mode": {
    "name": "ipython",
    "version": 3
   },
   "file_extension": ".py",
   "mimetype": "text/x-python",
   "name": "python",
   "nbconvert_exporter": "python",
   "pygments_lexer": "ipython3",
   "version": "3.6.7"
  }
 },
 "nbformat": 4,
 "nbformat_minor": 2
}
