{
 "cells": [
  {
   "cell_type": "code",
   "execution_count": 7,
   "metadata": {},
   "outputs": [],
   "source": [
    "import requests\n",
    "import json\n",
    "import pandas as pd\n",
    "from bs4 import BeautifulSoup"
   ]
  },
  {
   "cell_type": "markdown",
   "metadata": {},
   "source": [
    "##1. Web scraping: Extraer lista: Los 100 mejores artistas de la Historia según la revista Rolling Stone"
   ]
  },
  {
   "cell_type": "code",
   "execution_count": 8,
   "metadata": {},
   "outputs": [],
   "source": [
    "# Request a la web\n",
    "\n",
    "url = 'https://es.wikipedia.org/wiki/Anexo:Los_100_mejores_artistas_de_la_Historia_seg%C3%BAn_la_revista_Rolling_Stone'\n",
    "html = requests.get(url).content\n",
    "soup = BeautifulSoup(html, 'html.parser')"
   ]
  },
  {
   "cell_type": "code",
   "execution_count": 9,
   "metadata": {},
   "outputs": [],
   "source": [
    "# Extrar la tabla con los artistas y el pais de procedencia\n",
    "\n",
    "table = soup.find_all('table',{'class':'wikitable'})[0]\n",
    "\n",
    "rows = table.find_all('tr')\n",
    "rows = [row.text.strip().split(\"\\n\") for row in rows]\n",
    "rows.pop(0)\n",
    "for row in rows:\n",
    "    row.pop(0) and row.pop(0)\n",
    "\n",
    "# ARREGLAR AQUI LOS PAISES DUPLICADOS"
   ]
  },
  {
   "cell_type": "code",
   "execution_count": 22,
   "metadata": {
    "scrolled": true
   },
   "outputs": [
    {
     "data": {
      "text/html": [
       "<div>\n",
       "<style scoped>\n",
       "    .dataframe tbody tr th:only-of-type {\n",
       "        vertical-align: middle;\n",
       "    }\n",
       "\n",
       "    .dataframe tbody tr th {\n",
       "        vertical-align: top;\n",
       "    }\n",
       "\n",
       "    .dataframe thead th {\n",
       "        text-align: right;\n",
       "    }\n",
       "</style>\n",
       "<table border=\"1\" class=\"dataframe\">\n",
       "  <thead>\n",
       "    <tr style=\"text-align: right;\">\n",
       "      <th></th>\n",
       "      <th>Artist</th>\n",
       "      <th>Country_proc</th>\n",
       "    </tr>\n",
       "  </thead>\n",
       "  <tbody>\n",
       "    <tr>\n",
       "      <th>0</th>\n",
       "      <td>The Beatles</td>\n",
       "      <td>Reino Unido</td>\n",
       "    </tr>\n",
       "    <tr>\n",
       "      <th>1</th>\n",
       "      <td>Bob Dylan</td>\n",
       "      <td>Estados Unidos</td>\n",
       "    </tr>\n",
       "    <tr>\n",
       "      <th>2</th>\n",
       "      <td>Elvis Presley</td>\n",
       "      <td>Estados Unidos</td>\n",
       "    </tr>\n",
       "    <tr>\n",
       "      <th>3</th>\n",
       "      <td>The Rolling Stones</td>\n",
       "      <td>Reino Unido</td>\n",
       "    </tr>\n",
       "    <tr>\n",
       "      <th>4</th>\n",
       "      <td>Chuck Berry</td>\n",
       "      <td>Estados Unidos</td>\n",
       "    </tr>\n",
       "  </tbody>\n",
       "</table>\n",
       "</div>"
      ],
      "text/plain": [
       "               Artist    Country_proc\n",
       "0         The Beatles     Reino Unido\n",
       "1           Bob Dylan  Estados Unidos\n",
       "2       Elvis Presley  Estados Unidos\n",
       "3  The Rolling Stones     Reino Unido\n",
       "4         Chuck Berry  Estados Unidos"
      ]
     },
     "execution_count": 22,
     "metadata": {},
     "output_type": "execute_result"
    }
   ],
   "source": [
    "# Crear la tabla con pandas\n",
    "colnames = ['Artist','Country_proc']\n",
    "data = rows\n",
    "\n",
    "music_artist = pd.DataFrame(data, columns=colnames)\n",
    "\n",
    "country= list(music_artist['Country_proc'])\n",
    "\n",
    "country = [x.replace('Reino Unido\\xa0Reino Unido','Reino Unido')\n",
    "           .replace('Estados Unidos\\xa0Estados Unidos','Estados Unidos')\n",
    "           .replace('Jamaica\\xa0Jamaica','Jamaica').replace('Irlanda\\xa0Irlanda','Irlanda')\n",
    "           .replace('Canadá\\xa0Canadá','Canadá').replace('Australia\\xa0Australia','Australia')\n",
    "           .replace('México México','México')for x in country]\n",
    "\n",
    "music_artist['Country_proc']=country\n",
    "\n",
    "music_artist.head()\n"
   ]
  },
  {
   "cell_type": "markdown",
   "metadata": {},
   "source": [
    "##2. Hacer peticiones a la API (songkick) para cada uno de los artistas extraidos de los eventos pasados.\n",
    "\n",
    "- Debo pedir a la API la api key para poder hacer peticiones: 7 DIAS TARDA?????\n",
    "\n",
    "https://app.swaggerhub.com/apis/Bandsintown/PublicAPI/3.0.0\n",
    "\n",
    "- Despues ya puedo hacer una petición para cada artista con los eventos de cada uno de ellos\n",
    "https://api.songkick.com/api/3.0/artists/{artist_id}/gigography.json?apikey={your_api_key}\n",
    "\n"
   ]
  },
  {
   "cell_type": "code",
   "execution_count": null,
   "metadata": {},
   "outputs": [],
   "source": [
    "\n",
    "\n"
   ]
  }
 ],
 "metadata": {
  "kernelspec": {
   "display_name": "Python 3",
   "language": "python",
   "name": "python3"
  },
  "language_info": {
   "codemirror_mode": {
    "name": "ipython",
    "version": 3
   },
   "file_extension": ".py",
   "mimetype": "text/x-python",
   "name": "python",
   "nbconvert_exporter": "python",
   "pygments_lexer": "ipython3",
   "version": "3.6.7"
  }
 },
 "nbformat": 4,
 "nbformat_minor": 2
}
