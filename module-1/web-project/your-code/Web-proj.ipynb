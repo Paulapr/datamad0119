{
 "cells": [
  {
   "cell_type": "code",
   "execution_count": null,
   "metadata": {},
   "outputs": [],
   "source": [
    "import requests\n",
    "import json\n",
    "import pandas as pd\n",
    "from bs4 import BeautifulSoup"
   ]
  },
  {
   "cell_type": "markdown",
   "metadata": {},
   "source": [
    "##1. Web scraping: Extraer lista: Los 100 mejores artistas de la Historia según la revista Rolling Stone"
   ]
  },
  {
   "cell_type": "code",
   "execution_count": null,
   "metadata": {},
   "outputs": [],
   "source": [
    "# Request a la web\n",
    "\n",
    "url = 'https://es.wikipedia.org/wiki/Anexo:Los_100_mejores_artistas_de_la_Historia_seg%C3%BAn_la_revista_Rolling_Stone'\n",
    "html = requests.get(url).content\n",
    "soup = BeautifulSoup(html, 'html.parser')"
   ]
  },
  {
   "cell_type": "code",
   "execution_count": null,
   "metadata": {},
   "outputs": [],
   "source": [
    "# Extrar la tabla con los artistas y el pais de procedencia\n",
    "\n",
    "table = soup.find_all('table',{'class':'wikitable'})[0]\n",
    "\n",
    "rows = table.find_all('tr')\n",
    "rows = [row.text.strip().split(\"\\n\") for row in rows]\n",
    "rows.pop(0)\n",
    "for row in rows:\n",
    "    row.pop(0) and row.pop(0)\n",
    "\n",
    "# ARREGLAR AQUI LOS PAISES DUPLICADOS"
   ]
  },
  {
   "cell_type": "code",
   "execution_count": null,
   "metadata": {
    "scrolled": true
   },
   "outputs": [],
   "source": [
    "# Crear la tabla con pandas\n",
    "colnames = ['Artist','Country_proc']\n",
    "data = rows\n",
    "\n",
    "music_artist = pd.DataFrame(data, columns=colnames)\n",
    "\n",
    "country= list(music_artist['Country_proc'])\n",
    "\n",
    "country = [x.replace('Reino Unido\\xa0Reino Unido','Reino Unido')\n",
    "           .replace('Estados Unidos\\xa0Estados Unidos','Estados Unidos')\n",
    "           .replace('Jamaica\\xa0Jamaica','Jamaica').replace('Irlanda\\xa0Irlanda','Irlanda')\n",
    "           .replace('Canadá\\xa0Canadá','Canadá').replace('Australia\\xa0Australia','Australia')\n",
    "           .replace('México México','México')for x in country]\n",
    "\n",
    "music_artist['Country_proc']=country\n",
    "\n",
    "music_artist.head()\n"
   ]
  },
  {
   "cell_type": "markdown",
   "metadata": {},
   "source": [
    "##2. Hacer peticiones a la API (songkick) para cada uno de los artistas extraidos de los eventos pasados.\n",
    "\n",
    "https://app.swaggerhub.com/apis/Bandsintown/PublicAPI/3.0.0\n",
    "Songkick, Bandsintown: No consigo la app_id o la key para acceder. \n",
    "\n",
    "Musicbrainzngs / Documentación\n",
    "https://musicbrainz.org/doc/Development/XML_Web_Service/Version_2\n",
    "https://musicbrainz.org/doc/XML_Web_Service/Rate_Limiting#Provide_meaningful_User-Agent_strings\n",
    "https://python-musicbrainzngs.readthedocs.io/en/v0.6/\n",
    "https://python-musicbrainzngs.readthedocs.io/en/v0.6/usage/\n",
    "https://python-musicbrainzngs.readthedocs.io/en/v0.6/api/\n",
    "https://github.com/alastair/python-musicbrainzngs/tree/master/examples"
   ]
  },
  {
   "cell_type": "code",
   "execution_count": null,
   "metadata": {},
   "outputs": [],
   "source": [
    "import musicbrainzngs"
   ]
  },
  {
   "cell_type": "code",
   "execution_count": null,
   "metadata": {},
   "outputs": [],
   "source": [
    "musicbrainzngs.set_useragent(\n",
    "    \"web_project/Ironhack\",\n",
    "    \"1.0\",\n",
    "    \"postigorpaula@gmail.com\",\n",
    ")\n",
    "\n",
    "\n",
    "prueba = musicbrainzngs.search_release_groups(\"Bob Marley\")\n",
    "prueba"
   ]
  },
  {
   "cell_type": "code",
   "execution_count": null,
   "metadata": {},
   "outputs": [],
   "source": []
  }
 ],
 "metadata": {
  "kernelspec": {
   "display_name": "Python 3",
   "language": "python",
   "name": "python3"
  },
  "language_info": {
   "codemirror_mode": {
    "name": "ipython",
    "version": 3
   },
   "file_extension": ".py",
   "mimetype": "text/x-python",
   "name": "python",
   "nbconvert_exporter": "python",
   "pygments_lexer": "ipython3",
   "version": "3.6.7"
  }
 },
 "nbformat": 4,
 "nbformat_minor": 2
}
