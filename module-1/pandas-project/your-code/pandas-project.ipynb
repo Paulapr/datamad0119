{
 "cells": [
  {
   "cell_type": "code",
   "execution_count": 1,
   "metadata": {},
   "outputs": [],
   "source": [
    "import pandas as pd\n",
    "import numpy as np\n",
    "import os"
   ]
  },
  {
   "cell_type": "markdown",
   "metadata": {},
   "source": [
    "1. Importar el archivo de la base de datos 'Global shark attack incidents'."
   ]
  },
  {
   "cell_type": "code",
   "execution_count": 2,
   "metadata": {},
   "outputs": [
    {
     "data": {
      "text/html": [
       "<div>\n",
       "<style scoped>\n",
       "    .dataframe tbody tr th:only-of-type {\n",
       "        vertical-align: middle;\n",
       "    }\n",
       "\n",
       "    .dataframe tbody tr th {\n",
       "        vertical-align: top;\n",
       "    }\n",
       "\n",
       "    .dataframe thead th {\n",
       "        text-align: right;\n",
       "    }\n",
       "</style>\n",
       "<table border=\"1\" class=\"dataframe\">\n",
       "  <thead>\n",
       "    <tr style=\"text-align: right;\">\n",
       "      <th></th>\n",
       "      <th>Case Number</th>\n",
       "      <th>Date</th>\n",
       "      <th>Year</th>\n",
       "      <th>Type</th>\n",
       "      <th>Country</th>\n",
       "      <th>Area</th>\n",
       "      <th>Location</th>\n",
       "      <th>Activity</th>\n",
       "      <th>Name</th>\n",
       "      <th>Sex</th>\n",
       "      <th>...</th>\n",
       "      <th>Species</th>\n",
       "      <th>Investigator or Source</th>\n",
       "      <th>pdf</th>\n",
       "      <th>href formula</th>\n",
       "      <th>href</th>\n",
       "      <th>Case Number.1</th>\n",
       "      <th>Case Number.2</th>\n",
       "      <th>original order</th>\n",
       "      <th>Unnamed: 22</th>\n",
       "      <th>Unnamed: 23</th>\n",
       "    </tr>\n",
       "  </thead>\n",
       "  <tbody>\n",
       "    <tr>\n",
       "      <th>0</th>\n",
       "      <td>2016.09.18.c</td>\n",
       "      <td>18-Sep-16</td>\n",
       "      <td>2016</td>\n",
       "      <td>Unprovoked</td>\n",
       "      <td>USA</td>\n",
       "      <td>Florida</td>\n",
       "      <td>New Smyrna Beach, Volusia County</td>\n",
       "      <td>Surfing</td>\n",
       "      <td>male</td>\n",
       "      <td>M</td>\n",
       "      <td>...</td>\n",
       "      <td>NaN</td>\n",
       "      <td>Orlando Sentinel, 9/19/2016</td>\n",
       "      <td>2016.09.18.c-NSB.pdf</td>\n",
       "      <td>http://sharkattackfile.net/spreadsheets/pdf_di...</td>\n",
       "      <td>http://sharkattackfile.net/spreadsheets/pdf_di...</td>\n",
       "      <td>2016.09.18.c</td>\n",
       "      <td>2016.09.18.c</td>\n",
       "      <td>5993</td>\n",
       "      <td>NaN</td>\n",
       "      <td>NaN</td>\n",
       "    </tr>\n",
       "    <tr>\n",
       "      <th>1</th>\n",
       "      <td>2016.09.18.b</td>\n",
       "      <td>18-Sep-16</td>\n",
       "      <td>2016</td>\n",
       "      <td>Unprovoked</td>\n",
       "      <td>USA</td>\n",
       "      <td>Florida</td>\n",
       "      <td>New Smyrna Beach, Volusia County</td>\n",
       "      <td>Surfing</td>\n",
       "      <td>Chucky Luciano</td>\n",
       "      <td>M</td>\n",
       "      <td>...</td>\n",
       "      <td>NaN</td>\n",
       "      <td>Orlando Sentinel, 9/19/2016</td>\n",
       "      <td>2016.09.18.b-Luciano.pdf</td>\n",
       "      <td>http://sharkattackfile.net/spreadsheets/pdf_di...</td>\n",
       "      <td>http://sharkattackfile.net/spreadsheets/pdf_di...</td>\n",
       "      <td>2016.09.18.b</td>\n",
       "      <td>2016.09.18.b</td>\n",
       "      <td>5992</td>\n",
       "      <td>NaN</td>\n",
       "      <td>NaN</td>\n",
       "    </tr>\n",
       "    <tr>\n",
       "      <th>2</th>\n",
       "      <td>2016.09.18.a</td>\n",
       "      <td>18-Sep-16</td>\n",
       "      <td>2016</td>\n",
       "      <td>Unprovoked</td>\n",
       "      <td>USA</td>\n",
       "      <td>Florida</td>\n",
       "      <td>New Smyrna Beach, Volusia County</td>\n",
       "      <td>Surfing</td>\n",
       "      <td>male</td>\n",
       "      <td>M</td>\n",
       "      <td>...</td>\n",
       "      <td>NaN</td>\n",
       "      <td>Orlando Sentinel, 9/19/2016</td>\n",
       "      <td>2016.09.18.a-NSB.pdf</td>\n",
       "      <td>http://sharkattackfile.net/spreadsheets/pdf_di...</td>\n",
       "      <td>http://sharkattackfile.net/spreadsheets/pdf_di...</td>\n",
       "      <td>2016.09.18.a</td>\n",
       "      <td>2016.09.18.a</td>\n",
       "      <td>5991</td>\n",
       "      <td>NaN</td>\n",
       "      <td>NaN</td>\n",
       "    </tr>\n",
       "    <tr>\n",
       "      <th>3</th>\n",
       "      <td>2016.09.17</td>\n",
       "      <td>17-Sep-16</td>\n",
       "      <td>2016</td>\n",
       "      <td>Unprovoked</td>\n",
       "      <td>AUSTRALIA</td>\n",
       "      <td>Victoria</td>\n",
       "      <td>Thirteenth Beach</td>\n",
       "      <td>Surfing</td>\n",
       "      <td>Rory Angiolella</td>\n",
       "      <td>M</td>\n",
       "      <td>...</td>\n",
       "      <td>NaN</td>\n",
       "      <td>The Age, 9/18/2016</td>\n",
       "      <td>2016.09.17-Angiolella.pdf</td>\n",
       "      <td>http://sharkattackfile.net/spreadsheets/pdf_di...</td>\n",
       "      <td>http://sharkattackfile.net/spreadsheets/pdf_di...</td>\n",
       "      <td>2016.09.17</td>\n",
       "      <td>2016.09.17</td>\n",
       "      <td>5990</td>\n",
       "      <td>NaN</td>\n",
       "      <td>NaN</td>\n",
       "    </tr>\n",
       "    <tr>\n",
       "      <th>4</th>\n",
       "      <td>2016.09.15</td>\n",
       "      <td>16-Sep-16</td>\n",
       "      <td>2016</td>\n",
       "      <td>Unprovoked</td>\n",
       "      <td>AUSTRALIA</td>\n",
       "      <td>Victoria</td>\n",
       "      <td>Bells Beach</td>\n",
       "      <td>Surfing</td>\n",
       "      <td>male</td>\n",
       "      <td>M</td>\n",
       "      <td>...</td>\n",
       "      <td>2 m shark</td>\n",
       "      <td>The Age, 9/16/2016</td>\n",
       "      <td>2016.09.16-BellsBeach.pdf</td>\n",
       "      <td>http://sharkattackfile.net/spreadsheets/pdf_di...</td>\n",
       "      <td>http://sharkattackfile.net/spreadsheets/pdf_di...</td>\n",
       "      <td>2016.09.16</td>\n",
       "      <td>2016.09.15</td>\n",
       "      <td>5989</td>\n",
       "      <td>NaN</td>\n",
       "      <td>NaN</td>\n",
       "    </tr>\n",
       "  </tbody>\n",
       "</table>\n",
       "<p>5 rows × 24 columns</p>\n",
       "</div>"
      ],
      "text/plain": [
       "    Case Number       Date  Year        Type    Country      Area  \\\n",
       "0  2016.09.18.c  18-Sep-16  2016  Unprovoked        USA   Florida   \n",
       "1  2016.09.18.b  18-Sep-16  2016  Unprovoked        USA   Florida   \n",
       "2  2016.09.18.a  18-Sep-16  2016  Unprovoked        USA   Florida   \n",
       "3    2016.09.17  17-Sep-16  2016  Unprovoked  AUSTRALIA  Victoria   \n",
       "4    2016.09.15  16-Sep-16  2016  Unprovoked  AUSTRALIA  Victoria   \n",
       "\n",
       "                           Location Activity             Name Sex   \\\n",
       "0  New Smyrna Beach, Volusia County  Surfing             male    M   \n",
       "1  New Smyrna Beach, Volusia County  Surfing   Chucky Luciano    M   \n",
       "2  New Smyrna Beach, Volusia County  Surfing             male    M   \n",
       "3                  Thirteenth Beach  Surfing  Rory Angiolella    M   \n",
       "4                       Bells Beach  Surfing             male    M   \n",
       "\n",
       "      ...       Species        Investigator or Source  \\\n",
       "0     ...            NaN  Orlando Sentinel, 9/19/2016   \n",
       "1     ...            NaN  Orlando Sentinel, 9/19/2016   \n",
       "2     ...            NaN  Orlando Sentinel, 9/19/2016   \n",
       "3     ...            NaN           The Age, 9/18/2016   \n",
       "4     ...      2 m shark           The Age, 9/16/2016   \n",
       "\n",
       "                         pdf  \\\n",
       "0       2016.09.18.c-NSB.pdf   \n",
       "1   2016.09.18.b-Luciano.pdf   \n",
       "2       2016.09.18.a-NSB.pdf   \n",
       "3  2016.09.17-Angiolella.pdf   \n",
       "4  2016.09.16-BellsBeach.pdf   \n",
       "\n",
       "                                        href formula  \\\n",
       "0  http://sharkattackfile.net/spreadsheets/pdf_di...   \n",
       "1  http://sharkattackfile.net/spreadsheets/pdf_di...   \n",
       "2  http://sharkattackfile.net/spreadsheets/pdf_di...   \n",
       "3  http://sharkattackfile.net/spreadsheets/pdf_di...   \n",
       "4  http://sharkattackfile.net/spreadsheets/pdf_di...   \n",
       "\n",
       "                                                href Case Number.1  \\\n",
       "0  http://sharkattackfile.net/spreadsheets/pdf_di...  2016.09.18.c   \n",
       "1  http://sharkattackfile.net/spreadsheets/pdf_di...  2016.09.18.b   \n",
       "2  http://sharkattackfile.net/spreadsheets/pdf_di...  2016.09.18.a   \n",
       "3  http://sharkattackfile.net/spreadsheets/pdf_di...    2016.09.17   \n",
       "4  http://sharkattackfile.net/spreadsheets/pdf_di...    2016.09.16   \n",
       "\n",
       "  Case Number.2 original order Unnamed: 22 Unnamed: 23  \n",
       "0  2016.09.18.c           5993         NaN         NaN  \n",
       "1  2016.09.18.b           5992         NaN         NaN  \n",
       "2  2016.09.18.a           5991         NaN         NaN  \n",
       "3    2016.09.17           5990         NaN         NaN  \n",
       "4    2016.09.15           5989         NaN         NaN  \n",
       "\n",
       "[5 rows x 24 columns]"
      ]
     },
     "execution_count": 2,
     "metadata": {},
     "output_type": "execute_result"
    }
   ],
   "source": [
    "shark_attack = pd.read_csv('GSAF5.csv', encoding = 'latin1')\n",
    "shark_attack.head()"
   ]
  },
  {
   "cell_type": "markdown",
   "metadata": {},
   "source": [
    "2. Ver el numero de nulos por columna y los nombres de éstas"
   ]
  },
  {
   "cell_type": "code",
   "execution_count": 3,
   "metadata": {},
   "outputs": [
    {
     "data": {
      "text/plain": [
       "Country                     43\n",
       "Area                       402\n",
       "Location                   496\n",
       "Activity                   527\n",
       "Name                       200\n",
       "Sex                        567\n",
       "Age                       2681\n",
       "Injury                      27\n",
       "Fatal (Y/N)                 19\n",
       "Time                      3213\n",
       "Species                   2934\n",
       "Investigator or Source      15\n",
       "href formula                 1\n",
       "href                         3\n",
       "Unnamed: 22               5991\n",
       "Unnamed: 23               5990\n",
       "dtype: int64"
      ]
     },
     "execution_count": 3,
     "metadata": {},
     "output_type": "execute_result"
    }
   ],
   "source": [
    "nulos = shark_attack.isnull().sum()\n",
    "nulos[nulos > 0]\n",
    "\n",
    "#tiene un total de 5992 filas y 24 columnas"
   ]
  },
  {
   "cell_type": "code",
   "execution_count": 4,
   "metadata": {},
   "outputs": [
    {
     "data": {
      "text/plain": [
       "Index(['Case Number', 'Date', 'Year', 'Type', 'Country', 'Area', 'Location',\n",
       "       'Activity', 'Name', 'Sex ', 'Age', 'Injury', 'Fatal (Y/N)', 'Time',\n",
       "       'Species ', 'Investigator or Source', 'pdf', 'href formula', 'href',\n",
       "       'Case Number.1', 'Case Number.2', 'original order', 'Unnamed: 22',\n",
       "       'Unnamed: 23'],\n",
       "      dtype='object')"
      ]
     },
     "execution_count": 4,
     "metadata": {},
     "output_type": "execute_result"
    }
   ],
   "source": [
    "shark_attack.columns"
   ]
  },
  {
   "cell_type": "markdown",
   "metadata": {},
   "source": [
    "3. Eliminar duplicados en base a las columnas con los datos mas representativos, eliminando columnas repetidas o que no aportan ningun tipo de información."
   ]
  },
  {
   "cell_type": "code",
   "execution_count": 5,
   "metadata": {},
   "outputs": [
    {
     "name": "stdout",
     "output_type": "stream",
     "text": [
      "Numero de registros duplicados:  0\n"
     ]
    }
   ],
   "source": [
    "before = len(shark_attack)\n",
    "\n",
    "select_columns = ['Case Number','Date', 'Year', 'Type', 'Country', 'Area', 'Location',\n",
    "       'Activity', 'Name', 'Sex ', 'Age', 'Injury', 'Fatal (Y/N)', 'Time',\n",
    "       'Species ']\n",
    "\n",
    "shark_attack = shark_attack[select_columns].drop_duplicates()\n",
    "\n",
    "after = len(shark_attack)\n",
    "print('Numero de registros duplicados: ', str(before - after))\n"
   ]
  },
  {
   "cell_type": "code",
   "execution_count": 6,
   "metadata": {},
   "outputs": [
    {
     "data": {
      "text/plain": [
       "Index(['Case Number', 'Date', 'Year', 'Type', 'Country', 'Area', 'Location',\n",
       "       'Activity', 'Name', 'Sex ', 'Age', 'Injury', 'Fatal (Y/N)', 'Time',\n",
       "       'Species '],\n",
       "      dtype='object')"
      ]
     },
     "execution_count": 6,
     "metadata": {},
     "output_type": "execute_result"
    }
   ],
   "source": [
    "shark_attack.columns # Columnas que han quedado"
   ]
  },
  {
   "cell_type": "markdown",
   "metadata": {},
   "source": [
    "4. Vuelvo a comprobar los nulos para determinar que columnas son las que pueden aportar mas info. "
   ]
  },
  {
   "cell_type": "code",
   "execution_count": 7,
   "metadata": {},
   "outputs": [
    {
     "data": {
      "text/plain": [
       "Case Number       0\n",
       "Date              0\n",
       "Year              0\n",
       "Type              0\n",
       "Country          43\n",
       "Area            402\n",
       "Location        496\n",
       "Activity        527\n",
       "Name            200\n",
       "Sex             567\n",
       "Age            2681\n",
       "Injury           27\n",
       "Fatal (Y/N)      19\n",
       "Time           3213\n",
       "Species        2934\n",
       "dtype: int64"
      ]
     },
     "execution_count": 7,
     "metadata": {},
     "output_type": "execute_result"
    }
   ],
   "source": [
    "nulos = shark_attack.isnull().sum()\n",
    "nulos"
   ]
  },
  {
   "cell_type": "markdown",
   "metadata": {},
   "source": [
    " *** Al comprobar los nulos de nuevo, se puede observar que las columnas que estan completas son las referentes a la fecha y el tipo de ataque. Los daños causados y el desenlace del ataque tienen nulos pero no demasiados, por lo que pueden ser interesante."
   ]
  },
  {
   "cell_type": "markdown",
   "metadata": {},
   "source": [
    "5. Ordeno las columnas por: Cuando, donde, a quién, como y consecuencias del ataque."
   ]
  },
  {
   "cell_type": "code",
   "execution_count": 8,
   "metadata": {},
   "outputs": [],
   "source": [
    "column_order = ['Case Number','Year','Date',\n",
    "                'Country','Area','Location',\n",
    "                'Name', 'Sex ','Age',\n",
    "                'Type','Activity',\n",
    "                'Injury','Fatal (Y/N)']\n",
    "\n",
    "shark_attack = shark_attack[column_order]\n"
   ]
  },
  {
   "cell_type": "markdown",
   "metadata": {},
   "source": [
    "6. Limpieza de columnas: Year, Case Number, Country, Type, Activity, Injury, Fatal (Y/N)"
   ]
  },
  {
   "cell_type": "code",
   "execution_count": 9,
   "metadata": {},
   "outputs": [
    {
     "data": {
      "text/plain": [
       "Case Number    object\n",
       "Year            int64\n",
       "Date           object\n",
       "Country        object\n",
       "Area           object\n",
       "Location       object\n",
       "Name           object\n",
       "Sex            object\n",
       "Age            object\n",
       "Type           object\n",
       "Activity       object\n",
       "Injury         object\n",
       "Fatal (Y/N)    object\n",
       "dtype: object"
      ]
     },
     "execution_count": 9,
     "metadata": {},
     "output_type": "execute_result"
    }
   ],
   "source": [
    "shark_attack.dtypes # tipo de datos que albergan"
   ]
  },
  {
   "cell_type": "code",
   "execution_count": 10,
   "metadata": {
    "scrolled": true
   },
   "outputs": [],
   "source": [
    "# YEAR:\n",
    "\n",
    "filteredyear = list(shark_attack[(shark_attack['Year']<=500)].index) \n",
    "\n",
    "shark_attack = shark_attack.drop(filteredyear, axis=0)\n",
    "\n",
    "# Elimino los registros que tienen como \"Year\" un año menor que 500, ya que son de dudosa veracidad."
   ]
  },
  {
   "cell_type": "code",
   "execution_count": 11,
   "metadata": {},
   "outputs": [],
   "source": [
    "#Binning Numeric Variables. Categorizo la columna year y añado columna \"Epoca\"\n",
    "\n",
    "bins = [1500,1900,1940,1980,2020]\n",
    "labels = [\"Antes de 1900\",\"1900-1940\",\"1940-1980\",\"1980-Actualidad\"]\n",
    "shark_attack['Epoca'] = pd.cut(shark_attack['Year'], bins=bins, labels=labels)\n",
    "\n",
    "Epoca_count = shark_attack.groupby(shark_attack.Epoca)['Case Number'].nunique()"
   ]
  },
  {
   "cell_type": "code",
   "execution_count": 12,
   "metadata": {},
   "outputs": [],
   "source": [
    "# CASE NUMBER--> Month / Columna categorizada Estacion\n",
    "\n",
    "# Split: dividir fecha y extraer el mes en el que se ha producido el ataque\n",
    "\n",
    "month = []\n",
    "for e in shark_attack[\"Case Number\"]:\n",
    "    aux= e.split(\".\")\n",
    "    month.append(aux[1])\n",
    "    \n",
    "shark_attack['Month'] = pd.Series(month, index=shark_attack.index) # Añadir columna Month al dataframe\n"
   ]
  },
  {
   "cell_type": "code",
   "execution_count": 13,
   "metadata": {},
   "outputs": [],
   "source": [
    "# Observar valores fuera de lo esperado (1-12)\n",
    "\n",
    "shark_attack.Month.unique() \n",
    "\n",
    "filtered1 = shark_attack[(shark_attack['Month'] == '07-10')|(shark_attack['Month'] == '30')] #Filtar erroneos\n",
    "\n",
    "shark_attack.loc[(shark_attack['Month']=='07-10'),'Month'] = '07'   # Reemplazo de dos registros erroneos\n",
    "shark_attack.loc[(shark_attack['Month']=='30'),'Month'] = '08'\n"
   ]
  },
  {
   "cell_type": "code",
   "execution_count": 14,
   "metadata": {},
   "outputs": [],
   "source": [
    "# Cambiar de string a int y categorizar\n",
    "\n",
    "shark_attack['Month'] = shark_attack['Month'].astype('int64')  \n",
    "\n",
    "bins = [-1,0,3,6,9,12]\n",
    "labels = ['Sin datos','Invierno','Primavera','Verano','Otoño']\n",
    "shark_attack['Estacion'] = pd.cut(shark_attack['Month'], bins=bins, labels=labels)\n",
    "\n",
    "Estacion_count = shark_attack.groupby(shark_attack.Estacion)['Case Number'].nunique()"
   ]
  },
  {
   "cell_type": "code",
   "execution_count": 15,
   "metadata": {},
   "outputs": [
    {
     "name": "stdout",
     "output_type": "stream",
     "text": [
      "               Lugar  counts\n",
      "0                USA    2099\n",
      "1          AUSTRALIA    1262\n",
      "2       SOUTH AFRICA     557\n",
      "3   PAPUA NEW GUINEA     129\n",
      "4        NEW ZEALAND     124\n",
      "5             BRAZIL     102\n",
      "6            BAHAMAS      95\n",
      "7             MEXICO      81\n",
      "8              ITALY      69\n",
      "9               FIJI      62\n",
      "10       PHILIPPINES      60\n",
      "11           REUNION      55\n",
      "12     NEW CALEDONIA      51\n",
      "13        MOZAMBIQUE      42\n",
      "14              CUBA      41\n",
      "15             SPAIN      39\n",
      "16             EGYPT      38\n",
      "17             INDIA      35\n",
      "18           CROATIA      34\n",
      "19             JAPAN      32\n",
      "20            PANAMA      30\n",
      "21   SOLOMON ISLANDS      27\n",
      "22              IRAN      25\n",
      "23         HONG KONG      24\n",
      "24           JAMAICA      23\n",
      "25  FRENCH POLYNESIA      21\n",
      "26         INDONESIA      19\n",
      "27            GREECE      19\n",
      "28           ENGLAND      19\n",
      "29     PACIFIC OCEAN      18\n",
      "30             TONGA      18\n"
     ]
    }
   ],
   "source": [
    "# COUNTRY:\n",
    "\n",
    "shark_attack = shark_attack.dropna(subset=['Country']) # Elimino registros con un valor nulo\n",
    "\n",
    "shark_attack['Country'] = shark_attack['Country'].str.upper() # Todo en mayusculas\n",
    "\n",
    "shark_attack['Country'] = shark_attack['Country'].str.replace('?', '') # Quitar ?\n",
    "shark_attack['Country'] = shark_attack['Country'].str.strip(' ') # Quitar espacios al principio y fin del string\n",
    "\n",
    "country_counts = shark_attack['Country'].value_counts() \n",
    "\n",
    "attack_country = country_counts.rename_axis('Lugar').reset_index(name='counts')\n",
    "\n",
    "print (attack_country[0:31]) # Top 30 de paises con mas ataques"
   ]
  },
  {
   "cell_type": "code",
   "execution_count": 16,
   "metadata": {},
   "outputs": [
    {
     "data": {
      "text/plain": [
       "Type\n",
       "Boat             307\n",
       "Invalid          511\n",
       "Provoked         548\n",
       "Sea Disaster     208\n",
       "Unprovoked      4241\n",
       "Name: Case Number, dtype: int64"
      ]
     },
     "execution_count": 16,
     "metadata": {},
     "output_type": "execute_result"
    }
   ],
   "source": [
    "# TYPE --> Esta bastante limpio y sin nulos. \n",
    "\n",
    "shark_attack['Type'] = shark_attack['Type'].str.replace('Boating', 'Boat') # Unificar ambos string\n",
    "\n",
    "Type_count = shark_attack.groupby(shark_attack.Type)['Case Number'].nunique()\n",
    "Type_count"
   ]
  },
  {
   "cell_type": "code",
   "execution_count": 17,
   "metadata": {},
   "outputs": [
    {
     "data": {
      "text/html": [
       "<div>\n",
       "<style scoped>\n",
       "    .dataframe tbody tr th:only-of-type {\n",
       "        vertical-align: middle;\n",
       "    }\n",
       "\n",
       "    .dataframe tbody tr th {\n",
       "        vertical-align: top;\n",
       "    }\n",
       "\n",
       "    .dataframe thead th {\n",
       "        text-align: right;\n",
       "    }\n",
       "</style>\n",
       "<table border=\"1\" class=\"dataframe\">\n",
       "  <thead>\n",
       "    <tr style=\"text-align: right;\">\n",
       "      <th></th>\n",
       "      <th>Activity</th>\n",
       "      <th>counts</th>\n",
       "    </tr>\n",
       "  </thead>\n",
       "  <tbody>\n",
       "    <tr>\n",
       "      <th>0</th>\n",
       "      <td>Surfing</td>\n",
       "      <td>903</td>\n",
       "    </tr>\n",
       "    <tr>\n",
       "      <th>1</th>\n",
       "      <td>Swimming</td>\n",
       "      <td>799</td>\n",
       "    </tr>\n",
       "    <tr>\n",
       "      <th>2</th>\n",
       "      <td>Fishing</td>\n",
       "      <td>407</td>\n",
       "    </tr>\n",
       "    <tr>\n",
       "      <th>3</th>\n",
       "      <td>Spearfishing</td>\n",
       "      <td>320</td>\n",
       "    </tr>\n",
       "    <tr>\n",
       "      <th>4</th>\n",
       "      <td>Bathing</td>\n",
       "      <td>148</td>\n",
       "    </tr>\n",
       "    <tr>\n",
       "      <th>5</th>\n",
       "      <td>Wading</td>\n",
       "      <td>141</td>\n",
       "    </tr>\n",
       "    <tr>\n",
       "      <th>6</th>\n",
       "      <td>Diving</td>\n",
       "      <td>107</td>\n",
       "    </tr>\n",
       "    <tr>\n",
       "      <th>7</th>\n",
       "      <td>Standing</td>\n",
       "      <td>95</td>\n",
       "    </tr>\n",
       "    <tr>\n",
       "      <th>8</th>\n",
       "      <td>Snorkeling</td>\n",
       "      <td>76</td>\n",
       "    </tr>\n",
       "    <tr>\n",
       "      <th>9</th>\n",
       "      <td>Scuba diving</td>\n",
       "      <td>73</td>\n",
       "    </tr>\n",
       "    <tr>\n",
       "      <th>10</th>\n",
       "      <td>Body boarding</td>\n",
       "      <td>54</td>\n",
       "    </tr>\n",
       "    <tr>\n",
       "      <th>11</th>\n",
       "      <td>Body surfing</td>\n",
       "      <td>48</td>\n",
       "    </tr>\n",
       "  </tbody>\n",
       "</table>\n",
       "</div>"
      ],
      "text/plain": [
       "         Activity  counts\n",
       "0         Surfing     903\n",
       "1        Swimming     799\n",
       "2         Fishing     407\n",
       "3    Spearfishing     320\n",
       "4         Bathing     148\n",
       "5          Wading     141\n",
       "6          Diving     107\n",
       "7        Standing      95\n",
       "8      Snorkeling      76\n",
       "9    Scuba diving      73\n",
       "10  Body boarding      54\n",
       "11   Body surfing      48"
      ]
     },
     "execution_count": 17,
     "metadata": {},
     "output_type": "execute_result"
    }
   ],
   "source": [
    "# ACTIVITY\n",
    "\n",
    "activity_counts = shark_attack['Activity'].value_counts() \n",
    "\n",
    "attack_activity = activity_counts.rename_axis('Activity').reset_index(name='counts')\n",
    "\n",
    "# print (attack_activity) # Ver que categorias se repiten mas.\n",
    "\n",
    "shark_attack['Activity'] = shark_attack['Activity'].fillna(\"Sin datos\")  # Sustituyo los nulos\n",
    "\n",
    "# Voy a unificar en las siguientes el mayor numero posible: Surfing, Swimming, Fishing, Diving, Bathing, Boating\n",
    "\n",
    "shark_attack.loc[shark_attack['Activity'].str.contains('surfing'), 'Activity'] = 'Surfing'\n",
    "shark_attack.loc[shark_attack['Activity'].str.contains('Surf'), 'Activity'] = 'Surfing'\n",
    "shark_attack.loc[shark_attack['Activity'].str.contains('Surf-'), 'Activity'] = 'Surfing'\n",
    "shark_attack.loc[shark_attack['Activity'].str.contains('fishing'), 'Activity'] = 'Fishing'\n",
    "shark_attack.loc[shark_attack['Activity'].str.contains('Fishing '), 'Activity'] = 'Fishing'\n",
    "shark_attack.loc[shark_attack['Activity'].str.contains('diving'), 'Activity'] = 'Diving'\n",
    "\n",
    "shark_attack['Activity'] = shark_attack['Activity'].str.replace('Wading', 'Bathing')\n",
    "shark_attack['Activity'] = shark_attack['Activity'].str.replace('Standing', 'Bathing')\n",
    "shark_attack['Activity'] = shark_attack['Activity'].str.replace('Snorkeling', 'Bathing')\n",
    "shark_attack['Activity'] = shark_attack['Activity'].str.replace('Body boarding', 'Surfing')\n",
    "\n",
    "attack_activity[0:12] # Top 10 actividades mas comunes al ocurrir el ataque. \n",
    "\n",
    "# No conseguido unificar el Swimming. Tampoco hay que tener en cuenta el Sin datos, son los nulos."
   ]
  },
  {
   "cell_type": "code",
   "execution_count": 18,
   "metadata": {},
   "outputs": [
    {
     "data": {
      "text/plain": [
       "Varios          1778\n",
       "Bitten          1326\n",
       "Mortal           977\n",
       "Laceraciones     865\n",
       "No injury        699\n",
       "Minor injury     115\n",
       "No details        67\n",
       "Name: Injury, dtype: int64"
      ]
     },
     "execution_count": 18,
     "metadata": {},
     "output_type": "execute_result"
    }
   ],
   "source": [
    "# INJURY -- MUY SUCIA\n",
    "\n",
    "shark_attack['Injury'] = shark_attack['Injury'].fillna(\"No details\")  # Sustituyo los nulos\n",
    "\n",
    "# Reunificar un poco los parámetros de la columna\n",
    "\n",
    "shark_attack.loc[shark_attack['Injury'].str.contains('Lacerations'), 'Injury'] = 'Laceraciones'\n",
    "shark_attack.loc[shark_attack['Injury'].str.contains('lacerated'), 'Injury'] = 'Laceraciones'\n",
    "shark_attack.loc[shark_attack['Injury'].str.contains('Minor injury'), 'Injury'] = 'Minor injury'\n",
    "shark_attack.loc[shark_attack['Injury'].str.contains('No injury'), 'Injury'] = 'No injury'\n",
    "shark_attack.loc[shark_attack['Injury'].str.contains('bitten'), 'Injury'] = 'Bitten'\n",
    "shark_attack.loc[shark_attack['Injury'].str.contains('FATAL'), 'Injury'] = 'Mortal'\n",
    "shark_attack.loc[shark_attack['Injury'].str.contains('Minor injuries'), 'Injury'] = 'Minor injury'\n",
    "\n",
    "shark_attack.loc[(shark_attack['Injury']!= 'Bitten')&\n",
    "                 (shark_attack['Injury']!= 'Laceraciones')&\n",
    "                 (shark_attack['Injury']!= 'Minor injury')&\n",
    "                 (shark_attack['Injury']!= 'No injury')&\n",
    "                 (shark_attack['Injury']!= 'Mortal')&\n",
    "                 (shark_attack['Injury']!= 'No details'), 'Injury'] = 'Varios'\n",
    "\n",
    "Injury_counts = shark_attack['Injury'].value_counts() \n",
    "\n",
    "Injury_counts  # Top 7 de consecuencias del ataque"
   ]
  },
  {
   "cell_type": "code",
   "execution_count": 19,
   "metadata": {},
   "outputs": [
    {
     "data": {
      "text/plain": [
       "N          4240\n",
       "Y          1475\n",
       "UNKNOWN     112\n",
       "Name: Mortal, dtype: int64"
      ]
     },
     "execution_count": 19,
     "metadata": {},
     "output_type": "execute_result"
    }
   ],
   "source": [
    "# FATAL (Y/N)\n",
    "\n",
    "shark_attack = shark_attack.rename(columns={'Fatal (Y/N)':'Mortal'})\n",
    "shark_attack['Mortal'] = shark_attack['Mortal'].fillna(\"UNKNOWN\")  # Sustituyo los nulos\n",
    "\n",
    "# primero mirar si a parte de Y/N hay otros errores, sustituir\n",
    "\n",
    "shark_attack['Mortal'] = shark_attack['Mortal'].str.strip(' ') # Quitar espacios al principio y fin del string\n",
    "shark_attack.loc[(shark_attack['Mortal']=='n'),'Mortal'] = 'UNKNOWN'  \n",
    "shark_attack.loc[(shark_attack['Mortal']=='F'),'Mortal'] = 'UNKNOWN'\n",
    "shark_attack.loc[(shark_attack['Mortal']=='#VALUE!'),'Mortal'] = 'UNKNOWN'\n",
    "\n",
    "\n",
    "shark_attack['Mortal'].value_counts() "
   ]
  },
  {
   "cell_type": "code",
   "execution_count": 20,
   "metadata": {},
   "outputs": [
    {
     "data": {
      "text/plain": [
       "M          4698\n",
       "F           570\n",
       "UNKNOWN     559\n",
       "Name: Sex, dtype: int64"
      ]
     },
     "execution_count": 20,
     "metadata": {},
     "output_type": "execute_result"
    }
   ],
   "source": [
    "# SEX\n",
    "shark_attack = shark_attack.rename(columns={'Sex ':'Sex'})\n",
    "\n",
    "shark_attack['Sex'] = shark_attack['Sex'].fillna(\"UNKNOWN\")  # Sustituyo los nulos\n",
    "\n",
    "shark_attack.loc[(shark_attack['Sex']!= 'M')&\n",
    "                 (shark_attack['Sex']!= 'F'), 'Sex'] = 'UNKNOWN'\n",
    "\n",
    "shark_attack['Sex'].value_counts() \n",
    "\n"
   ]
  },
  {
   "cell_type": "markdown",
   "metadata": {},
   "source": [
    "7. Reordenación de columnas, eliminación de algunas"
   ]
  },
  {
   "cell_type": "code",
   "execution_count": 21,
   "metadata": {},
   "outputs": [
    {
     "data": {
      "text/html": [
       "<div>\n",
       "<style scoped>\n",
       "    .dataframe tbody tr th:only-of-type {\n",
       "        vertical-align: middle;\n",
       "    }\n",
       "\n",
       "    .dataframe tbody tr th {\n",
       "        vertical-align: top;\n",
       "    }\n",
       "\n",
       "    .dataframe thead th {\n",
       "        text-align: right;\n",
       "    }\n",
       "</style>\n",
       "<table border=\"1\" class=\"dataframe\">\n",
       "  <thead>\n",
       "    <tr style=\"text-align: right;\">\n",
       "      <th></th>\n",
       "      <th>Ataques</th>\n",
       "      <th>Year</th>\n",
       "      <th>Epoca</th>\n",
       "      <th>Month</th>\n",
       "      <th>Estacion</th>\n",
       "      <th>Country</th>\n",
       "      <th>Sex</th>\n",
       "      <th>Type</th>\n",
       "      <th>Activity</th>\n",
       "      <th>Injury</th>\n",
       "      <th>Mortal</th>\n",
       "    </tr>\n",
       "  </thead>\n",
       "  <tbody>\n",
       "    <tr>\n",
       "      <th>0</th>\n",
       "      <td>0</td>\n",
       "      <td>2016</td>\n",
       "      <td>1980-Actualidad</td>\n",
       "      <td>9</td>\n",
       "      <td>Verano</td>\n",
       "      <td>USA</td>\n",
       "      <td>M</td>\n",
       "      <td>Unprovoked</td>\n",
       "      <td>Surfing</td>\n",
       "      <td>Minor injury</td>\n",
       "      <td>N</td>\n",
       "    </tr>\n",
       "    <tr>\n",
       "      <th>1</th>\n",
       "      <td>1</td>\n",
       "      <td>2016</td>\n",
       "      <td>1980-Actualidad</td>\n",
       "      <td>9</td>\n",
       "      <td>Verano</td>\n",
       "      <td>USA</td>\n",
       "      <td>M</td>\n",
       "      <td>Unprovoked</td>\n",
       "      <td>Surfing</td>\n",
       "      <td>Laceraciones</td>\n",
       "      <td>N</td>\n",
       "    </tr>\n",
       "    <tr>\n",
       "      <th>2</th>\n",
       "      <td>2</td>\n",
       "      <td>2016</td>\n",
       "      <td>1980-Actualidad</td>\n",
       "      <td>9</td>\n",
       "      <td>Verano</td>\n",
       "      <td>USA</td>\n",
       "      <td>M</td>\n",
       "      <td>Unprovoked</td>\n",
       "      <td>Surfing</td>\n",
       "      <td>Laceraciones</td>\n",
       "      <td>N</td>\n",
       "    </tr>\n",
       "    <tr>\n",
       "      <th>3</th>\n",
       "      <td>3</td>\n",
       "      <td>2016</td>\n",
       "      <td>1980-Actualidad</td>\n",
       "      <td>9</td>\n",
       "      <td>Verano</td>\n",
       "      <td>AUSTRALIA</td>\n",
       "      <td>M</td>\n",
       "      <td>Unprovoked</td>\n",
       "      <td>Surfing</td>\n",
       "      <td>Varios</td>\n",
       "      <td>N</td>\n",
       "    </tr>\n",
       "    <tr>\n",
       "      <th>4</th>\n",
       "      <td>4</td>\n",
       "      <td>2016</td>\n",
       "      <td>1980-Actualidad</td>\n",
       "      <td>9</td>\n",
       "      <td>Verano</td>\n",
       "      <td>AUSTRALIA</td>\n",
       "      <td>M</td>\n",
       "      <td>Unprovoked</td>\n",
       "      <td>Surfing</td>\n",
       "      <td>No injury</td>\n",
       "      <td>N</td>\n",
       "    </tr>\n",
       "  </tbody>\n",
       "</table>\n",
       "</div>"
      ],
      "text/plain": [
       "   Ataques  Year            Epoca  Month Estacion    Country Sex        Type  \\\n",
       "0        0  2016  1980-Actualidad      9   Verano        USA   M  Unprovoked   \n",
       "1        1  2016  1980-Actualidad      9   Verano        USA   M  Unprovoked   \n",
       "2        2  2016  1980-Actualidad      9   Verano        USA   M  Unprovoked   \n",
       "3        3  2016  1980-Actualidad      9   Verano  AUSTRALIA   M  Unprovoked   \n",
       "4        4  2016  1980-Actualidad      9   Verano  AUSTRALIA   M  Unprovoked   \n",
       "\n",
       "  Activity        Injury Mortal  \n",
       "0  Surfing  Minor injury      N  \n",
       "1  Surfing  Laceraciones      N  \n",
       "2  Surfing  Laceraciones      N  \n",
       "3  Surfing        Varios      N  \n",
       "4  Surfing     No injury      N  "
      ]
     },
     "execution_count": 21,
     "metadata": {},
     "output_type": "execute_result"
    }
   ],
   "source": [
    "# Añado una columna nueva como index, eliminando 'Case Number'. Reorganizacion de columnas\n",
    "\n",
    "shark_attack['Ataques']=shark_attack.index\n",
    "\n",
    "column_order = ['Ataques','Year','Epoca','Month','Estacion',\n",
    "                'Country','Sex','Type','Activity','Injury','Mortal']\n",
    "\n",
    "\n",
    "shark_attack = shark_attack[column_order]\n",
    "\n",
    "shark_attack.head()"
   ]
  },
  {
   "cell_type": "code",
   "execution_count": 29,
   "metadata": {},
   "outputs": [
    {
     "data": {
      "text/plain": [
       "Ataques     0\n",
       "Year        0\n",
       "Epoca       0\n",
       "Month       0\n",
       "Estacion    0\n",
       "Country     0\n",
       "Sex         0\n",
       "Type        0\n",
       "Activity    0\n",
       "Injury      0\n",
       "Mortal      0\n",
       "dtype: int64"
      ]
     },
     "execution_count": 29,
     "metadata": {},
     "output_type": "execute_result"
    }
   ],
   "source": [
    "# Compruebo los registros nulos. YA no hay ninguno, los he eliminado o los he sustituido por algun parámetro.\n",
    "\n",
    "nulos = shark_attack.isnull().sum()    \n",
    "nulos\n"
   ]
  },
  {
   "cell_type": "code",
   "execution_count": 27,
   "metadata": {},
   "outputs": [],
   "source": [
    "# Genero un archivo .csv con el nuevo data set limpio. (5827 rows × 11 columns)\n",
    "\n",
    "shark_attack.to_csv('shark_attack_limpio.csv', index=False)"
   ]
  },
  {
   "cell_type": "markdown",
   "metadata": {},
   "source": [
    "## Conclusiones:\n",
    "\n",
    "- Los meses en los que se producen mas ataques durante julio, agosto y septiembre.\n",
    "- Los paises en los que hay mas ataques son USA, Australia y Sudáfrica\n",
    "- Los ataques se producen aparentemente sin relación con la actividad, hay aprox el mismo número de ataques\n",
    "  registrados mientras hacian surf, nadaban o se bañaban o mientras buceaban.\n",
    "- En la gran mayoria de los casos no fueron provocados\n",
    "- Aproximadamente un 25% de los ataques son mortales\n",
    "- Solo un 10% de los ataques fueron a mujeres"
   ]
  },
  {
   "cell_type": "markdown",
   "metadata": {},
   "source": [
    "* Me hubiera gustado relacionar los datos de varias columnas para extraer informacion como:\n",
    "- De los ataques en cada uno de los paises donde se producen mas, que porcentaje son mortales.\n",
    "- De los ataques en cada uno de los paises donde se producen mas, en que estación hay mayor numero de ataques.\n",
    "- Relacion entre el tipo de ataque y la actividad que estuviera realizando la victima, y las consecuencias de este.\n",
    "- etc..."
   ]
  }
 ],
 "metadata": {
  "kernelspec": {
   "display_name": "Python 3",
   "language": "python",
   "name": "python3"
  },
  "language_info": {
   "codemirror_mode": {
    "name": "ipython",
    "version": 3
   },
   "file_extension": ".py",
   "mimetype": "text/x-python",
   "name": "python",
   "nbconvert_exporter": "python",
   "pygments_lexer": "ipython3",
   "version": "3.7.1"
  }
 },
 "nbformat": 4,
 "nbformat_minor": 2
}
