{
 "cells": [
  {
   "cell_type": "markdown",
   "metadata": {},
   "source": [
    "#                                    --> PIPELINE PROJECT <--"
   ]
  },
  {
   "cell_type": "code",
   "execution_count": null,
   "metadata": {},
   "outputs": [],
   "source": [
    "# importar modulos necesarios\n",
    "\n",
    "import pandas as pd\n",
    "import numpy as np\n",
    "import re\n",
    "import seaborn as sns\n",
    "import matplotlib.pyplot as plt"
   ]
  },
  {
   "cell_type": "markdown",
   "metadata": {},
   "source": [
    "1. Acquisition"
   ]
  },
  {
   "cell_type": "code",
   "execution_count": null,
   "metadata": {
    "scrolled": true
   },
   "outputs": [],
   "source": [
    "# cargar el dataset elegido\n",
    "\n",
    "avocados = pd.read_csv('avocado.csv')\n"
   ]
  },
  {
   "cell_type": "code",
   "execution_count": null,
   "metadata": {},
   "outputs": [],
   "source": [
    "avocados.shape"
   ]
  },
  {
   "cell_type": "markdown",
   "metadata": {},
   "source": [
    "2. Wrangling"
   ]
  },
  {
   "cell_type": "code",
   "execution_count": null,
   "metadata": {},
   "outputs": [],
   "source": [
    "# comprobar los datos nulos del data set\n",
    "\n",
    "avocados.isnull().sum()  # No hay nulos en ninguna columna"
   ]
  },
  {
   "cell_type": "code",
   "execution_count": null,
   "metadata": {},
   "outputs": [],
   "source": [
    "avocados.columns"
   ]
  },
  {
   "cell_type": "code",
   "execution_count": null,
   "metadata": {},
   "outputs": [],
   "source": [
    "# Comprobar que no hay duplicados\n",
    "before = len(avocados)\n",
    "\n",
    "select_columns = ['Date', 'AveragePrice', 'Total Volume', '4046', '4225',\n",
    "       '4770', 'Total Bags', 'Small Bags', 'Large Bags', 'XLarge Bags', 'type',\n",
    "       'year', 'region']\n",
    "\n",
    "avocados = avocados[select_columns].drop_duplicates()\n",
    "\n",
    "after = len(avocados)\n",
    "\n",
    "print('Numero de registros duplicados: ', str(before - after))"
   ]
  },
  {
   "cell_type": "code",
   "execution_count": null,
   "metadata": {},
   "outputs": [],
   "source": [
    "# Extraer el mes de la columna fecha y desechar el resto\n",
    "month = []\n",
    "for e in avocados[\"Date\"]:\n",
    "    aux= e.split(\"-\")\n",
    "    month.append(aux[1])\n",
    "    \n",
    "avocados['month'] = pd.Series(month, index=avocados.index) # Añadir columna Month al dataframe\n",
    "avocados['Total Volume']= (avocados['Total Volume']/1000)"
   ]
  },
  {
   "cell_type": "code",
   "execution_count": null,
   "metadata": {},
   "outputs": [],
   "source": [
    "# Cambio del orden de las columnas\n",
    "\n",
    "column_order = ['region','year','month','type','AveragePrice','Total Volume','4046','4225',\n",
    "       '4770', 'Total Bags', 'Small Bags', 'Large Bags', 'XLarge Bags']\n",
    "\n",
    "avocados = avocados[column_order]"
   ]
  },
  {
   "cell_type": "code",
   "execution_count": null,
   "metadata": {},
   "outputs": [],
   "source": [
    "# comprobar el tipo de datos de las columnas. cambiar year a objeto\n",
    "\n",
    "avocados['year'] = avocados['year'].astype('object') "
   ]
  },
  {
   "cell_type": "code",
   "execution_count": null,
   "metadata": {},
   "outputs": [],
   "source": [
    "# renombrar algunas columnas\n",
    "\n",
    "avocados.columns = ['Region','Year','Month','Variety','Avg Price','Total Volume-k',\n",
    "                    'S-M size','L size','XL size','Total Bags','S bags','L bags','XL bags']"
   ]
  },
  {
   "cell_type": "code",
   "execution_count": null,
   "metadata": {},
   "outputs": [],
   "source": [
    "# Guardo un csv con los datos manipulados\n",
    "\n",
    "avocados.to_csv('manipulated_avocados.csv',index=False)"
   ]
  },
  {
   "cell_type": "markdown",
   "metadata": {},
   "source": [
    "3.Analysis\n",
    "\n",
    "HIPÓTESIS:\n",
    "- La variedad de aguacate convencional tendrá un precio medio inferior al aguacate orgánico.\n",
    "- Las regiones donde el precio medio sea más alto presentarán un volument total de venta menor\n",
    "- El % que aporten al volumen total (aguacates S-M, aguacates L, aguacares XL y bolsas (mezcla tamaños) tendrán relación con el precio medio.\n"
   ]
  },
  {
   "cell_type": "code",
   "execution_count": null,
   "metadata": {},
   "outputs": [],
   "source": [
    "# Dado que del año 2018 solo hay registros hasta marzo voy a eliminar esos datos\n",
    "filteredyear = list(avocados[(avocados['Year']==2018)].index) \n",
    "avocados = avocados.drop(filteredyear, axis=0)\n"
   ]
  },
  {
   "cell_type": "code",
   "execution_count": null,
   "metadata": {},
   "outputs": [],
   "source": [
    "# Las regiones vienen reflejadas todas juntas de varias maneras: Total US, grandes regiones y por estados.\n",
    "# Voy a separar en 3 dataframe: Uno de regiones, otro del total y otro de ciudades\n",
    "\n",
    "avocados_region = avocados[(avocados['Region'] == 'Plains')|(avocados['Region'] =='West')|\n",
    "                    (avocados['Region'] =='California')|(avocados['Region'] =='SouthCentral')|\n",
    "                    (avocados['Region'] =='Northeast')|(avocados['Region'] =='Southeast')|\n",
    "                    (avocados['Region'] =='GreatLakes')|(avocados['Region'] =='Midsouth')]\n",
    "avocados_totalUS = avocados[(avocados['Region'] == 'TotalUS')]\n",
    "\n",
    "avocados_cities= avocados[(avocados['Region'] != 'Plains')|(avocados['Region'] !='West')|\n",
    "                    (avocados['Region'] !='California')|(avocados['Region'] !='SouthCentral')|\n",
    "                    (avocados['Region'] !='Northeast')|(avocados['Region'] !='Southeast')|\n",
    "                    (avocados['Region'] !='GreatLakes')|(avocados['Region'] !='Midsouth')|\n",
    "                   (avocados['Region'] != 'TotalUS')]"
   ]
  },
  {
   "cell_type": "code",
   "execution_count": null,
   "metadata": {},
   "outputs": [],
   "source": [
    "#VARIEDAD vs AVG PRICE (En todo US)\n",
    "\n",
    "variedad_precio =avocados_region.groupby(['Variety','Year'])['Avg Price'].describe()\n",
    "variedad_precio \n",
    "# Efectivamente el aguacate orgánico es más caro que el convencional. \n",
    "# Por año se observa que se ha incrementado el precio medio en 2017. Aunque no es lineal, en 2016 disminuyó."
   ]
  },
  {
   "cell_type": "code",
   "execution_count": null,
   "metadata": {
    "scrolled": true
   },
   "outputs": [],
   "source": [
    "#VARIEDAD vs AVG PRICE (por regiones y año)\n",
    "\n",
    "variedad_precio_region = pd.pivot_table(avocados_region, values=['Avg Price'], index=['Region'], columns=['Year'])\n",
    "\n",
    "variedad_precio_region"
   ]
  },
  {
   "cell_type": "code",
   "execution_count": null,
   "metadata": {},
   "outputs": [],
   "source": [
    "# VARIEDAD vs. TOTAL VOLUMEN (todo US por año y mes)\n",
    "\n",
    "year_month_volume = pd.pivot_table(avocados_totalUS, values=['Total Volume-k'], index=['Month'], columns=['Year'])\n",
    "\n",
    "year_month_volume"
   ]
  },
  {
   "cell_type": "code",
   "execution_count": null,
   "metadata": {},
   "outputs": [],
   "source": [
    "#VARIEDAD vs TOTALVOLUME (por regiones y año)\n",
    "\n",
    "variedad_volumen_region = pd.pivot_table(avocados_region, values=['Total Volume-k'], index=['Region'], columns=['Year'])\n",
    "\n",
    "variedad_volumen_region"
   ]
  },
  {
   "cell_type": "code",
   "execution_count": null,
   "metadata": {},
   "outputs": [],
   "source": [
    "avocados_region['Total_profit-k']= (avocados_region['Avg Price']*avocados_region['Total Volume-k'])\n",
    "total_profit_region = pd.pivot_table(avocados_region, values=['Total_profit-k'], index=['Region'], columns=['Year']).copy()\n",
    "total_profit_region"
   ]
  },
  {
   "cell_type": "code",
   "execution_count": null,
   "metadata": {},
   "outputs": [],
   "source": [
    "total_volumen_region = pd.pivot_table(avocados_region, values=['Total_profit-k','Total Volume-k'], index=['Region'], columns=['Year'])\n",
    "total_volumen_region"
   ]
  },
  {
   "cell_type": "code",
   "execution_count": null,
   "metadata": {},
   "outputs": [],
   "source": [
    "correlacion1 = avocados_region['Total Volume-k'].corr(avocados_region['Avg Price'])\n",
    "correlacion1"
   ]
  },
  {
   "cell_type": "code",
   "execution_count": null,
   "metadata": {},
   "outputs": [],
   "source": [
    "new_columns = ['perc_S-M size','perc_L size','perc_XL size','perc_Bags','perc_S bags','perc_L bags','perc_XL bags']\n",
    "origin_columns = ['S-M size','L size','XL size','Total Bags','S bags','L bags','XL bags']\n",
    "for n, o in zip(new_columns, origin_columns):\n",
    "    avocados_region[n] = (avocados_region[o]/avocados_region['Total Volume-k'])/10\n",
    "\n",
    "percen_vol= avocados_region[['Region','Year','perc_S-M size','perc_L size','perc_XL size','perc_Bags']].copy()\n",
    "percen_vol = pd.pivot_table(percen_vol, values=['perc_S-M size','perc_L size','perc_XL size','perc_Bags'], index=['Region'],columns=['Year'])\n",
    "\n",
    "print(\"Porcentajes de aporte al volumen total:\\n{}\".format(percen_vol))"
   ]
  },
  {
   "cell_type": "markdown",
   "metadata": {},
   "source": [
    "4. Visualizacion"
   ]
  },
  {
   "cell_type": "code",
   "execution_count": null,
   "metadata": {},
   "outputs": [],
   "source": [
    "import matplotlib.pyplot as plt  \n",
    "    \n",
    "title = 'Total volumen de venta por mes (2015, 2016 y 2017)'\n",
    "\n",
    "fig, ax = plt.subplots(figsize=(15,8))\n",
    "barchart = sns.barplot(data=avocados_totalUS, x=('Month'), y='Total Volume-k')\n",
    "plt.title(title + \"\\n\", fontsize=16)"
   ]
  },
  {
   "cell_type": "code",
   "execution_count": null,
   "metadata": {},
   "outputs": [],
   "source": [
    "title = 'Precio medio de venta'\n",
    "\n",
    "fig, ax = plt.subplots(figsize=(15,8))\n",
    "barchart = sns.barplot(data=avocados_totalUS, x=('Month'), y='Avg Price')\n",
    "plt.title(title + \"\\n\", fontsize=16)"
   ]
  },
  {
   "cell_type": "code",
   "execution_count": null,
   "metadata": {},
   "outputs": [],
   "source": [
    "sns.boxplot(y=\"Variety\", x=\"Avg Price\", data=avocados, palette = 'Purples')"
   ]
  }
 ],
 "metadata": {
  "kernelspec": {
   "display_name": "Python 3",
   "language": "python",
   "name": "python3"
  },
  "language_info": {
   "codemirror_mode": {
    "name": "ipython",
    "version": 3
   },
   "file_extension": ".py",
   "mimetype": "text/x-python",
   "name": "python",
   "nbconvert_exporter": "python",
   "pygments_lexer": "ipython3",
   "version": "3.6.7"
  }
 },
 "nbformat": 4,
 "nbformat_minor": 2
}
