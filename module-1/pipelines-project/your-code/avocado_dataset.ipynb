{
 "cells": [
  {
   "cell_type": "markdown",
   "metadata": {},
   "source": [
    "#                                    --> PIPELINE PROJECT <--"
   ]
  },
  {
   "cell_type": "code",
   "execution_count": 2,
   "metadata": {},
   "outputs": [],
   "source": [
    "# importar modulos necesarios\n",
    "\n",
    "import pandas as pd\n",
    "import numpy as np\n",
    "import re\n",
    "import seaborn as sns\n",
    "import matplotlib.pyplot as plt"
   ]
  },
  {
   "cell_type": "markdown",
   "metadata": {},
   "source": [
    "1. Acquisition"
   ]
  },
  {
   "cell_type": "code",
   "execution_count": 16,
   "metadata": {
    "scrolled": true
   },
   "outputs": [],
   "source": [
    "# cargar el dataset elegido\n",
    "\n",
    "avocados = pd.read_csv('avocado.csv')\n"
   ]
  },
  {
   "cell_type": "code",
   "execution_count": 17,
   "metadata": {},
   "outputs": [
    {
     "data": {
      "text/plain": [
       "(18249, 14)"
      ]
     },
     "execution_count": 17,
     "metadata": {},
     "output_type": "execute_result"
    }
   ],
   "source": [
    "avocados.shape"
   ]
  },
  {
   "cell_type": "markdown",
   "metadata": {},
   "source": [
    "2. Wrangling"
   ]
  },
  {
   "cell_type": "code",
   "execution_count": 18,
   "metadata": {},
   "outputs": [
    {
     "data": {
      "text/plain": [
       "Unnamed: 0      0\n",
       "Date            0\n",
       "AveragePrice    0\n",
       "Total Volume    0\n",
       "4046            0\n",
       "4225            0\n",
       "4770            0\n",
       "Total Bags      0\n",
       "Small Bags      0\n",
       "Large Bags      0\n",
       "XLarge Bags     0\n",
       "type            0\n",
       "year            0\n",
       "region          0\n",
       "dtype: int64"
      ]
     },
     "execution_count": 18,
     "metadata": {},
     "output_type": "execute_result"
    }
   ],
   "source": [
    "# comprobar los datos nulos del data set\n",
    "\n",
    "avocados.isnull().sum()  # No hay nulos en ninguna columna"
   ]
  },
  {
   "cell_type": "code",
   "execution_count": 19,
   "metadata": {},
   "outputs": [
    {
     "data": {
      "text/plain": [
       "Index(['Unnamed: 0', 'Date', 'AveragePrice', 'Total Volume', '4046', '4225',\n",
       "       '4770', 'Total Bags', 'Small Bags', 'Large Bags', 'XLarge Bags', 'type',\n",
       "       'year', 'region'],\n",
       "      dtype='object')"
      ]
     },
     "execution_count": 19,
     "metadata": {},
     "output_type": "execute_result"
    }
   ],
   "source": [
    "avocados.columns"
   ]
  },
  {
   "cell_type": "code",
   "execution_count": 21,
   "metadata": {},
   "outputs": [
    {
     "name": "stdout",
     "output_type": "stream",
     "text": [
      "Numero de registros duplicados:  0\n"
     ]
    }
   ],
   "source": [
    "# Comprobar que no hay duplicados\n",
    "before = len(avocados)\n",
    "\n",
    "select_columns = ['Date', 'AveragePrice', 'Total Volume', '4046', '4225',\n",
    "       '4770', 'Total Bags', 'Small Bags', 'Large Bags', 'XLarge Bags', 'type',\n",
    "       'year', 'region']\n",
    "\n",
    "avocados = avocados[select_columns].drop_duplicates()\n",
    "\n",
    "after = len(avocados)\n",
    "\n",
    "print('Numero de registros duplicados: ', str(before - after))"
   ]
  },
  {
   "cell_type": "code",
   "execution_count": 23,
   "metadata": {},
   "outputs": [],
   "source": [
    "# Extraer el mes de la columna fecha y desechar el resto\n",
    "month = []\n",
    "for e in avocados[\"Date\"]:\n",
    "    aux= e.split(\"-\")\n",
    "    month.append(aux[1])\n",
    "    \n",
    "avocados['month'] = pd.Series(month, index=avocados.index) # Añadir columna Month al dataframe\n",
    "avocados['Total Volume']= (avocados['Total Volume']/1000)"
   ]
  },
  {
   "cell_type": "code",
   "execution_count": 24,
   "metadata": {},
   "outputs": [],
   "source": [
    "# Cambio del orden de las columnas\n",
    "\n",
    "column_order = ['region','year','month','type','AveragePrice','Total Volume','4046','4225',\n",
    "       '4770', 'Total Bags', 'Small Bags', 'Large Bags', 'XLarge Bags']\n",
    "\n",
    "avocados = avocados[column_order]"
   ]
  },
  {
   "cell_type": "code",
   "execution_count": 25,
   "metadata": {},
   "outputs": [],
   "source": [
    "# comprobar el tipo de datos de las columnas. cambiar year a objeto\n",
    "\n",
    "avocados['year'] = avocados['year'].astype('object') "
   ]
  },
  {
   "cell_type": "code",
   "execution_count": 27,
   "metadata": {},
   "outputs": [],
   "source": [
    "# renombrar algunas columnas\n",
    "\n",
    "avocados.columns = ['Region','Year','Month','Variety','Avg Price','Total Volume-k',\n",
    "                    'S-M size','L size','XL size','Total Bags','S bags','L bags','XL bags']"
   ]
  },
  {
   "cell_type": "code",
   "execution_count": 28,
   "metadata": {},
   "outputs": [],
   "source": [
    "# Guardo un csv con los datos manipulados\n",
    "\n",
    "avocados.to_csv('manipulated_avocados.csv',index=False)"
   ]
  },
  {
   "cell_type": "markdown",
   "metadata": {},
   "source": [
    "3.Analysis\n",
    "\n",
    "HIPÓTESIS:\n",
    "- La variedad de aguacate convencional tendrá un precio medio inferior al aguacate orgánico.\n",
    "- Las regiones donde el precio medio sea más alto presentarán un volument total de venta menor\n",
    "- El % que aporten al volumen total (aguacates S-M, aguacates L, aguacares XL y bolsas (mezcla tamaños) tendrán relación con el precio medio.\n"
   ]
  },
  {
   "cell_type": "code",
   "execution_count": 30,
   "metadata": {},
   "outputs": [],
   "source": [
    "# Dado que del año 2018 solo hay registros hasta marzo voy a eliminar esos datos\n",
    "filteredyear = list(avocados[(avocados['Year']==2018)].index) \n",
    "avocados = avocados.drop(filteredyear, axis=0)\n"
   ]
  },
  {
   "cell_type": "code",
   "execution_count": 31,
   "metadata": {},
   "outputs": [],
   "source": [
    "# Las regiones vienen reflejadas todas juntas de varias maneras: Total US, grandes regiones y por estados.\n",
    "# Voy a separar en 3 dataframe: Uno de regiones, otro del total y otro de ciudades\n",
    "\n",
    "avocados_region = avocados[(avocados['Region'] == 'Plains')|(avocados['Region'] =='West')|\n",
    "                    (avocados['Region'] =='California')|(avocados['Region'] =='SouthCentral')|\n",
    "                    (avocados['Region'] =='Northeast')|(avocados['Region'] =='Southeast')|\n",
    "                    (avocados['Region'] =='GreatLakes')|(avocados['Region'] =='Midsouth')]\n",
    "avocados_totalUS = avocados[(avocados['Region'] == 'TotalUS')]\n",
    "\n",
    "avocados_cities= avocados[(avocados['Region'] != 'Plains')|(avocados['Region'] !='West')|\n",
    "                    (avocados['Region'] !='California')|(avocados['Region'] !='SouthCentral')|\n",
    "                    (avocados['Region'] !='Northeast')|(avocados['Region'] !='Southeast')|\n",
    "                    (avocados['Region'] !='GreatLakes')|(avocados['Region'] !='Midsouth')|\n",
    "                   (avocados['Region'] != 'TotalUS')]"
   ]
  },
  {
   "cell_type": "code",
   "execution_count": 32,
   "metadata": {},
   "outputs": [
    {
     "data": {
      "text/html": [
       "<div>\n",
       "<style scoped>\n",
       "    .dataframe tbody tr th:only-of-type {\n",
       "        vertical-align: middle;\n",
       "    }\n",
       "\n",
       "    .dataframe tbody tr th {\n",
       "        vertical-align: top;\n",
       "    }\n",
       "\n",
       "    .dataframe thead th {\n",
       "        text-align: right;\n",
       "    }\n",
       "</style>\n",
       "<table border=\"1\" class=\"dataframe\">\n",
       "  <thead>\n",
       "    <tr style=\"text-align: right;\">\n",
       "      <th></th>\n",
       "      <th></th>\n",
       "      <th>count</th>\n",
       "      <th>mean</th>\n",
       "      <th>std</th>\n",
       "      <th>min</th>\n",
       "      <th>25%</th>\n",
       "      <th>50%</th>\n",
       "      <th>75%</th>\n",
       "      <th>max</th>\n",
       "    </tr>\n",
       "    <tr>\n",
       "      <th>Variety</th>\n",
       "      <th>Year</th>\n",
       "      <th></th>\n",
       "      <th></th>\n",
       "      <th></th>\n",
       "      <th></th>\n",
       "      <th></th>\n",
       "      <th></th>\n",
       "      <th></th>\n",
       "      <th></th>\n",
       "    </tr>\n",
       "  </thead>\n",
       "  <tbody>\n",
       "    <tr>\n",
       "      <th rowspan=\"3\" valign=\"top\">conventional</th>\n",
       "      <th>2015</th>\n",
       "      <td>416.0</td>\n",
       "      <td>1.043269</td>\n",
       "      <td>0.134133</td>\n",
       "      <td>0.69</td>\n",
       "      <td>0.9600</td>\n",
       "      <td>1.070</td>\n",
       "      <td>1.1400</td>\n",
       "      <td>1.36</td>\n",
       "    </tr>\n",
       "    <tr>\n",
       "      <th>2016</th>\n",
       "      <td>416.0</td>\n",
       "      <td>1.083293</td>\n",
       "      <td>0.224582</td>\n",
       "      <td>0.62</td>\n",
       "      <td>0.9275</td>\n",
       "      <td>1.060</td>\n",
       "      <td>1.2200</td>\n",
       "      <td>1.72</td>\n",
       "    </tr>\n",
       "    <tr>\n",
       "      <th>2017</th>\n",
       "      <td>424.0</td>\n",
       "      <td>1.262500</td>\n",
       "      <td>0.270591</td>\n",
       "      <td>0.62</td>\n",
       "      <td>1.0575</td>\n",
       "      <td>1.290</td>\n",
       "      <td>1.4300</td>\n",
       "      <td>1.98</td>\n",
       "    </tr>\n",
       "    <tr>\n",
       "      <th rowspan=\"3\" valign=\"top\">organic</th>\n",
       "      <th>2015</th>\n",
       "      <td>416.0</td>\n",
       "      <td>1.641635</td>\n",
       "      <td>0.205231</td>\n",
       "      <td>1.10</td>\n",
       "      <td>1.5000</td>\n",
       "      <td>1.650</td>\n",
       "      <td>1.8000</td>\n",
       "      <td>2.12</td>\n",
       "    </tr>\n",
       "    <tr>\n",
       "      <th>2016</th>\n",
       "      <td>416.0</td>\n",
       "      <td>1.523125</td>\n",
       "      <td>0.266058</td>\n",
       "      <td>0.91</td>\n",
       "      <td>1.3500</td>\n",
       "      <td>1.500</td>\n",
       "      <td>1.6800</td>\n",
       "      <td>2.58</td>\n",
       "    </tr>\n",
       "    <tr>\n",
       "      <th>2017</th>\n",
       "      <td>424.0</td>\n",
       "      <td>1.674646</td>\n",
       "      <td>0.327126</td>\n",
       "      <td>0.83</td>\n",
       "      <td>1.5000</td>\n",
       "      <td>1.675</td>\n",
       "      <td>1.8725</td>\n",
       "      <td>2.54</td>\n",
       "    </tr>\n",
       "  </tbody>\n",
       "</table>\n",
       "</div>"
      ],
      "text/plain": [
       "                   count      mean       std   min     25%    50%     75%  \\\n",
       "Variety      Year                                                           \n",
       "conventional 2015  416.0  1.043269  0.134133  0.69  0.9600  1.070  1.1400   \n",
       "             2016  416.0  1.083293  0.224582  0.62  0.9275  1.060  1.2200   \n",
       "             2017  424.0  1.262500  0.270591  0.62  1.0575  1.290  1.4300   \n",
       "organic      2015  416.0  1.641635  0.205231  1.10  1.5000  1.650  1.8000   \n",
       "             2016  416.0  1.523125  0.266058  0.91  1.3500  1.500  1.6800   \n",
       "             2017  424.0  1.674646  0.327126  0.83  1.5000  1.675  1.8725   \n",
       "\n",
       "                    max  \n",
       "Variety      Year        \n",
       "conventional 2015  1.36  \n",
       "             2016  1.72  \n",
       "             2017  1.98  \n",
       "organic      2015  2.12  \n",
       "             2016  2.58  \n",
       "             2017  2.54  "
      ]
     },
     "execution_count": 32,
     "metadata": {},
     "output_type": "execute_result"
    }
   ],
   "source": [
    "#VARIEDAD vs AVG PRICE (En todo US)\n",
    "\n",
    "variedad_precio =avocados_region.groupby(['Variety','Year'])['Avg Price'].describe()\n",
    "variedad_precio \n",
    "# Efectivamente el aguacate orgánico es más caro que el convencional. \n",
    "# Por año se observa que se ha incrementado el precio medio en 2017. Aunque no es lineal, en 2016 disminuyó."
   ]
  },
  {
   "cell_type": "code",
   "execution_count": 33,
   "metadata": {
    "scrolled": true
   },
   "outputs": [
    {
     "data": {
      "text/html": [
       "<div>\n",
       "<style scoped>\n",
       "    .dataframe tbody tr th:only-of-type {\n",
       "        vertical-align: middle;\n",
       "    }\n",
       "\n",
       "    .dataframe tbody tr th {\n",
       "        vertical-align: top;\n",
       "    }\n",
       "\n",
       "    .dataframe thead tr th {\n",
       "        text-align: left;\n",
       "    }\n",
       "\n",
       "    .dataframe thead tr:last-of-type th {\n",
       "        text-align: right;\n",
       "    }\n",
       "</style>\n",
       "<table border=\"1\" class=\"dataframe\">\n",
       "  <thead>\n",
       "    <tr>\n",
       "      <th></th>\n",
       "      <th colspan=\"3\" halign=\"left\">Avg Price</th>\n",
       "    </tr>\n",
       "    <tr>\n",
       "      <th>Year</th>\n",
       "      <th>2015</th>\n",
       "      <th>2016</th>\n",
       "      <th>2017</th>\n",
       "    </tr>\n",
       "    <tr>\n",
       "      <th>Region</th>\n",
       "      <th></th>\n",
       "      <th></th>\n",
       "      <th></th>\n",
       "    </tr>\n",
       "  </thead>\n",
       "  <tbody>\n",
       "    <tr>\n",
       "      <th>California</th>\n",
       "      <td>1.315865</td>\n",
       "      <td>1.329904</td>\n",
       "      <td>1.533868</td>\n",
       "    </tr>\n",
       "    <tr>\n",
       "      <th>GreatLakes</th>\n",
       "      <td>1.326250</td>\n",
       "      <td>1.277019</td>\n",
       "      <td>1.424623</td>\n",
       "    </tr>\n",
       "    <tr>\n",
       "      <th>Midsouth</th>\n",
       "      <td>1.351346</td>\n",
       "      <td>1.350865</td>\n",
       "      <td>1.520566</td>\n",
       "    </tr>\n",
       "    <tr>\n",
       "      <th>Northeast</th>\n",
       "      <td>1.543750</td>\n",
       "      <td>1.595673</td>\n",
       "      <td>1.694057</td>\n",
       "    </tr>\n",
       "    <tr>\n",
       "      <th>Plains</th>\n",
       "      <td>1.437885</td>\n",
       "      <td>1.377500</td>\n",
       "      <td>1.510472</td>\n",
       "    </tr>\n",
       "    <tr>\n",
       "      <th>SouthCentral</th>\n",
       "      <td>1.112019</td>\n",
       "      <td>1.026923</td>\n",
       "      <td>1.162830</td>\n",
       "    </tr>\n",
       "    <tr>\n",
       "      <th>Southeast</th>\n",
       "      <td>1.414712</td>\n",
       "      <td>1.286923</td>\n",
       "      <td>1.512170</td>\n",
       "    </tr>\n",
       "    <tr>\n",
       "      <th>West</th>\n",
       "      <td>1.237788</td>\n",
       "      <td>1.180865</td>\n",
       "      <td>1.390000</td>\n",
       "    </tr>\n",
       "  </tbody>\n",
       "</table>\n",
       "</div>"
      ],
      "text/plain": [
       "             Avg Price                    \n",
       "Year              2015      2016      2017\n",
       "Region                                    \n",
       "California    1.315865  1.329904  1.533868\n",
       "GreatLakes    1.326250  1.277019  1.424623\n",
       "Midsouth      1.351346  1.350865  1.520566\n",
       "Northeast     1.543750  1.595673  1.694057\n",
       "Plains        1.437885  1.377500  1.510472\n",
       "SouthCentral  1.112019  1.026923  1.162830\n",
       "Southeast     1.414712  1.286923  1.512170\n",
       "West          1.237788  1.180865  1.390000"
      ]
     },
     "execution_count": 33,
     "metadata": {},
     "output_type": "execute_result"
    }
   ],
   "source": [
    "#VARIEDAD vs AVG PRICE (por regiones y año)\n",
    "\n",
    "variedad_precio_region = pd.pivot_table(avocados_region, values=['Avg Price'], index=['Region'], columns=['Year'])\n",
    "\n",
    "variedad_precio_region"
   ]
  },
  {
   "cell_type": "code",
   "execution_count": 34,
   "metadata": {},
   "outputs": [
    {
     "data": {
      "text/html": [
       "<div>\n",
       "<style scoped>\n",
       "    .dataframe tbody tr th:only-of-type {\n",
       "        vertical-align: middle;\n",
       "    }\n",
       "\n",
       "    .dataframe tbody tr th {\n",
       "        vertical-align: top;\n",
       "    }\n",
       "\n",
       "    .dataframe thead tr th {\n",
       "        text-align: left;\n",
       "    }\n",
       "\n",
       "    .dataframe thead tr:last-of-type th {\n",
       "        text-align: right;\n",
       "    }\n",
       "</style>\n",
       "<table border=\"1\" class=\"dataframe\">\n",
       "  <thead>\n",
       "    <tr>\n",
       "      <th></th>\n",
       "      <th colspan=\"3\" halign=\"left\">Total Volume-k</th>\n",
       "    </tr>\n",
       "    <tr>\n",
       "      <th>Year</th>\n",
       "      <th>2015</th>\n",
       "      <th>2016</th>\n",
       "      <th>2017</th>\n",
       "    </tr>\n",
       "    <tr>\n",
       "      <th>Month</th>\n",
       "      <th></th>\n",
       "      <th></th>\n",
       "      <th></th>\n",
       "    </tr>\n",
       "  </thead>\n",
       "  <tbody>\n",
       "    <tr>\n",
       "      <th>01</th>\n",
       "      <td>15.056690</td>\n",
       "      <td>17.911825</td>\n",
       "      <td>20.146189</td>\n",
       "    </tr>\n",
       "    <tr>\n",
       "      <th>02</th>\n",
       "      <td>17.187930</td>\n",
       "      <td>20.195852</td>\n",
       "      <td>22.271690</td>\n",
       "    </tr>\n",
       "    <tr>\n",
       "      <th>03</th>\n",
       "      <td>15.875731</td>\n",
       "      <td>18.460859</td>\n",
       "      <td>16.959642</td>\n",
       "    </tr>\n",
       "    <tr>\n",
       "      <th>04</th>\n",
       "      <td>16.319062</td>\n",
       "      <td>18.992008</td>\n",
       "      <td>18.529214</td>\n",
       "    </tr>\n",
       "    <tr>\n",
       "      <th>05</th>\n",
       "      <td>18.275215</td>\n",
       "      <td>21.181417</td>\n",
       "      <td>20.079844</td>\n",
       "    </tr>\n",
       "    <tr>\n",
       "      <th>06</th>\n",
       "      <td>18.038011</td>\n",
       "      <td>19.373185</td>\n",
       "      <td>19.387646</td>\n",
       "    </tr>\n",
       "    <tr>\n",
       "      <th>07</th>\n",
       "      <td>16.886107</td>\n",
       "      <td>17.675857</td>\n",
       "      <td>17.995508</td>\n",
       "    </tr>\n",
       "    <tr>\n",
       "      <th>08</th>\n",
       "      <td>15.819182</td>\n",
       "      <td>17.484918</td>\n",
       "      <td>16.029801</td>\n",
       "    </tr>\n",
       "    <tr>\n",
       "      <th>09</th>\n",
       "      <td>15.532228</td>\n",
       "      <td>17.093090</td>\n",
       "      <td>13.449381</td>\n",
       "    </tr>\n",
       "    <tr>\n",
       "      <th>10</th>\n",
       "      <td>14.403881</td>\n",
       "      <td>13.577552</td>\n",
       "      <td>13.669753</td>\n",
       "    </tr>\n",
       "    <tr>\n",
       "      <th>11</th>\n",
       "      <td>13.871963</td>\n",
       "      <td>12.238276</td>\n",
       "      <td>15.295848</td>\n",
       "    </tr>\n",
       "    <tr>\n",
       "      <th>12</th>\n",
       "      <td>13.930380</td>\n",
       "      <td>15.623392</td>\n",
       "      <td>17.349612</td>\n",
       "    </tr>\n",
       "  </tbody>\n",
       "</table>\n",
       "</div>"
      ],
      "text/plain": [
       "      Total Volume-k                      \n",
       "Year            2015       2016       2017\n",
       "Month                                     \n",
       "01         15.056690  17.911825  20.146189\n",
       "02         17.187930  20.195852  22.271690\n",
       "03         15.875731  18.460859  16.959642\n",
       "04         16.319062  18.992008  18.529214\n",
       "05         18.275215  21.181417  20.079844\n",
       "06         18.038011  19.373185  19.387646\n",
       "07         16.886107  17.675857  17.995508\n",
       "08         15.819182  17.484918  16.029801\n",
       "09         15.532228  17.093090  13.449381\n",
       "10         14.403881  13.577552  13.669753\n",
       "11         13.871963  12.238276  15.295848\n",
       "12         13.930380  15.623392  17.349612"
      ]
     },
     "execution_count": 34,
     "metadata": {},
     "output_type": "execute_result"
    }
   ],
   "source": [
    "# VARIEDAD vs. TOTAL VOLUMEN (todo US por año y mes)\n",
    "\n",
    "year_month_volume = pd.pivot_table(avocados_totalUS, values=['Total Volume-k'], index=['Month'], columns=['Year'])\n",
    "\n",
    "year_month_volume"
   ]
  },
  {
   "cell_type": "code",
   "execution_count": 35,
   "metadata": {},
   "outputs": [
    {
     "data": {
      "text/html": [
       "<div>\n",
       "<style scoped>\n",
       "    .dataframe tbody tr th:only-of-type {\n",
       "        vertical-align: middle;\n",
       "    }\n",
       "\n",
       "    .dataframe tbody tr th {\n",
       "        vertical-align: top;\n",
       "    }\n",
       "\n",
       "    .dataframe thead tr th {\n",
       "        text-align: left;\n",
       "    }\n",
       "\n",
       "    .dataframe thead tr:last-of-type th {\n",
       "        text-align: right;\n",
       "    }\n",
       "</style>\n",
       "<table border=\"1\" class=\"dataframe\">\n",
       "  <thead>\n",
       "    <tr>\n",
       "      <th></th>\n",
       "      <th colspan=\"3\" halign=\"left\">Total Volume-k</th>\n",
       "    </tr>\n",
       "    <tr>\n",
       "      <th>Year</th>\n",
       "      <th>2015</th>\n",
       "      <th>2016</th>\n",
       "      <th>2017</th>\n",
       "    </tr>\n",
       "    <tr>\n",
       "      <th>Region</th>\n",
       "      <th></th>\n",
       "      <th></th>\n",
       "      <th></th>\n",
       "    </tr>\n",
       "  </thead>\n",
       "  <tbody>\n",
       "    <tr>\n",
       "      <th>California</th>\n",
       "      <td>2.898148</td>\n",
       "      <td>3.136427</td>\n",
       "      <td>2.996646</td>\n",
       "    </tr>\n",
       "    <tr>\n",
       "      <th>GreatLakes</th>\n",
       "      <td>1.628731</td>\n",
       "      <td>1.709039</td>\n",
       "      <td>1.786357</td>\n",
       "    </tr>\n",
       "    <tr>\n",
       "      <th>Midsouth</th>\n",
       "      <td>1.348288</td>\n",
       "      <td>1.483274</td>\n",
       "      <td>1.561826</td>\n",
       "    </tr>\n",
       "    <tr>\n",
       "      <th>Northeast</th>\n",
       "      <td>1.955567</td>\n",
       "      <td>2.105107</td>\n",
       "      <td>2.119314</td>\n",
       "    </tr>\n",
       "    <tr>\n",
       "      <th>Plains</th>\n",
       "      <td>0.842681</td>\n",
       "      <td>0.915785</td>\n",
       "      <td>0.946038</td>\n",
       "    </tr>\n",
       "    <tr>\n",
       "      <th>SouthCentral</th>\n",
       "      <td>2.792833</td>\n",
       "      <td>2.924026</td>\n",
       "      <td>3.070025</td>\n",
       "    </tr>\n",
       "    <tr>\n",
       "      <th>Southeast</th>\n",
       "      <td>1.539377</td>\n",
       "      <td>1.905014</td>\n",
       "      <td>1.856012</td>\n",
       "    </tr>\n",
       "    <tr>\n",
       "      <th>West</th>\n",
       "      <td>2.929522</td>\n",
       "      <td>3.313244</td>\n",
       "      <td>3.255230</td>\n",
       "    </tr>\n",
       "  </tbody>\n",
       "</table>\n",
       "</div>"
      ],
      "text/plain": [
       "             Total Volume-k                    \n",
       "Year                   2015      2016      2017\n",
       "Region                                         \n",
       "California         2.898148  3.136427  2.996646\n",
       "GreatLakes         1.628731  1.709039  1.786357\n",
       "Midsouth           1.348288  1.483274  1.561826\n",
       "Northeast          1.955567  2.105107  2.119314\n",
       "Plains             0.842681  0.915785  0.946038\n",
       "SouthCentral       2.792833  2.924026  3.070025\n",
       "Southeast          1.539377  1.905014  1.856012\n",
       "West               2.929522  3.313244  3.255230"
      ]
     },
     "execution_count": 35,
     "metadata": {},
     "output_type": "execute_result"
    }
   ],
   "source": [
    "#VARIEDAD vs TOTALVOLUME (por regiones y año)\n",
    "\n",
    "variedad_volumen_region = pd.pivot_table(avocados_region, values=['Total Volume-k'], index=['Region'], columns=['Year'])\n",
    "\n",
    "variedad_volumen_region"
   ]
  },
  {
   "cell_type": "code",
   "execution_count": 47,
   "metadata": {},
   "outputs": [
    {
     "name": "stderr",
     "output_type": "stream",
     "text": [
      "/usr/lib/python3/dist-packages/ipykernel_launcher.py:1: SettingWithCopyWarning: \n",
      "A value is trying to be set on a copy of a slice from a DataFrame.\n",
      "Try using .loc[row_indexer,col_indexer] = value instead\n",
      "\n",
      "See the caveats in the documentation: http://pandas.pydata.org/pandas-docs/stable/indexing.html#indexing-view-versus-copy\n",
      "  \"\"\"Entry point for launching an IPython kernel.\n"
     ]
    },
    {
     "data": {
      "text/html": [
       "<div>\n",
       "<style scoped>\n",
       "    .dataframe tbody tr th:only-of-type {\n",
       "        vertical-align: middle;\n",
       "    }\n",
       "\n",
       "    .dataframe tbody tr th {\n",
       "        vertical-align: top;\n",
       "    }\n",
       "\n",
       "    .dataframe thead tr th {\n",
       "        text-align: left;\n",
       "    }\n",
       "\n",
       "    .dataframe thead tr:last-of-type th {\n",
       "        text-align: right;\n",
       "    }\n",
       "</style>\n",
       "<table border=\"1\" class=\"dataframe\">\n",
       "  <thead>\n",
       "    <tr>\n",
       "      <th></th>\n",
       "      <th colspan=\"3\" halign=\"left\">Total_profit-k</th>\n",
       "    </tr>\n",
       "    <tr>\n",
       "      <th>Year</th>\n",
       "      <th>2015</th>\n",
       "      <th>2016</th>\n",
       "      <th>2017</th>\n",
       "    </tr>\n",
       "    <tr>\n",
       "      <th>Region</th>\n",
       "      <th></th>\n",
       "      <th></th>\n",
       "      <th></th>\n",
       "    </tr>\n",
       "  </thead>\n",
       "  <tbody>\n",
       "    <tr>\n",
       "      <th>California</th>\n",
       "      <td>2.971945</td>\n",
       "      <td>3.223199</td>\n",
       "      <td>3.648819</td>\n",
       "    </tr>\n",
       "    <tr>\n",
       "      <th>GreatLakes</th>\n",
       "      <td>1.771271</td>\n",
       "      <td>1.929401</td>\n",
       "      <td>2.296733</td>\n",
       "    </tr>\n",
       "    <tr>\n",
       "      <th>Midsouth</th>\n",
       "      <td>1.524706</td>\n",
       "      <td>1.747238</td>\n",
       "      <td>2.069038</td>\n",
       "    </tr>\n",
       "    <tr>\n",
       "      <th>Northeast</th>\n",
       "      <td>2.386314</td>\n",
       "      <td>2.737640</td>\n",
       "      <td>3.208183</td>\n",
       "    </tr>\n",
       "    <tr>\n",
       "      <th>Plains</th>\n",
       "      <td>0.914691</td>\n",
       "      <td>1.011460</td>\n",
       "      <td>1.212488</td>\n",
       "    </tr>\n",
       "    <tr>\n",
       "      <th>SouthCentral</th>\n",
       "      <td>2.280040</td>\n",
       "      <td>2.484788</td>\n",
       "      <td>2.877357</td>\n",
       "    </tr>\n",
       "    <tr>\n",
       "      <th>Southeast</th>\n",
       "      <td>1.656649</td>\n",
       "      <td>1.978274</td>\n",
       "      <td>2.424726</td>\n",
       "    </tr>\n",
       "    <tr>\n",
       "      <th>West</th>\n",
       "      <td>2.804241</td>\n",
       "      <td>3.011586</td>\n",
       "      <td>3.491055</td>\n",
       "    </tr>\n",
       "  </tbody>\n",
       "</table>\n",
       "</div>"
      ],
      "text/plain": [
       "             Total_profit-k                    \n",
       "Year                   2015      2016      2017\n",
       "Region                                         \n",
       "California         2.971945  3.223199  3.648819\n",
       "GreatLakes         1.771271  1.929401  2.296733\n",
       "Midsouth           1.524706  1.747238  2.069038\n",
       "Northeast          2.386314  2.737640  3.208183\n",
       "Plains             0.914691  1.011460  1.212488\n",
       "SouthCentral       2.280040  2.484788  2.877357\n",
       "Southeast          1.656649  1.978274  2.424726\n",
       "West               2.804241  3.011586  3.491055"
      ]
     },
     "execution_count": 47,
     "metadata": {},
     "output_type": "execute_result"
    }
   ],
   "source": [
    "avocados_region['Total_profit-k']= (avocados_region['Avg Price']*avocados_region['Total Volume-k'])\n",
    "total_profit_region = pd.pivot_table(avocados_region, values=['Total_profit-k'], index=['Region'], columns=['Year'])\n",
    "total_profit_region"
   ]
  },
  {
   "cell_type": "code",
   "execution_count": 39,
   "metadata": {},
   "outputs": [
    {
     "data": {
      "text/html": [
       "<div>\n",
       "<style scoped>\n",
       "    .dataframe tbody tr th:only-of-type {\n",
       "        vertical-align: middle;\n",
       "    }\n",
       "\n",
       "    .dataframe tbody tr th {\n",
       "        vertical-align: top;\n",
       "    }\n",
       "\n",
       "    .dataframe thead tr th {\n",
       "        text-align: left;\n",
       "    }\n",
       "\n",
       "    .dataframe thead tr:last-of-type th {\n",
       "        text-align: right;\n",
       "    }\n",
       "</style>\n",
       "<table border=\"1\" class=\"dataframe\">\n",
       "  <thead>\n",
       "    <tr>\n",
       "      <th></th>\n",
       "      <th colspan=\"3\" halign=\"left\">Total Volume-k</th>\n",
       "      <th colspan=\"3\" halign=\"left\">Total_profit-k</th>\n",
       "    </tr>\n",
       "    <tr>\n",
       "      <th>Year</th>\n",
       "      <th>2015</th>\n",
       "      <th>2016</th>\n",
       "      <th>2017</th>\n",
       "      <th>2015</th>\n",
       "      <th>2016</th>\n",
       "      <th>2017</th>\n",
       "    </tr>\n",
       "    <tr>\n",
       "      <th>Region</th>\n",
       "      <th></th>\n",
       "      <th></th>\n",
       "      <th></th>\n",
       "      <th></th>\n",
       "      <th></th>\n",
       "      <th></th>\n",
       "    </tr>\n",
       "  </thead>\n",
       "  <tbody>\n",
       "    <tr>\n",
       "      <th>California</th>\n",
       "      <td>2.898148</td>\n",
       "      <td>3.136427</td>\n",
       "      <td>2.996646</td>\n",
       "      <td>2.971945</td>\n",
       "      <td>3.223199</td>\n",
       "      <td>3.648819</td>\n",
       "    </tr>\n",
       "    <tr>\n",
       "      <th>GreatLakes</th>\n",
       "      <td>1.628731</td>\n",
       "      <td>1.709039</td>\n",
       "      <td>1.786357</td>\n",
       "      <td>1.771271</td>\n",
       "      <td>1.929401</td>\n",
       "      <td>2.296733</td>\n",
       "    </tr>\n",
       "    <tr>\n",
       "      <th>Midsouth</th>\n",
       "      <td>1.348288</td>\n",
       "      <td>1.483274</td>\n",
       "      <td>1.561826</td>\n",
       "      <td>1.524706</td>\n",
       "      <td>1.747238</td>\n",
       "      <td>2.069038</td>\n",
       "    </tr>\n",
       "    <tr>\n",
       "      <th>Northeast</th>\n",
       "      <td>1.955567</td>\n",
       "      <td>2.105107</td>\n",
       "      <td>2.119314</td>\n",
       "      <td>2.386314</td>\n",
       "      <td>2.737640</td>\n",
       "      <td>3.208183</td>\n",
       "    </tr>\n",
       "    <tr>\n",
       "      <th>Plains</th>\n",
       "      <td>0.842681</td>\n",
       "      <td>0.915785</td>\n",
       "      <td>0.946038</td>\n",
       "      <td>0.914691</td>\n",
       "      <td>1.011460</td>\n",
       "      <td>1.212488</td>\n",
       "    </tr>\n",
       "    <tr>\n",
       "      <th>SouthCentral</th>\n",
       "      <td>2.792833</td>\n",
       "      <td>2.924026</td>\n",
       "      <td>3.070025</td>\n",
       "      <td>2.280040</td>\n",
       "      <td>2.484788</td>\n",
       "      <td>2.877357</td>\n",
       "    </tr>\n",
       "    <tr>\n",
       "      <th>Southeast</th>\n",
       "      <td>1.539377</td>\n",
       "      <td>1.905014</td>\n",
       "      <td>1.856012</td>\n",
       "      <td>1.656649</td>\n",
       "      <td>1.978274</td>\n",
       "      <td>2.424726</td>\n",
       "    </tr>\n",
       "    <tr>\n",
       "      <th>West</th>\n",
       "      <td>2.929522</td>\n",
       "      <td>3.313244</td>\n",
       "      <td>3.255230</td>\n",
       "      <td>2.804241</td>\n",
       "      <td>3.011586</td>\n",
       "      <td>3.491055</td>\n",
       "    </tr>\n",
       "  </tbody>\n",
       "</table>\n",
       "</div>"
      ],
      "text/plain": [
       "             Total Volume-k                     Total_profit-k            \\\n",
       "Year                   2015      2016      2017           2015      2016   \n",
       "Region                                                                     \n",
       "California         2.898148  3.136427  2.996646       2.971945  3.223199   \n",
       "GreatLakes         1.628731  1.709039  1.786357       1.771271  1.929401   \n",
       "Midsouth           1.348288  1.483274  1.561826       1.524706  1.747238   \n",
       "Northeast          1.955567  2.105107  2.119314       2.386314  2.737640   \n",
       "Plains             0.842681  0.915785  0.946038       0.914691  1.011460   \n",
       "SouthCentral       2.792833  2.924026  3.070025       2.280040  2.484788   \n",
       "Southeast          1.539377  1.905014  1.856012       1.656649  1.978274   \n",
       "West               2.929522  3.313244  3.255230       2.804241  3.011586   \n",
       "\n",
       "                        \n",
       "Year              2017  \n",
       "Region                  \n",
       "California    3.648819  \n",
       "GreatLakes    2.296733  \n",
       "Midsouth      2.069038  \n",
       "Northeast     3.208183  \n",
       "Plains        1.212488  \n",
       "SouthCentral  2.877357  \n",
       "Southeast     2.424726  \n",
       "West          3.491055  "
      ]
     },
     "execution_count": 39,
     "metadata": {},
     "output_type": "execute_result"
    }
   ],
   "source": [
    "total_volumen_region = pd.pivot_table(avocados_region, values=['Total_profit-k','Total Volume-k'], index=['Region'], columns=['Year'])\n",
    "total_volumen_region"
   ]
  },
  {
   "cell_type": "code",
   "execution_count": 40,
   "metadata": {},
   "outputs": [
    {
     "data": {
      "text/plain": [
       "-0.7170661080409119"
      ]
     },
     "execution_count": 40,
     "metadata": {},
     "output_type": "execute_result"
    }
   ],
   "source": [
    "correlacion1 = avocados_region['Total Volume-k'].corr(avocados_region['Avg Price'])\n",
    "correlacion1"
   ]
  },
  {
   "cell_type": "code",
   "execution_count": 48,
   "metadata": {},
   "outputs": [
    {
     "name": "stderr",
     "output_type": "stream",
     "text": [
      "/usr/lib/python3/dist-packages/ipykernel_launcher.py:4: SettingWithCopyWarning: \n",
      "A value is trying to be set on a copy of a slice from a DataFrame.\n",
      "Try using .loc[row_indexer,col_indexer] = value instead\n",
      "\n",
      "See the caveats in the documentation: http://pandas.pydata.org/pandas-docs/stable/indexing.html#indexing-view-versus-copy\n",
      "  after removing the cwd from sys.path.\n"
     ]
    },
    {
     "name": "stdout",
     "output_type": "stream",
     "text": [
      "Porcentajes de aporte al volumen total:\n",
      "                 perc_Bags                               perc_L size  \\\n",
      "Year                  2015          2016          2017          2015   \n",
      "Region                                                                 \n",
      "California    12546.564357  33699.922313  35279.525013  41422.904000   \n",
      "GreatLakes    19446.003519  33577.079586  48072.324186  64178.660168   \n",
      "Midsouth      27612.083052  38437.343991  48691.445443  49100.922140   \n",
      "Northeast     40242.099586  47562.063521  48779.837778  53723.788684   \n",
      "Plains        26483.269795  35081.325188  45508.919278  40246.485820   \n",
      "SouthCentral  23949.810373  41335.973861  49738.897614  19780.904891   \n",
      "Southeast     28985.372770  44152.854016  50020.007269  18818.865413   \n",
      "West          22095.396642  43014.621094  51815.358154  39061.180583   \n",
      "\n",
      "                                         perc_S-M size                \\\n",
      "Year                  2016          2017          2015          2016   \n",
      "Region                                                                 \n",
      "California    41339.442486  35702.915726  44217.097238  23084.938808   \n",
      "GreatLakes    52328.846193  38071.052235  11161.577381   9875.753049   \n",
      "Midsouth      45369.937189  37814.127730  16332.310559  12907.901687   \n",
      "Northeast     45366.908846  43881.614895   5386.060414   5583.467070   \n",
      "Plains        34329.853413  28369.802269  32413.008218  27120.150298   \n",
      "SouthCentral  13607.113895  11314.206724  55248.398285  42748.229967   \n",
      "Southeast     20072.299482  18425.290649  50369.978186  35119.402946   \n",
      "West          28101.562072  21816.130478  37778.977319  27743.689875   \n",
      "\n",
      "                           perc_XL size                            \n",
      "Year                  2017         2015         2016         2017  \n",
      "Region                                                             \n",
      "California    27729.014966  1813.434405  1875.696393  1288.544418  \n",
      "GreatLakes    10145.513559  5213.758932  4218.321173  3650.759700  \n",
      "Midsouth      12453.620648  6954.684249  3284.817133  1040.509839  \n",
      "Northeast      6854.205672   648.051316  1487.560563   484.341655  \n",
      "Plains        25243.146336   857.236168  3468.671101   875.686198  \n",
      "SouthCentral  38596.615951  1020.886451  2308.682276   350.280084  \n",
      "Southeast     31322.473699  1825.783632   655.443556   232.228109  \n",
      "West          25436.343524  1064.445457  1140.126960   932.168071  \n"
     ]
    }
   ],
   "source": [
    "new_columns = ['perc_S-M size','perc_L size','perc_XL size','perc_Bags','perc_S bags','perc_L bags','perc_XL bags']\n",
    "origin_columns = ['S-M size','L size','XL size','Total Bags','S bags','L bags','XL bags']\n",
    "for n, o in zip(new_columns, origin_columns):\n",
    "    avocados_region[n] = (avocados_region[o]/avocados_region['Total Volume-k'])/10\n",
    "\n",
    "percen_vol= avocados_region[['Region','Year','perc_S-M size','perc_L size','perc_XL size','perc_Bags']].copy()\n",
    "percen_vol = pd.pivot_table(percen_vol, values=['perc_S-M size','perc_L size','perc_XL size','perc_Bags'], index=['Region'],columns=['Year'])\n",
    "\n",
    "print(\"Porcentajes de aporte al volumen total:\\n{}\".format(percen_vol))"
   ]
  },
  {
   "cell_type": "markdown",
   "metadata": {},
   "source": [
    "4. Visualizacion"
   ]
  },
  {
   "cell_type": "code",
   "execution_count": 49,
   "metadata": {},
   "outputs": [
    {
     "data": {
      "text/plain": [
       "Text(0.5, 1.0, 'Total volumen de venta por mes (2015, 2016 y 2017)\\n')"
      ]
     },
     "execution_count": 49,
     "metadata": {},
     "output_type": "execute_result"
    },
    {
     "data": {
      "image/png": "[encoded data removed]",
      "text/plain": [
       "<Figure size 1080x576 with 1 Axes>"
      ]
     },
     "metadata": {},
     "output_type": "display_data"
    }
   ],
   "source": [
    "import matplotlib.pyplot as plt  \n",
    "    \n",
    "title = 'Total volumen de venta por mes (2015, 2016 y 2017)'\n",
    "\n",
    "fig, ax = plt.subplots(figsize=(15,8))\n",
    "barchart = sns.barplot(data=avocados_totalUS, x=('Month'), y='Total Volume-k')\n",
    "plt.title(title + \"\\n\", fontsize=16)"
   ]
  },
  {
   "cell_type": "code",
   "execution_count": 50,
   "metadata": {},
   "outputs": [
    {
     "data": {
      "text/plain": [
       "Text(0.5, 1.0, 'Precio medio de venta\\n')"
      ]
     },
     "execution_count": 50,
     "metadata": {},
     "output_type": "execute_result"
    },
    {
     "data": {
      "image/png": "[encoded data removed]",
      "text/plain": [
       "<Figure size 1080x576 with 1 Axes>"
      ]
     },
     "metadata": {},
     "output_type": "display_data"
    }
   ],
   "source": [
    "title = 'Precio medio de venta'\n",
    "\n",
    "fig, ax = plt.subplots(figsize=(15,8))\n",
    "barchart = sns.barplot(data=avocados_totalUS, x=('Month'), y='Avg Price')\n",
    "plt.title(title + \"\\n\", fontsize=16)"
   ]
  },
  {
   "cell_type": "code",
   "execution_count": 51,
   "metadata": {},
   "outputs": [
    {
     "data": {
      "text/plain": [
       "<matplotlib.axes._subplots.AxesSubplot at 0x7f55bc151780>"
      ]
     },
     "execution_count": 51,
     "metadata": {},
     "output_type": "execute_result"
    },
    {
     "data": {
      "image/png": "[encoded data removed]",
      "text/plain": [
       "<Figure size 432x288 with 1 Axes>"
      ]
     },
     "metadata": {},
     "output_type": "display_data"
    }
   ],
   "source": [
    "sns.boxplot(y=\"Variety\", x=\"Avg Price\", data=avocados, palette = 'Purples')"
   ]
  }
 ],
 "metadata": {
  "kernelspec": {
   "display_name": "Python 3",
   "language": "python",
   "name": "python3"
  },
  "language_info": {
   "codemirror_mode": {
    "name": "ipython",
    "version": 3
   },
   "file_extension": ".py",
   "mimetype": "text/x-python",
   "name": "python",
   "nbconvert_exporter": "python",
   "pygments_lexer": "ipython3",
   "version": "3.6.7"
  }
 },
 "nbformat": 4,
 "nbformat_minor": 2
}
