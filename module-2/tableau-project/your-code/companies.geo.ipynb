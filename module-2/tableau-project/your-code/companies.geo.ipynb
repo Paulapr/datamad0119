{
 "cells": [
  {
   "cell_type": "markdown",
   "metadata": {},
   "source": [
    "# GEOSPACIAL VISUALIZATION PROJECT"
   ]
  },
  {
   "cell_type": "markdown",
   "metadata": {},
   "source": [
    "- Mi empresa:\n",
    "    - Compañia de software con 50 empleados.\n",
    "    - Producto: videojuegos\n",
    "    - Empleados: 20 developers, 20 Designers/Creatieves/UX/UI and 10 executives/managers\n",
    "     \n",
    "- Requisitos buscados para localizar la empresa:\n",
    "\n",
    "        --> offices.latitude\n",
    "        --> offices.longitude\n",
    "        \n",
    "    - Debe haber software engineers trabajando cerca:\n",
    "        --> category_code: 'software','web','biotech','mobile','hardware','games_video','ecommerce','enterprise','public_relations','consulting'\n",
    "    \n",
    "    - Debe haber un buen ratio entre grandes compañias / startups\n",
    "        --> number_of_employees: 0-100 small; 100-999 medium; >1000 big\n",
    "        --> ipo.valuation_amount\n",
    "        --> total_money_raised\n",
    "    \n",
    "    - Empresas cercanas deben cubrir los intereses de mis trabajadores --> Text mining\n",
    "        --> description\n",
    "        --> tag_list\n",
    "    \n",
    "    - Prefiero estar cerca de compañias nuevas que viejas\n",
    "        --> deadpooled_year: null\n",
    "        --> founded_year\n",
    "      \n",
    "    --> twitter_username: nº de seguidores, nºtweets, text mining (topics)\n",
    "    "
   ]
  },
  {
   "cell_type": "markdown",
   "metadata": {},
   "source": [
    "CAMPOS DEL DATASET:\n",
    "\n",
    "offices.latitude; offices.longitude; \n",
    "category_code\n",
    "number_of_employees; ipo.valuation_amount; total_money_raised\n",
    "description; tag_list; twitter_username\n",
    "founded_year; deadpooled_year: null"
   ]
  },
  {
   "cell_type": "code",
   "execution_count": 1,
   "metadata": {},
   "outputs": [],
   "source": [
    "import pymongo\n",
    "MongoClient = pymongo.MongoClient\n",
    "client = MongoClient()\n",
    "db = client.companies"
   ]
  },
  {
   "cell_type": "markdown",
   "metadata": {},
   "source": [
    "1. Crear un cursor con los campos que me interesan y filtrando de entrada ciertas empresas. "
   ]
  },
  {
   "cell_type": "code",
   "execution_count": 2,
   "metadata": {},
   "outputs": [],
   "source": [
    "companies_interest = db.companies.find({\"deadpooled_year\": None},\n",
    "                                       {\"_id\":0,\"category_code\":1,\"number_of_employees\":1,\"ipo.valuation_amount\":1,\n",
    "                                       \"total_money_raised\":1,\"description\":1,\n",
    "                                       \"tag_list\":1,\"founded_year\":1,\"twitter_username\":1,\n",
    "                                       \"offices.latitude\":1,\"offices.longitude\":1})\n",
    "\n",
    "companies_interest = list(companies_interest)"
   ]
  },
  {
   "cell_type": "code",
   "execution_count": 3,
   "metadata": {},
   "outputs": [
    {
     "data": {
      "text/plain": [
       "category_code           2741\n",
       "description             6160\n",
       "founded_year            5447\n",
       "ipo                    17482\n",
       "number_of_employees     9469\n",
       "offices                    0\n",
       "tag_list                3999\n",
       "total_money_raised         0\n",
       "twitter_username        6996\n",
       "dtype: int64"
      ]
     },
     "execution_count": 3,
     "metadata": {},
     "output_type": "execute_result"
    }
   ],
   "source": [
    "import pandas as pd\n",
    "\n",
    "df_companies = pd.DataFrame(companies_interest)\n",
    "df_companies.head(20)\n",
    "\n",
    "df_companies.shape\n",
    "df_companies.isnull().sum()"
   ]
  },
  {
   "cell_type": "code",
   "execution_count": 4,
   "metadata": {},
   "outputs": [
    {
     "data": {
      "text/plain": [
       "array(['news', 'games_video', 'web', 'music', 'mobile', 'social',\n",
       "       'search', 'advertising', 'messaging', 'photo_video', 'security',\n",
       "       'finance', 'network_hosting', 'software', 'ecommerce',\n",
       "       'enterprise', 'travel', 'hardware', 'public_relations', 'other',\n",
       "       'real_estate', 'semiconductor', 'analytics', 'health', 'legal',\n",
       "       'sports', 'biotech', 'cleantech', 'education', 'consulting',\n",
       "       'transportation', None, 'hospitality', 'fashion', 'nonprofit',\n",
       "       'nanotech', 'automotive', 'design', 'manufacturing', 'government',\n",
       "       'local', 'medical'], dtype=object)"
      ]
     },
     "execution_count": 4,
     "metadata": {},
     "output_type": "execute_result"
    }
   ],
   "source": [
    "df_companies.category_code.unique()"
   ]
  },
  {
   "cell_type": "code",
   "execution_count": 5,
   "metadata": {},
   "outputs": [
    {
     "data": {
      "text/html": [
       "<div>\n",
       "<style scoped>\n",
       "    .dataframe tbody tr th:only-of-type {\n",
       "        vertical-align: middle;\n",
       "    }\n",
       "\n",
       "    .dataframe tbody tr th {\n",
       "        vertical-align: top;\n",
       "    }\n",
       "\n",
       "    .dataframe thead th {\n",
       "        text-align: right;\n",
       "    }\n",
       "</style>\n",
       "<table border=\"1\" class=\"dataframe\">\n",
       "  <thead>\n",
       "    <tr style=\"text-align: right;\">\n",
       "      <th></th>\n",
       "      <th>founded_year</th>\n",
       "      <th>number_of_employees</th>\n",
       "    </tr>\n",
       "  </thead>\n",
       "  <tbody>\n",
       "    <tr>\n",
       "      <th>count</th>\n",
       "      <td>12425.000000</td>\n",
       "      <td>8403.000000</td>\n",
       "    </tr>\n",
       "    <tr>\n",
       "      <th>mean</th>\n",
       "      <td>2002.243058</td>\n",
       "      <td>840.450315</td>\n",
       "    </tr>\n",
       "    <tr>\n",
       "      <th>std</th>\n",
       "      <td>13.328602</td>\n",
       "      <td>11384.038864</td>\n",
       "    </tr>\n",
       "    <tr>\n",
       "      <th>min</th>\n",
       "      <td>1800.000000</td>\n",
       "      <td>0.000000</td>\n",
       "    </tr>\n",
       "    <tr>\n",
       "      <th>25%</th>\n",
       "      <td>2001.000000</td>\n",
       "      <td>4.000000</td>\n",
       "    </tr>\n",
       "    <tr>\n",
       "      <th>50%</th>\n",
       "      <td>2006.000000</td>\n",
       "      <td>10.000000</td>\n",
       "    </tr>\n",
       "    <tr>\n",
       "      <th>75%</th>\n",
       "      <td>2008.000000</td>\n",
       "      <td>35.000000</td>\n",
       "    </tr>\n",
       "    <tr>\n",
       "      <th>max</th>\n",
       "      <td>2013.000000</td>\n",
       "      <td>405000.000000</td>\n",
       "    </tr>\n",
       "  </tbody>\n",
       "</table>\n",
       "</div>"
      ],
      "text/plain": [
       "       founded_year  number_of_employees\n",
       "count  12425.000000          8403.000000\n",
       "mean    2002.243058           840.450315\n",
       "std       13.328602         11384.038864\n",
       "min     1800.000000             0.000000\n",
       "25%     2001.000000             4.000000\n",
       "50%     2006.000000            10.000000\n",
       "75%     2008.000000            35.000000\n",
       "max     2013.000000        405000.000000"
      ]
     },
     "execution_count": 5,
     "metadata": {},
     "output_type": "execute_result"
    }
   ],
   "source": [
    "df_companies.describe()"
   ]
  },
  {
   "cell_type": "code",
   "execution_count": 6,
   "metadata": {},
   "outputs": [
    {
     "data": {
      "text/html": [
       "<div>\n",
       "<style scoped>\n",
       "    .dataframe tbody tr th:only-of-type {\n",
       "        vertical-align: middle;\n",
       "    }\n",
       "\n",
       "    .dataframe tbody tr th {\n",
       "        vertical-align: top;\n",
       "    }\n",
       "\n",
       "    .dataframe thead th {\n",
       "        text-align: right;\n",
       "    }\n",
       "</style>\n",
       "<table border=\"1\" class=\"dataframe\">\n",
       "  <thead>\n",
       "    <tr style=\"text-align: right;\">\n",
       "      <th></th>\n",
       "      <th>category_code</th>\n",
       "      <th>description</th>\n",
       "      <th>founded_year</th>\n",
       "      <th>ipo</th>\n",
       "      <th>number_of_employees</th>\n",
       "      <th>offices</th>\n",
       "      <th>tag_list</th>\n",
       "      <th>total_money_raised</th>\n",
       "      <th>twitter_username</th>\n",
       "    </tr>\n",
       "  </thead>\n",
       "  <tbody>\n",
       "    <tr>\n",
       "      <th>0</th>\n",
       "      <td>news</td>\n",
       "      <td>user driven social content website</td>\n",
       "      <td>2004.0</td>\n",
       "      <td>NaN</td>\n",
       "      <td>60.0</td>\n",
       "      <td>[{'latitude': 37.764726, 'longitude': -122.394...</td>\n",
       "      <td>community, social, news, bookmark, digg, techn...</td>\n",
       "      <td>$45M</td>\n",
       "      <td>digg</td>\n",
       "    </tr>\n",
       "    <tr>\n",
       "      <th>1</th>\n",
       "      <td>games_video</td>\n",
       "      <td>None</td>\n",
       "      <td>NaN</td>\n",
       "      <td>NaN</td>\n",
       "      <td>NaN</td>\n",
       "      <td>[{'latitude': 34.025958, 'longitude': -118.379...</td>\n",
       "      <td>flektor, photo, video</td>\n",
       "      <td>$0</td>\n",
       "      <td>None</td>\n",
       "    </tr>\n",
       "    <tr>\n",
       "      <th>2</th>\n",
       "      <td>web</td>\n",
       "      <td>None</td>\n",
       "      <td>1999.0</td>\n",
       "      <td>NaN</td>\n",
       "      <td>NaN</td>\n",
       "      <td>[{'latitude': 37.506885, 'longitude': -122.247...</td>\n",
       "      <td></td>\n",
       "      <td>$0</td>\n",
       "      <td>None</td>\n",
       "    </tr>\n",
       "    <tr>\n",
       "      <th>3</th>\n",
       "      <td>web</td>\n",
       "      <td>Geneology social network site</td>\n",
       "      <td>2006.0</td>\n",
       "      <td>NaN</td>\n",
       "      <td>18.0</td>\n",
       "      <td>[{'latitude': 34.090368, 'longitude': -118.393...</td>\n",
       "      <td>geni, geneology, social, family, genealogy</td>\n",
       "      <td>$16.5M</td>\n",
       "      <td>geni</td>\n",
       "    </tr>\n",
       "    <tr>\n",
       "      <th>4</th>\n",
       "      <td>web</td>\n",
       "      <td></td>\n",
       "      <td>1979.0</td>\n",
       "      <td>NaN</td>\n",
       "      <td>0.0</td>\n",
       "      <td>[{'latitude': 34.076179, 'longitude': -118.394...</td>\n",
       "      <td></td>\n",
       "      <td>$0</td>\n",
       "      <td>twitterapi</td>\n",
       "    </tr>\n",
       "  </tbody>\n",
       "</table>\n",
       "</div>"
      ],
      "text/plain": [
       "  category_code                         description  founded_year  ipo  \\\n",
       "0          news  user driven social content website        2004.0  NaN   \n",
       "1   games_video                                None           NaN  NaN   \n",
       "2           web                                None        1999.0  NaN   \n",
       "3           web       Geneology social network site        2006.0  NaN   \n",
       "4           web                                            1979.0  NaN   \n",
       "\n",
       "   number_of_employees                                            offices  \\\n",
       "0                 60.0  [{'latitude': 37.764726, 'longitude': -122.394...   \n",
       "1                  NaN  [{'latitude': 34.025958, 'longitude': -118.379...   \n",
       "2                  NaN  [{'latitude': 37.506885, 'longitude': -122.247...   \n",
       "3                 18.0  [{'latitude': 34.090368, 'longitude': -118.393...   \n",
       "4                  0.0  [{'latitude': 34.076179, 'longitude': -118.394...   \n",
       "\n",
       "                                            tag_list total_money_raised  \\\n",
       "0  community, social, news, bookmark, digg, techn...               $45M   \n",
       "1                              flektor, photo, video                 $0   \n",
       "2                                                                    $0   \n",
       "3         geni, geneology, social, family, genealogy             $16.5M   \n",
       "4                                                                    $0   \n",
       "\n",
       "  twitter_username  \n",
       "0             digg  \n",
       "1             None  \n",
       "2             None  \n",
       "3             geni  \n",
       "4       twitterapi  "
      ]
     },
     "execution_count": 6,
     "metadata": {},
     "output_type": "execute_result"
    }
   ],
   "source": [
    "df_companies.head(5)"
   ]
  },
  {
   "cell_type": "code",
   "execution_count": 7,
   "metadata": {},
   "outputs": [
    {
     "name": "stderr",
     "output_type": "stream",
     "text": [
      "/usr/lib/python3/dist-packages/ipykernel_launcher.py:1: DeprecationWarning: Non-string object detected for the array ordering. Please pass in 'C', 'F', 'A', or 'K' instead\n",
      "  \"\"\"Entry point for launching an IPython kernel.\n"
     ]
    },
    {
     "data": {
      "text/plain": [
       "Index([                    0,                     1,                     2,\n",
       "                           3,                     4,                     5,\n",
       "                           6,                     7,                     8,\n",
       "                           9,                    10,                    11,\n",
       "                          12,                    13,                    14,\n",
       "                          15,                    16,                    17,\n",
       "                          18,                    19,                    20,\n",
       "                          21,                    22,                    23,\n",
       "                          24,                    25,                    26,\n",
       "                          27,                    28,                    29,\n",
       "                          30,                    31,                    32,\n",
       "                          33,                    34,                    35,\n",
       "                          36,                    37,                    38,\n",
       "                          39,                    40,                    41,\n",
       "                          42,                    43,                    44,\n",
       "                          45,                    46,                    47,\n",
       "                          48,                    49,                    50,\n",
       "                          51,                    52,                    53,\n",
       "                          54,                    55,                    56,\n",
       "                          57,                    58,                    59,\n",
       "                          60,                    61,                    62,\n",
       "                          63,                    64,                    65,\n",
       "                          66,       'category_code',         'description',\n",
       "              'founded_year',                 'ipo', 'number_of_employees',\n",
       "                   'offices',            'tag_list',  'total_money_raised',\n",
       "          'twitter_username'],\n",
       "      dtype='object')"
      ]
     },
     "execution_count": 7,
     "metadata": {},
     "output_type": "execute_result"
    }
   ],
   "source": [
    "df_= pd.DataFrame(pd.DataFrame(df_companies[\"offices\"].values.flatten([0]).tolist()))\n",
    "df_companies = pd.concat([df_,df_companies],axis=1)\n",
    "\n",
    "df_companies.columns\n"
   ]
  },
  {
   "cell_type": "code",
   "execution_count": 8,
   "metadata": {},
   "outputs": [
    {
     "data": {
      "text/plain": [
       "pandas.core.frame.DataFrame"
      ]
     },
     "execution_count": 8,
     "metadata": {},
     "output_type": "execute_result"
    }
   ],
   "source": [
    "type(df_companies)"
   ]
  },
  {
   "cell_type": "code",
   "execution_count": 9,
   "metadata": {
    "scrolled": true
   },
   "outputs": [],
   "source": [
    "df_companies = df_companies[[0,'category_code','description','founded_year','number_of_employees','tag_list','total_money_raised','twitter_username']].copy()\n"
   ]
  },
  {
   "cell_type": "code",
   "execution_count": 10,
   "metadata": {},
   "outputs": [
    {
     "data": {
      "text/html": [
       "<div>\n",
       "<style scoped>\n",
       "    .dataframe tbody tr th:only-of-type {\n",
       "        vertical-align: middle;\n",
       "    }\n",
       "\n",
       "    .dataframe tbody tr th {\n",
       "        vertical-align: top;\n",
       "    }\n",
       "\n",
       "    .dataframe thead th {\n",
       "        text-align: right;\n",
       "    }\n",
       "</style>\n",
       "<table border=\"1\" class=\"dataframe\">\n",
       "  <thead>\n",
       "    <tr style=\"text-align: right;\">\n",
       "      <th></th>\n",
       "      <th>coordenadas</th>\n",
       "      <th>Category</th>\n",
       "      <th>Description</th>\n",
       "      <th>Founded_year</th>\n",
       "      <th>number_of_employees</th>\n",
       "      <th>tag_list</th>\n",
       "      <th>total_money_raised</th>\n",
       "      <th>twitter</th>\n",
       "    </tr>\n",
       "  </thead>\n",
       "  <tbody>\n",
       "    <tr>\n",
       "      <th>0</th>\n",
       "      <td>{'latitude': 37.764726, 'longitude': -122.394523}</td>\n",
       "      <td>news</td>\n",
       "      <td>user driven social content website</td>\n",
       "      <td>2004.0</td>\n",
       "      <td>60.0</td>\n",
       "      <td>community, social, news, bookmark, digg, techn...</td>\n",
       "      <td>$45M</td>\n",
       "      <td>digg</td>\n",
       "    </tr>\n",
       "    <tr>\n",
       "      <th>1</th>\n",
       "      <td>{'latitude': 34.025958, 'longitude': -118.379768}</td>\n",
       "      <td>games_video</td>\n",
       "      <td>None</td>\n",
       "      <td>NaN</td>\n",
       "      <td>NaN</td>\n",
       "      <td>flektor, photo, video</td>\n",
       "      <td>$0</td>\n",
       "      <td>None</td>\n",
       "    </tr>\n",
       "    <tr>\n",
       "      <th>2</th>\n",
       "      <td>{'latitude': 37.506885, 'longitude': -122.247573}</td>\n",
       "      <td>web</td>\n",
       "      <td>None</td>\n",
       "      <td>1999.0</td>\n",
       "      <td>NaN</td>\n",
       "      <td></td>\n",
       "      <td>$0</td>\n",
       "      <td>None</td>\n",
       "    </tr>\n",
       "    <tr>\n",
       "      <th>3</th>\n",
       "      <td>{'latitude': 34.090368, 'longitude': -118.393064}</td>\n",
       "      <td>web</td>\n",
       "      <td>Geneology social network site</td>\n",
       "      <td>2006.0</td>\n",
       "      <td>18.0</td>\n",
       "      <td>geni, geneology, social, family, genealogy</td>\n",
       "      <td>$16.5M</td>\n",
       "      <td>geni</td>\n",
       "    </tr>\n",
       "    <tr>\n",
       "      <th>4</th>\n",
       "      <td>{'latitude': 34.076179, 'longitude': -118.39417}</td>\n",
       "      <td>web</td>\n",
       "      <td></td>\n",
       "      <td>1979.0</td>\n",
       "      <td>0.0</td>\n",
       "      <td></td>\n",
       "      <td>$0</td>\n",
       "      <td>twitterapi</td>\n",
       "    </tr>\n",
       "  </tbody>\n",
       "</table>\n",
       "</div>"
      ],
      "text/plain": [
       "                                         coordenadas     Category  \\\n",
       "0  {'latitude': 37.764726, 'longitude': -122.394523}         news   \n",
       "1  {'latitude': 34.025958, 'longitude': -118.379768}  games_video   \n",
       "2  {'latitude': 37.506885, 'longitude': -122.247573}          web   \n",
       "3  {'latitude': 34.090368, 'longitude': -118.393064}          web   \n",
       "4   {'latitude': 34.076179, 'longitude': -118.39417}          web   \n",
       "\n",
       "                          Description  Founded_year  number_of_employees  \\\n",
       "0  user driven social content website        2004.0                 60.0   \n",
       "1                                None           NaN                  NaN   \n",
       "2                                None        1999.0                  NaN   \n",
       "3       Geneology social network site        2006.0                 18.0   \n",
       "4                                            1979.0                  0.0   \n",
       "\n",
       "                                            tag_list total_money_raised  \\\n",
       "0  community, social, news, bookmark, digg, techn...               $45M   \n",
       "1                              flektor, photo, video                 $0   \n",
       "2                                                                    $0   \n",
       "3         geni, geneology, social, family, genealogy             $16.5M   \n",
       "4                                                                    $0   \n",
       "\n",
       "      twitter  \n",
       "0        digg  \n",
       "1        None  \n",
       "2        None  \n",
       "3        geni  \n",
       "4  twitterapi  "
      ]
     },
     "execution_count": 10,
     "metadata": {},
     "output_type": "execute_result"
    }
   ],
   "source": [
    "df_companies.columns  = ['coordenadas','Category','Description','Founded_year','number_of_employees',\n",
    "                          'tag_list','total_money_raised','twitter']\n",
    "\n",
    "df_companies.head(5)"
   ]
  },
  {
   "cell_type": "code",
   "execution_count": 11,
   "metadata": {},
   "outputs": [
    {
     "data": {
      "text/plain": [
       "coordenadas            4915\n",
       "Category               2741\n",
       "Description            6160\n",
       "Founded_year           5447\n",
       "number_of_employees    9469\n",
       "tag_list               3999\n",
       "total_money_raised        0\n",
       "twitter                6996\n",
       "dtype: int64"
      ]
     },
     "execution_count": 11,
     "metadata": {},
     "output_type": "execute_result"
    }
   ],
   "source": [
    "df_companies.isnull().sum()"
   ]
  },
  {
   "cell_type": "code",
   "execution_count": 12,
   "metadata": {},
   "outputs": [
    {
     "data": {
      "text/plain": [
       "coordenadas            1244\n",
       "Category                 42\n",
       "Description            2144\n",
       "Founded_year              0\n",
       "number_of_employees       0\n",
       "tag_list                198\n",
       "total_money_raised        0\n",
       "twitter                2651\n",
       "dtype: int64"
      ]
     },
     "execution_count": 12,
     "metadata": {},
     "output_type": "execute_result"
    }
   ],
   "source": [
    "#elimino las filas que no tengan valor en founded year o en number of employees\n",
    "\n",
    "import numpy as np\n",
    "\n",
    "df_companies = df_companies[np.isfinite(df_companies['Founded_year'])]\n",
    "df_companies = df_companies[np.isfinite(df_companies['number_of_employees'])]\n",
    "\n",
    "df_companies.isnull().sum()"
   ]
  },
  {
   "cell_type": "code",
   "execution_count": 17,
   "metadata": {},
   "outputs": [
    {
     "data": {
      "text/html": [
       "<div>\n",
       "<style scoped>\n",
       "    .dataframe tbody tr th:only-of-type {\n",
       "        vertical-align: middle;\n",
       "    }\n",
       "\n",
       "    .dataframe tbody tr th {\n",
       "        vertical-align: top;\n",
       "    }\n",
       "\n",
       "    .dataframe thead th {\n",
       "        text-align: right;\n",
       "    }\n",
       "</style>\n",
       "<table border=\"1\" class=\"dataframe\">\n",
       "  <thead>\n",
       "    <tr style=\"text-align: right;\">\n",
       "      <th></th>\n",
       "      <th>coordenadas</th>\n",
       "      <th>Category</th>\n",
       "      <th>Description</th>\n",
       "      <th>Founded_year</th>\n",
       "      <th>number_of_employees</th>\n",
       "      <th>tag_list</th>\n",
       "      <th>total_money_raised</th>\n",
       "      <th>twitter</th>\n",
       "    </tr>\n",
       "  </thead>\n",
       "  <tbody>\n",
       "    <tr>\n",
       "      <th>0</th>\n",
       "      <td>{'latitude': 37.764726, 'longitude': -122.394523}</td>\n",
       "      <td>news</td>\n",
       "      <td>user driven social content website</td>\n",
       "      <td>2004.0</td>\n",
       "      <td>60.0</td>\n",
       "      <td>community, social, news, bookmark, digg, techn...</td>\n",
       "      <td>$45M</td>\n",
       "      <td>digg</td>\n",
       "    </tr>\n",
       "    <tr>\n",
       "      <th>3</th>\n",
       "      <td>{'latitude': 34.090368, 'longitude': -118.393064}</td>\n",
       "      <td>web</td>\n",
       "      <td>Geneology social network site</td>\n",
       "      <td>2006.0</td>\n",
       "      <td>18.0</td>\n",
       "      <td>geni, geneology, social, family, genealogy</td>\n",
       "      <td>$16.5M</td>\n",
       "      <td>geni</td>\n",
       "    </tr>\n",
       "    <tr>\n",
       "      <th>4</th>\n",
       "      <td>{'latitude': 34.076179, 'longitude': -118.39417}</td>\n",
       "      <td>web</td>\n",
       "      <td></td>\n",
       "      <td>1979.0</td>\n",
       "      <td>0.0</td>\n",
       "      <td></td>\n",
       "      <td>$0</td>\n",
       "      <td>twitterapi</td>\n",
       "    </tr>\n",
       "    <tr>\n",
       "      <th>10</th>\n",
       "      <td>{'latitude': 37.789634, 'longitude': -122.404052}</td>\n",
       "      <td>news</td>\n",
       "      <td>Read Unlimited Books</td>\n",
       "      <td>2007.0</td>\n",
       "      <td>50.0</td>\n",
       "      <td>book-subscription, digital-library, netflix-fo...</td>\n",
       "      <td>$25.8M</td>\n",
       "      <td>scribd</td>\n",
       "    </tr>\n",
       "    <tr>\n",
       "      <th>11</th>\n",
       "      <td>{'latitude': 40.757929, 'longitude': -73.985506}</td>\n",
       "      <td>social</td>\n",
       "      <td>Mobile Dating</td>\n",
       "      <td>2007.0</td>\n",
       "      <td>15.0</td>\n",
       "      <td>mobile, dating, location, realtime, phone</td>\n",
       "      <td>$5.58M</td>\n",
       "      <td>meetmoi</td>\n",
       "    </tr>\n",
       "  </tbody>\n",
       "</table>\n",
       "</div>"
      ],
      "text/plain": [
       "                                          coordenadas Category  \\\n",
       "0   {'latitude': 37.764726, 'longitude': -122.394523}     news   \n",
       "3   {'latitude': 34.090368, 'longitude': -118.393064}      web   \n",
       "4    {'latitude': 34.076179, 'longitude': -118.39417}      web   \n",
       "10  {'latitude': 37.789634, 'longitude': -122.404052}     news   \n",
       "11   {'latitude': 40.757929, 'longitude': -73.985506}   social   \n",
       "\n",
       "                           Description  Founded_year  number_of_employees  \\\n",
       "0   user driven social content website        2004.0                 60.0   \n",
       "3        Geneology social network site        2006.0                 18.0   \n",
       "4                                             1979.0                  0.0   \n",
       "10                Read Unlimited Books        2007.0                 50.0   \n",
       "11                       Mobile Dating        2007.0                 15.0   \n",
       "\n",
       "                                             tag_list total_money_raised  \\\n",
       "0   community, social, news, bookmark, digg, techn...               $45M   \n",
       "3          geni, geneology, social, family, genealogy             $16.5M   \n",
       "4                                                                     $0   \n",
       "10  book-subscription, digital-library, netflix-fo...             $25.8M   \n",
       "11          mobile, dating, location, realtime, phone             $5.58M   \n",
       "\n",
       "       twitter  \n",
       "0         digg  \n",
       "3         geni  \n",
       "4   twitterapi  \n",
       "10      scribd  \n",
       "11     meetmoi  "
      ]
     },
     "execution_count": 17,
     "metadata": {},
     "output_type": "execute_result"
    }
   ],
   "source": [
    "df_companies.head()"
   ]
  },
  {
   "cell_type": "code",
   "execution_count": null,
   "metadata": {},
   "outputs": [],
   "source": []
  },
  {
   "cell_type": "code",
   "execution_count": null,
   "metadata": {},
   "outputs": [],
   "source": [
    "'''\n",
    "def toGeoJSON(array):\n",
    "    return {\n",
    "        \"type\":\"Point\",\n",
    "        \"coordinates\":[array[0],array[1]]\n",
    "    }\n",
    "\n",
    "\n",
    "toGeoJSON(df_companies['coordenadas'])\n",
    "'''"
   ]
  },
  {
   "cell_type": "code",
   "execution_count": null,
   "metadata": {},
   "outputs": [],
   "source": []
  },
  {
   "cell_type": "code",
   "execution_count": null,
   "metadata": {},
   "outputs": [],
   "source": []
  }
 ],
 "metadata": {
  "kernelspec": {
   "display_name": "Python 3",
   "language": "python",
   "name": "python3"
  },
  "language_info": {
   "codemirror_mode": {
    "name": "ipython",
    "version": 3
   },
   "file_extension": ".py",
   "mimetype": "text/x-python",
   "name": "python",
   "nbconvert_exporter": "python",
   "pygments_lexer": "ipython3",
   "version": "3.6.7"
  }
 },
 "nbformat": 4,
 "nbformat_minor": 2
}
