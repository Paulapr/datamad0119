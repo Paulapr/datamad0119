{
 "cells": [
  {
   "cell_type": "markdown",
   "metadata": {},
   "source": [
    "# GEOSPACIAL VISUALIZATION PROJECT"
   ]
  },
  {
   "cell_type": "markdown",
   "metadata": {},
   "source": [
    "- Mi empresa:\n",
    "    - Compañia de software con 50 empleados.\n",
    "    - Producto: videojuegos\n",
    "    - Empleados: 20 developers, 20 Designers/Creatieves/UX/UI and 10 executives/managers\n",
    "     \n",
    "- Requisitos buscados para localizar la empresa: radio de cercania: 50 km\n",
    "\n",
    "        --> offices.latitude\n",
    "        --> offices.longitude\n",
    "        \n",
    "    - Debe haber software engineers trabajando cerca:\n",
    "        - category_code\n",
    "        \n",
    "    - Debe haber un buen ratio entre grandes compañias / startups\n",
    "        - number_of_employees: 0-10 startup; 11-100 small; 100-999 medium; >1000 big\n",
    "        - total_money_raised\n",
    "        \n",
    "    - Empresas cercanas deben cubrir los intereses de mis trabajadores --> Text mining\n",
    "        - tag_list\n",
    "        - twitter_username: nº de seguidores, nºtweets\n",
    "        \n",
    "    - Prefiero estar cerca de compañias nuevas que viejas\n",
    "        - deadpooled_year: null -- ELimino las compañias que quebraron\n",
    "        - founded_year: considero solo compañias con 10 años de antiguedad maximo"
   ]
  },
  {
   "cell_type": "code",
   "execution_count": 1,
   "metadata": {},
   "outputs": [],
   "source": [
    "import pandas as pd\n",
    "import numpy as np\n",
    "import re\n",
    "import pymongo"
   ]
  },
  {
   "cell_type": "markdown",
   "metadata": {},
   "source": [
    "## 1. Limpiar el data set para seleccionar solo las compañias que me interesan."
   ]
  },
  {
   "cell_type": "code",
   "execution_count": 2,
   "metadata": {},
   "outputs": [],
   "source": [
    "# Cargar la base de datos de Mongodb\n",
    "\n",
    "MongoClient = pymongo.MongoClient\n",
    "client = MongoClient()\n",
    "db = client.companies"
   ]
  },
  {
   "cell_type": "code",
   "execution_count": 3,
   "metadata": {},
   "outputs": [],
   "source": [
    "# Crear un cursor con los campos que me interesan y filtrando de entrada ciertas empresas. \n",
    "\n",
    "companies_interest = list(db.companies.find({\"deadpooled_year\": None},\n",
    "                                       {\"_id\":0,\"name\":1,\"category_code\":1,\"number_of_employees\":1,\n",
    "                                       \"total_money_raised\":1,\"tag_list\":1,\"founded_year\":1,\"twitter_username\":1,\n",
    "                                       \"offices.latitude\":1,\"offices.longitude\":1}))"
   ]
  },
  {
   "cell_type": "code",
   "execution_count": 4,
   "metadata": {},
   "outputs": [
    {
     "data": {
      "text/plain": [
       "(17872, 8)"
      ]
     },
     "metadata": {},
     "output_type": "display_data"
    }
   ],
   "source": [
    "# Crear un dataframe a partir del cursor extraido de mongodb\n",
    "\n",
    "df_companies = pd.DataFrame(companies_interest)\n",
    "\n",
    "display(df_companies.shape)"
   ]
  },
  {
   "cell_type": "code",
   "execution_count": 5,
   "metadata": {},
   "outputs": [
    {
     "name": "stderr",
     "output_type": "stream",
     "text": [
      "/usr/lib/python3/dist-packages/ipykernel_launcher.py:3: DeprecationWarning: Non-string object detected for the array ordering. Please pass in 'C', 'F', 'A', or 'K' instead\n",
      "  This is separate from the ipykernel package so we can avoid doing imports until\n"
     ]
    }
   ],
   "source": [
    "# Extraer de la columna offices las coordenadas para pasarlas a GeoJson\n",
    "\n",
    "df_= pd.DataFrame(pd.DataFrame(df_companies[\"offices\"].values.flatten([0]).tolist()))\n",
    "df_companies = pd.concat([df_,df_companies],axis=1)"
   ]
  },
  {
   "cell_type": "code",
   "execution_count": 6,
   "metadata": {},
   "outputs": [],
   "source": [
    "# Al hacer esta acción se crean numerosas columnas (66), me quedo solo con la primera.\n",
    "\n",
    "df_companies = df_companies[['name','category_code',0,'founded_year','number_of_employees',\n",
    "                             'total_money_raised','tag_list','twitter_username']].copy()\n",
    "\n",
    "df_companies.columns= ['name','category','coords','founded_year','employees','total_money_raised','tags','twitter']"
   ]
  },
  {
   "cell_type": "code",
   "execution_count": 7,
   "metadata": {},
   "outputs": [
    {
     "data": {
      "text/html": [
       "<div>\n",
       "<style scoped>\n",
       "    .dataframe tbody tr th:only-of-type {\n",
       "        vertical-align: middle;\n",
       "    }\n",
       "\n",
       "    .dataframe tbody tr th {\n",
       "        vertical-align: top;\n",
       "    }\n",
       "\n",
       "    .dataframe thead th {\n",
       "        text-align: right;\n",
       "    }\n",
       "</style>\n",
       "<table border=\"1\" class=\"dataframe\">\n",
       "  <thead>\n",
       "    <tr style=\"text-align: right;\">\n",
       "      <th></th>\n",
       "      <th>name</th>\n",
       "      <th>category</th>\n",
       "      <th>coords</th>\n",
       "      <th>founded_year</th>\n",
       "      <th>employees</th>\n",
       "      <th>total_money_raised</th>\n",
       "      <th>tags</th>\n",
       "      <th>twitter</th>\n",
       "    </tr>\n",
       "  </thead>\n",
       "  <tbody>\n",
       "    <tr>\n",
       "      <th>0</th>\n",
       "      <td>Digg</td>\n",
       "      <td>news</td>\n",
       "      <td>{'latitude': 37.764726, 'longitude': -122.394523}</td>\n",
       "      <td>2004.0</td>\n",
       "      <td>60.0</td>\n",
       "      <td>$45M</td>\n",
       "      <td>community, social, news, bookmark, digg, techn...</td>\n",
       "      <td>digg</td>\n",
       "    </tr>\n",
       "    <tr>\n",
       "      <th>1</th>\n",
       "      <td>Flektor</td>\n",
       "      <td>games_video</td>\n",
       "      <td>{'latitude': 34.025958, 'longitude': -118.379768}</td>\n",
       "      <td>NaN</td>\n",
       "      <td>NaN</td>\n",
       "      <td>$0</td>\n",
       "      <td>flektor, photo, video</td>\n",
       "      <td>None</td>\n",
       "    </tr>\n",
       "    <tr>\n",
       "      <th>2</th>\n",
       "      <td>Postini</td>\n",
       "      <td>web</td>\n",
       "      <td>{'latitude': 37.506885, 'longitude': -122.247573}</td>\n",
       "      <td>1999.0</td>\n",
       "      <td>NaN</td>\n",
       "      <td>$0</td>\n",
       "      <td></td>\n",
       "      <td>None</td>\n",
       "    </tr>\n",
       "    <tr>\n",
       "      <th>3</th>\n",
       "      <td>Geni</td>\n",
       "      <td>web</td>\n",
       "      <td>{'latitude': 34.090368, 'longitude': -118.393064}</td>\n",
       "      <td>2006.0</td>\n",
       "      <td>18.0</td>\n",
       "      <td>$16.5M</td>\n",
       "      <td>geni, geneology, social, family, genealogy</td>\n",
       "      <td>geni</td>\n",
       "    </tr>\n",
       "    <tr>\n",
       "      <th>4</th>\n",
       "      <td>Fox Interactive Media</td>\n",
       "      <td>web</td>\n",
       "      <td>{'latitude': 34.076179, 'longitude': -118.39417}</td>\n",
       "      <td>1979.0</td>\n",
       "      <td>0.0</td>\n",
       "      <td>$0</td>\n",
       "      <td></td>\n",
       "      <td>twitterapi</td>\n",
       "    </tr>\n",
       "  </tbody>\n",
       "</table>\n",
       "</div>"
      ],
      "text/plain": [
       "                    name     category  \\\n",
       "0                   Digg         news   \n",
       "1                Flektor  games_video   \n",
       "2                Postini          web   \n",
       "3                   Geni          web   \n",
       "4  Fox Interactive Media          web   \n",
       "\n",
       "                                              coords  founded_year  employees  \\\n",
       "0  {'latitude': 37.764726, 'longitude': -122.394523}        2004.0       60.0   \n",
       "1  {'latitude': 34.025958, 'longitude': -118.379768}           NaN        NaN   \n",
       "2  {'latitude': 37.506885, 'longitude': -122.247573}        1999.0        NaN   \n",
       "3  {'latitude': 34.090368, 'longitude': -118.393064}        2006.0       18.0   \n",
       "4   {'latitude': 34.076179, 'longitude': -118.39417}        1979.0        0.0   \n",
       "\n",
       "  total_money_raised                                               tags  \\\n",
       "0               $45M  community, social, news, bookmark, digg, techn...   \n",
       "1                 $0                              flektor, photo, video   \n",
       "2                 $0                                                      \n",
       "3             $16.5M         geni, geneology, social, family, genealogy   \n",
       "4                 $0                                                      \n",
       "\n",
       "      twitter  \n",
       "0        digg  \n",
       "1        None  \n",
       "2        None  \n",
       "3        geni  \n",
       "4  twitterapi  "
      ]
     },
     "execution_count": 7,
     "metadata": {},
     "output_type": "execute_result"
    }
   ],
   "source": [
    "df_companies.head()"
   ]
  },
  {
   "cell_type": "code",
   "execution_count": 8,
   "metadata": {},
   "outputs": [],
   "source": [
    "# Columnas 'founded_year' y 'employees': Eliminar nulos y cambiar tipo de dato. Filtro empresas > 10 años\n",
    "\n",
    "df_companies = df_companies[np.isfinite(df_companies['founded_year'])]\n",
    "df_companies = df_companies[np.isfinite(df_companies['employees'])]\n",
    "\n",
    "df_companies['employees'] = df_companies['employees'].astype('int64')\n",
    "df_companies['founded_year'] = df_companies['founded_year'].astype('int64')\n",
    "\n",
    "df_companies = df_companies.loc[df_companies[\"founded_year\"]>=2008]"
   ]
  },
  {
   "cell_type": "code",
   "execution_count": 9,
   "metadata": {},
   "outputs": [
    {
     "data": {
      "text/plain": [
       "tamaño_empresa\n",
       "startup    1728\n",
       "small       443\n",
       "medium       45\n",
       "big           5\n",
       "Name: name, dtype: int64"
      ]
     },
     "execution_count": 9,
     "metadata": {},
     "output_type": "execute_result"
    }
   ],
   "source": [
    "# Creo bins con 'employees': startup, pequeña, mediana y gran empresa\n",
    "\n",
    "bins = [0,10,100,999,500000]\n",
    "labels = [\"startup\",\"small\",\"medium\",\"big\"]\n",
    "df_companies['tamaño_empresa'] = pd.cut(df_companies['employees'], bins=bins, labels=labels)\n",
    "\n",
    "df_companies.dropna(subset=['tamaño_empresa'], inplace=True)\n",
    "\n",
    "df_companies.groupby(df_companies.tamaño_empresa)['name'].nunique()  # mirar al final"
   ]
  },
  {
   "cell_type": "code",
   "execution_count": 10,
   "metadata": {},
   "outputs": [],
   "source": [
    "# En 'total_money_raised' extraigo el valor en millones de $ como indicador de tamaño de empresa. Elimino 0.0M\n",
    "\n",
    "def change_row (row):\n",
    "    row = ''.join((ch if ch in '0123456789.' else ' ') for ch in row)\n",
    "    return row\n",
    "\n",
    "df_companies['total_money_raised'] = (df_companies['total_money_raised'].apply(change_row))\n",
    "\n",
    "df_companies['total_money_raised(M)'] = df_companies['total_money_raised'].astype('float64')\n",
    "\n",
    "df_companies = df_companies.loc[df_companies['total_money_raised(M)']!=0.0]\n",
    "df_companies = df_companies.loc[df_companies['total_money_raised(M)']!=0.00]\n"
   ]
  },
  {
   "cell_type": "code",
   "execution_count": 11,
   "metadata": {},
   "outputs": [],
   "source": [
    "# Columna 'coords': elimino los nulos y la paso a formato GeoJson\n",
    "\n",
    "df_companies.dropna(subset=['coords'], inplace=True)\n",
    "\n",
    "def toGeoJSON(array):\n",
    "    return {\n",
    "        \"type\":\"Point\",\n",
    "        \"coordinates\":[array['longitude'],array['latitude']]\n",
    "    }\n",
    "\n",
    "df_companies['coords'] = df_companies.apply(lambda r: toGeoJSON(r['coords']), axis=1)\n",
    "\n",
    "df_companies = df_companies.loc[df_companies['coords']!= {'type': 'Point', 'coordinates': [None, None]}]"
   ]
  },
  {
   "cell_type": "code",
   "execution_count": 12,
   "metadata": {},
   "outputs": [],
   "source": [
    "# Columna 'category': filtro por las que me interesa tener cerca\n",
    "\n",
    "df_companies.dropna(subset=['category'], inplace=True)\n",
    "\n",
    "df_companies = df_companies.loc[df_companies['category'].\n",
    "                                isin(['web','games_video','mobile','network_hosting','hardware','software',\n",
    "                                      'ecommerce','public_relations','finance','analytics','sports','design'])]"
   ]
  },
  {
   "cell_type": "code",
   "execution_count": 13,
   "metadata": {},
   "outputs": [],
   "source": [
    "df_companies = df_companies.reset_index()\n",
    "df_companies = df_companies.drop(['index','total_money_raised'], axis=1)"
   ]
  },
  {
   "cell_type": "code",
   "execution_count": 14,
   "metadata": {},
   "outputs": [],
   "source": [
    "# Guardo el archivo limpio como json (GeoJson)\n",
    "\n",
    "df_companies.to_json(\"CleanCompanies.json\", orient=\"records\", lines=True)"
   ]
  },
  {
   "cell_type": "markdown",
   "metadata": {},
   "source": [
    "## 2. Cargar el nuevo data set en MongoDb para poder hacer las preguntas geo."
   ]
  },
  {
   "cell_type": "code",
   "execution_count": 15,
   "metadata": {},
   "outputs": [],
   "source": [
    "# Creo un diccionario con key:name, value:coordenadas\n",
    "\n",
    "list_coord = list(df_companies['coords'])\n",
    "list_coord = list (map(lambda d: d['coordinates'], list_coord))\n",
    "\n",
    "dict_coord = dict(zip(list(df_companies['name']),list_coord))"
   ]
  },
  {
   "cell_type": "code",
   "execution_count": 16,
   "metadata": {},
   "outputs": [],
   "source": [
    "# Creo una función que me devuelva las empresas en un radio de 5 km de un punto concreto en el mapa.\n",
    "\n",
    "def near_companies(coords): \n",
    "    cursor = db.clean_companies.find({\n",
    "      \"coords\": {\n",
    "        \"$near\": {\n",
    "          \"$geometry\": {\n",
    "            \"type\": \"Point\",\n",
    "            \"coordinates\": [coords[0], coords[1]]\n",
    "          },\n",
    "          \"$minDistance\": 0,\n",
    "          \"$maxDistance\":5000\n",
    "        }\n",
    "      }\n",
    "    })\n",
    "    \n",
    "    df_geocomp = pd.DataFrame(list(cursor))\n",
    "    \n",
    "    return df_geocomp\n",
    "\n",
    "# Esta devuelve no solo el número de empresas, también su categoria y su tamaño\n",
    "\n",
    "def results_df (df_geocomp):\n",
    "    results_df = df_geocomp[['name','category','tamaño_empresa']].copy()\n",
    "    return results_df\n",
    "\n",
    "# La siguiente devuelve el número de empresas cercanas\n",
    "\n",
    "def number (df_geocomp):\n",
    "    return df_geocomp['name'].count()"
   ]
  },
  {
   "cell_type": "code",
   "execution_count": 17,
   "metadata": {},
   "outputs": [
    {
     "name": "stdout",
     "output_type": "stream",
     "text": [
      "GoingOn 62\n",
      "Crunchyroll 62\n",
      "GENWI 1\n",
      "Fixya 9\n",
      "First30Days 1\n",
      "Social Gaming Network 27\n",
      "Stumpedia 1\n",
      "99designs 62\n",
      "Skydeck 9\n",
      "Magento 2\n",
      "Intent 11\n",
      "Noovo 27\n",
      "AudioMicro 1\n",
      "Mojiva 50\n",
      "GitHub 64\n",
      "Mad Mimi 3\n",
      "UserVoice 1\n",
      "Serious Business 62\n",
      "New Relic 3\n",
      "Jinni 4\n",
      "Smarkets 14\n",
      "Stitcher 64\n",
      "Socruise 1\n",
      "Pinch Media 53\n",
      "Orbster 2\n",
      "BrandYourself 2\n",
      "Tapulous 27\n",
      "Titan Gaming 3\n",
      "gAuto 3\n",
      "Posterous 64\n",
      "Open Places 58\n",
      "TweetDeck 23\n",
      "Wahanda 1\n",
      "IBTgames 1\n",
      "Samfind 11\n",
      "Prezi 2\n",
      "ngmoco 62\n",
      "CompareAway 1\n",
      "Integrate 43\n",
      "vufind 25\n",
      "Poll Everywhere 13\n",
      "YadaHome 8\n",
      "Occipital 5\n",
      "iCharts 9\n",
      "Producteev 39\n",
      "Twonq 63\n",
      "Tweegee 4\n",
      "Spare Change Payments 4\n",
      "Lolapps 62\n",
      "InnerRewards 63\n",
      "DealBase Corporation 8\n",
      "Cliqset 1\n",
      "Groupon 14\n",
      "BuzzStream 10\n",
      "Big In Japan 5\n",
      "iKlax Media 1\n",
      "Sailthru 53\n",
      "AlphaClone 63\n",
      "Formspring 1\n",
      "Wishabi 4\n",
      "CarZen 36\n",
      "Dukky 1\n",
      "BrightScope 4\n",
      "Yipit 56\n",
      "FiPath 6\n",
      "Virgance 62\n",
      "Saltlick Labs 4\n",
      "Double Encore 1\n",
      "Movirtu 14\n",
      "mobiManage 1\n",
      "People Capital 53\n",
      "MarketRiders 1\n",
      "Silver Tail Systems 26\n",
      "Tengaged 6\n",
      "Drync 3\n",
      "Coveroo 62\n",
      "ZimpleMoney 2\n",
      "Wealthfront 27\n",
      "StockTwits 2\n",
      "RJMetrics 5\n",
      "5th Finger 63\n",
      "Meez 62\n",
      "Zopim 1\n",
      "KODA 64\n",
      "Audiolife 1\n",
      "Shutl 21\n",
      "Socialize 5\n",
      "AdventureDrop 4\n",
      "Zapproved 1\n",
      "studdex 1\n",
      "Tinychat 1\n",
      "Comunitae 1\n",
      "BASH Gaming 1\n",
      "Dodreams 4\n",
      "L4 Mobile 3\n",
      "SocialCom 11\n",
      "SeatKarma 2\n",
      "AppZero 2\n",
      "howsimple 1\n",
      "Parents R People 1\n",
      "Viridity Software 2\n",
      "Optify 13\n",
      "Wee Web 53\n",
      "IGLOO Software 3\n",
      "Fantazzle Fantasy Sports Games 6\n",
      "Gridstore 8\n",
      "Proper Cloth 49\n",
      "userADgents 17\n",
      "SCVNGR 10\n",
      "Kapitall 50\n",
      "Home-Account 62\n",
      "Arimaz 1\n",
      "ProtoShare 3\n",
      "GameChanger Media 35\n",
      "IntheGlo 56\n",
      "Z2Live 13\n",
      "SwapBeats 1\n",
      "Gate 53|10 Technologies 5\n",
      "Tongal 11\n",
      "Ranker 8\n",
      "Link Trigger 1\n",
      "tracx 4\n",
      "Chartbeat 55\n",
      "Brandsclub 2\n",
      "Smallaa 5\n",
      "Joobili 2\n",
      "BoardEvals 1\n",
      "WEEZEVENT 1\n",
      "1calendar 2\n",
      "Milo 27\n",
      "Servo Software 9\n",
      "DP7 Digital 1\n",
      "Bueno Inc 2\n",
      "The Resumator 2\n",
      "YOOSE 11\n",
      "Udorse 53\n",
      "BitMethod 2\n",
      "Ykone 17\n",
      "BetKlub 16\n",
      "Kimengi 9\n",
      "Joroto 1\n",
      "Layar 9\n",
      "Lipperhey 8\n",
      "CrowdGather 1\n",
      "Mobiles Republic 1\n",
      "ubigrate 1\n",
      "ChallengePost 53\n",
      "StyleCaster 56\n",
      "Teambox 5\n",
      "Testplant 21\n",
      "Homesnap 2\n",
      "Culture Jam 11\n",
      "Continuity Engine 1\n",
      "Pipit Interactive 10\n",
      "Tiny Speck 11\n",
      "Getyoo 4\n"
     ]
    }
   ],
   "source": [
    "# Ver el número de empresas que tiene cada una de las empresas cerca\n",
    "\n",
    "for name, value in dict_coord.items():\n",
    "    print (name, number(near_companies(value)))"
   ]
  },
  {
   "cell_type": "code",
   "execution_count": 19,
   "metadata": {},
   "outputs": [],
   "source": [
    "# Me voy a quedar inicialmente con las que tienen mas de 50 empresas de las seleccionadas a su alrededor\n",
    "\n",
    "list_companies= []\n",
    "for name, value in dict_coord.items():\n",
    "    if int(number(near_companies(value)))>=50:\n",
    "        list_companies.append(name)\n",
    "\n",
    "# Creo un diccionario con estas empresas para representarlas en el mapa\n",
    "\n",
    "CompaniesSelect_1 = {k: dict_coord[k] for k in dict_coord.keys() & {'GoingOn', 'Crunchyroll', '99designs', 'Mojiva',\n",
    "                                                                    'GitHub', 'Serious Business', 'Stitcher',\n",
    "                                                                    'Pinch Media', 'Posterous', 'Open Places',\n",
    "                                                                    'ngmoco', 'Twonq', 'Lolapps', 'InnerRewards',\n",
    "                                                                    'Sailthru', 'AlphaClone', 'Yipit', 'Virgance',\n",
    "                                                                    'People Capital', 'Coveroo', '5th Finger',\n",
    "                                                                    'Meez', 'KODA', 'Wee Web', 'Kapitall',\n",
    "                                                                    'Home-Account', 'IntheGlo', 'Chartbeat',\n",
    "                                                                    'Udorse', 'ChallengePost', 'StyleCaster'}}\n",
    "\n",
    "CompaniesSelect_1 = pd.DataFrame.from_dict(CompaniesSelect_1, orient='index')\n",
    "\n",
    "CompaniesSelect_1 = CompaniesSelect_1.reset_index()\n",
    "\n",
    "CompaniesSelect_1.columns = ['name','long','lat']\n",
    "\n",
    "# Creo un json\n",
    "\n",
    "CompaniesSelect_1.to_json(\"CompaniesSelect_1.json\",orient='records')"
   ]
  },
  {
   "cell_type": "markdown",
   "metadata": {},
   "source": [
    "## 3. Creo un data set para representar todas las empresas de la primera limpieza"
   ]
  },
  {
   "cell_type": "code",
   "execution_count": 20,
   "metadata": {},
   "outputs": [
    {
     "name": "stderr",
     "output_type": "stream",
     "text": [
      "/usr/lib/python3/dist-packages/ipykernel_launcher.py:3: DeprecationWarning: Non-string object detected for the array ordering. Please pass in 'C', 'F', 'A', or 'K' instead\n",
      "  This is separate from the ipykernel package so we can avoid doing imports until\n"
     ]
    },
    {
     "data": {
      "text/html": [
       "<div>\n",
       "<style scoped>\n",
       "    .dataframe tbody tr th:only-of-type {\n",
       "        vertical-align: middle;\n",
       "    }\n",
       "\n",
       "    .dataframe tbody tr th {\n",
       "        vertical-align: top;\n",
       "    }\n",
       "\n",
       "    .dataframe thead th {\n",
       "        text-align: right;\n",
       "    }\n",
       "</style>\n",
       "<table border=\"1\" class=\"dataframe\">\n",
       "  <thead>\n",
       "    <tr style=\"text-align: right;\">\n",
       "      <th></th>\n",
       "      <th>name</th>\n",
       "      <th>category</th>\n",
       "      <th>tamaño_empresa</th>\n",
       "      <th>long</th>\n",
       "      <th>lat</th>\n",
       "    </tr>\n",
       "  </thead>\n",
       "  <tbody>\n",
       "    <tr>\n",
       "      <th>0</th>\n",
       "      <td>GoingOn</td>\n",
       "      <td>software</td>\n",
       "      <td>small</td>\n",
       "      <td>-122.392142</td>\n",
       "      <td>37.782263</td>\n",
       "    </tr>\n",
       "    <tr>\n",
       "      <th>1</th>\n",
       "      <td>Crunchyroll</td>\n",
       "      <td>games_video</td>\n",
       "      <td>small</td>\n",
       "      <td>-122.393229</td>\n",
       "      <td>37.781265</td>\n",
       "    </tr>\n",
       "    <tr>\n",
       "      <th>2</th>\n",
       "      <td>GENWI</td>\n",
       "      <td>mobile</td>\n",
       "      <td>small</td>\n",
       "      <td>-111.903500</td>\n",
       "      <td>33.817100</td>\n",
       "    </tr>\n",
       "    <tr>\n",
       "      <th>3</th>\n",
       "      <td>Fixya</td>\n",
       "      <td>web</td>\n",
       "      <td>small</td>\n",
       "      <td>-122.323895</td>\n",
       "      <td>37.566879</td>\n",
       "    </tr>\n",
       "    <tr>\n",
       "      <th>4</th>\n",
       "      <td>First30Days</td>\n",
       "      <td>web</td>\n",
       "      <td>small</td>\n",
       "      <td>-85.717393</td>\n",
       "      <td>38.257035</td>\n",
       "    </tr>\n",
       "  </tbody>\n",
       "</table>\n",
       "</div>"
      ],
      "text/plain": [
       "          name     category tamaño_empresa        long        lat\n",
       "0      GoingOn     software          small -122.392142  37.782263\n",
       "1  Crunchyroll  games_video          small -122.393229  37.781265\n",
       "2        GENWI       mobile          small -111.903500  33.817100\n",
       "3        Fixya          web          small -122.323895  37.566879\n",
       "4  First30Days          web          small  -85.717393  38.257035"
      ]
     },
     "execution_count": 20,
     "metadata": {},
     "output_type": "execute_result"
    }
   ],
   "source": [
    "All_Companies = df_companies[['name','category','coords','tamaño_empresa']]\n",
    "\n",
    "df_= pd.DataFrame(pd.DataFrame(All_Companies[\"coords\"].values.flatten([0]).tolist()))\n",
    "All_Companies = pd.concat([df_,All_Companies],axis=1)\n",
    "\n",
    "\n",
    "coord = All_Companies['coordinates'].apply(pd.Series)\n",
    "All_Companies = pd.concat([All_Companies[:], coord[:]], axis=1)\n",
    "All_Companies = All_Companies.drop(['coords','type','coordinates'], axis=1)\n",
    "\n",
    "All_Companies.columns = ['name','category','tamaño_empresa','long','lat']\n",
    "\n",
    "All_Companies.head()"
   ]
  },
  {
   "cell_type": "code",
   "execution_count": 21,
   "metadata": {},
   "outputs": [],
   "source": [
    "# Creo un json\n",
    "\n",
    "All_Companies.to_json(\"All_Companies.json\",orient='records')"
   ]
  },
  {
   "cell_type": "markdown",
   "metadata": {},
   "source": [
    "### Finalmente los puntos elegidos son:\n",
    "    - Principalmente la zona de Market Streeten San Francisco (US A): (37.787,-122.40)\n",
    "    - Manhattan la zona de la 14th con la 4th, Nueva York (USA): (40.733,-73.99)\n",
    "    \n",
    "* He utilizado varios mapas ya que no  he podido comparar mediante dataframes los datos de categoria y tamaño de las empresas. Por ello, tras ver el mapa con las empresas con mas empresas cercanas dentro del filtro (que incluian empresas de todo tamaño y algunas categorias concretas), he observado un mapa con todas las empresas tras la primera limpieza, y ahí he podido ver con detalle el tamaño de las empresas de la zona y tambien la categoria. "
   ]
  }
 ],
 "metadata": {
  "kernelspec": {
   "display_name": "Python 3",
   "language": "python",
   "name": "python3"
  },
  "language_info": {
   "codemirror_mode": {
    "name": "ipython",
    "version": 3
   },
   "file_extension": ".py",
   "mimetype": "text/x-python",
   "name": "python",
   "nbconvert_exporter": "python",
   "pygments_lexer": "ipython3",
   "version": "3.6.7"
  }
 },
 "nbformat": 4,
 "nbformat_minor": 2
}
