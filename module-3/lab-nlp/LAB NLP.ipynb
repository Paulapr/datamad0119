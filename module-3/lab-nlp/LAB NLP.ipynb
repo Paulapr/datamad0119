{
 "cells": [
  {
   "cell_type": "markdown",
   "metadata": {},
   "source": [
    "# Challenge 1\n",
    "\n",
    "--> Install and test NLTK"
   ]
  },
  {
   "cell_type": "code",
   "execution_count": 1,
   "metadata": {},
   "outputs": [],
   "source": [
    "import nltk"
   ]
  },
  {
   "cell_type": "code",
   "execution_count": 2,
   "metadata": {},
   "outputs": [
    {
     "name": "stderr",
     "output_type": "stream",
     "text": [
      "[nltk_data] Downloading package brown to /home/paula/nltk_data...\n",
      "[nltk_data]   Package brown is already up-to-date!\n"
     ]
    },
    {
     "data": {
      "text/plain": [
       "True"
      ]
     },
     "execution_count": 2,
     "metadata": {},
     "output_type": "execute_result"
    }
   ],
   "source": [
    "from nltk.corpus import brown\n",
    "nltk.download('brown')"
   ]
  },
  {
   "cell_type": "code",
   "execution_count": 3,
   "metadata": {},
   "outputs": [
    {
     "name": "stdout",
     "output_type": "stream",
     "text": [
      "['The', 'Fulton', 'County', 'Grand', 'Jury', 'said', 'Friday', 'an', 'investigation', 'of']\n"
     ]
    }
   ],
   "source": [
    "print(brown.words()[0:10])"
   ]
  },
  {
   "cell_type": "code",
   "execution_count": 4,
   "metadata": {},
   "outputs": [
    {
     "name": "stdout",
     "output_type": "stream",
     "text": [
      "[('The', 'AT'), ('Fulton', 'NP-TL'), ('County', 'NN-TL'), ('Grand', 'JJ-TL'), ('Jury', 'NN-TL'), ('said', 'VBD'), ('Friday', 'NR'), ('an', 'AT'), ('investigation', 'NN'), ('of', 'IN')]\n"
     ]
    }
   ],
   "source": [
    "print(brown.tagged_words()[0:10])"
   ]
  },
  {
   "cell_type": "code",
   "execution_count": 5,
   "metadata": {},
   "outputs": [
    {
     "name": "stderr",
     "output_type": "stream",
     "text": [
      "[nltk_data] Downloading package punkt to /home/paula/nltk_data...\n",
      "[nltk_data]   Package punkt is already up-to-date!\n"
     ]
    },
    {
     "data": {
      "text/plain": [
       "True"
      ]
     },
     "execution_count": 5,
     "metadata": {},
     "output_type": "execute_result"
    }
   ],
   "source": [
    "nltk.download('punkt')"
   ]
  },
  {
   "cell_type": "code",
   "execution_count": 6,
   "metadata": {},
   "outputs": [
    {
     "name": "stdout",
     "output_type": "stream",
     "text": [
      "['Ironhack is a Global Tech School ranked num 2 worldwide.', 'Our mission is to help people transform their careers and join a thriving community of tech professionals that love what they do.', 'This ideology is reflected in our teaching practices, which consist of a nine-weeks immersive programming, UX/UI design or Data Analytics course as well as a one-week hiring fair aimed at helping our students change their career and get a job straight after the course.', 'We are present in 8 countries and have campuses in 9 locations - Madrid, Barcelona, Miami, Paris, Mexico City,  Berlin, Amsterdam, Sao Paulo and Lisbon.']\n"
     ]
    }
   ],
   "source": [
    "text = 'Ironhack is a Global Tech School ranked num 2 worldwide. Our mission is to help people transform their careers and join a thriving community of tech professionals that love what they do. This ideology is reflected in our teaching practices, which consist of a nine-weeks immersive programming, UX/UI design or Data Analytics course as well as a one-week hiring fair aimed at helping our students change their career and get a job straight after the course. We are present in 8 countries and have campuses in 9 locations - Madrid, Barcelona, Miami, Paris, Mexico City,  Berlin, Amsterdam, Sao Paulo and Lisbon.'\n",
    "\n",
    "from nltk import sent_tokenize, word_tokenize\n",
    "\n",
    "print(sent_tokenize(text))"
   ]
  },
  {
   "cell_type": "code",
   "execution_count": 7,
   "metadata": {},
   "outputs": [
    {
     "name": "stdout",
     "output_type": "stream",
     "text": [
      "['Ironhack', 'is', 'a', 'Global', 'Tech', 'School', 'ranked', 'num', '2', 'worldwide', '.', 'Our', 'mission', 'is', 'to', 'help', 'people', 'transform', 'their', 'careers', 'and', 'join', 'a', 'thriving', 'community', 'of', 'tech', 'professionals', 'that', 'love', 'what', 'they', 'do', '.', 'This', 'ideology', 'is', 'reflected', 'in', 'our', 'teaching', 'practices', ',', 'which', 'consist', 'of', 'a', 'nine-weeks', 'immersive', 'programming', ',', 'UX/UI', 'design', 'or', 'Data', 'Analytics', 'course', 'as', 'well', 'as', 'a', 'one-week', 'hiring', 'fair', 'aimed', 'at', 'helping', 'our', 'students', 'change', 'their', 'career', 'and', 'get', 'a', 'job', 'straight', 'after', 'the', 'course', '.', 'We', 'are', 'present', 'in', '8', 'countries', 'and', 'have', 'campuses', 'in', '9', 'locations', '-', 'Madrid', ',', 'Barcelona', ',', 'Miami', ',', 'Paris', ',', 'Mexico', 'City', ',', 'Berlin', ',', 'Amsterdam', ',', 'Sao', 'Paulo', 'and', 'Lisbon', '.']\n"
     ]
    }
   ],
   "source": [
    "print(word_tokenize(text))"
   ]
  },
  {
   "cell_type": "markdown",
   "metadata": {},
   "source": [
    "# Challenge 2\n",
    "\n",
    "--> Define functions: text cleaning, tokenization, stemming, lemmatization, and stop words removal"
   ]
  },
  {
   "cell_type": "code",
   "execution_count": 8,
   "metadata": {},
   "outputs": [],
   "source": [
    "# TEXT CLEANING: special characters, numbers, and URLs\n",
    "\n",
    "# INPUT: @Ironhack's-#Q website 776-is http://ironhack.com [(2018)]\")\n",
    "# OUTPUT: ironhack s  q website  is\n",
    "\n",
    "import re\n",
    "\n",
    "def clean_up(s):\n",
    "    s = re.sub('https?://(?:[-\\w.]|(?:%[\\da-fA-F]{2}))+', '', s)\n",
    "    s = s.lower()\n",
    "    s = re.sub('[^a-z]+', ' ', s)\n",
    "    return s.strip()"
   ]
  },
  {
   "cell_type": "code",
   "execution_count": 9,
   "metadata": {},
   "outputs": [
    {
     "data": {
      "text/plain": [
       "'ironhack s q website is'"
      ]
     },
     "execution_count": 9,
     "metadata": {},
     "output_type": "execute_result"
    }
   ],
   "source": [
    "s = \"@Ironhack's-#Q website 776-is http://ironhack.com [(2018)]\\\")\"\n",
    "\n",
    "clean_up(s)"
   ]
  },
  {
   "cell_type": "code",
   "execution_count": 10,
   "metadata": {},
   "outputs": [],
   "source": [
    "# TOKENIZATION\n",
    "\n",
    "def tokenize(s):\n",
    "    s = word_tokenize(s)\n",
    "    return s"
   ]
  },
  {
   "cell_type": "code",
   "execution_count": 11,
   "metadata": {},
   "outputs": [
    {
     "data": {
      "text/plain": [
       "['ironhack', 's', 'q', 'website', 'is']"
      ]
     },
     "execution_count": 11,
     "metadata": {},
     "output_type": "execute_result"
    }
   ],
   "source": [
    "s = clean_up(s)\n",
    "\n",
    "tokenize(s)"
   ]
  },
  {
   "cell_type": "code",
   "execution_count": 12,
   "metadata": {},
   "outputs": [
    {
     "name": "stderr",
     "output_type": "stream",
     "text": [
      "[nltk_data] Downloading package wordnet to /home/paula/nltk_data...\n",
      "[nltk_data]   Package wordnet is already up-to-date!\n"
     ]
    }
   ],
   "source": [
    "#STEMMING AND LEMMATIZATION\n",
    "\n",
    "from nltk.stem import PorterStemmer\n",
    "from nltk.stem import WordNetLemmatizer\n",
    "nltk.download('wordnet')\n",
    "\n",
    "def stem_and_lemmatize(l):\n",
    "    new_l = []\n",
    "    ps = PorterStemmer()\n",
    "    lemmatizer = WordNetLemmatizer()\n",
    "    for word in l:\n",
    "        word = lemmatizer.lemmatize(ps.stem(word))\n",
    "        new_l.append(word)\n",
    "    return new_l     "
   ]
  },
  {
   "cell_type": "code",
   "execution_count": 13,
   "metadata": {},
   "outputs": [
    {
     "data": {
      "text/plain": [
       "['ironhack', 's', 'q', 'websit', 'is']"
      ]
     },
     "execution_count": 13,
     "metadata": {},
     "output_type": "execute_result"
    }
   ],
   "source": [
    "l= tokenize(s)\n",
    "\n",
    "stem_and_lemmatize(l)"
   ]
  },
  {
   "cell_type": "code",
   "execution_count": 14,
   "metadata": {},
   "outputs": [
    {
     "name": "stderr",
     "output_type": "stream",
     "text": [
      "[nltk_data] Downloading package stopwords to /home/paula/nltk_data...\n",
      "[nltk_data]   Package stopwords is already up-to-date!\n"
     ]
    }
   ],
   "source": [
    "# STOP WORDS REMOVAL\n",
    "from nltk.corpus import stopwords\n",
    "nltk.download('stopwords')\n",
    "\n",
    "def remove_stopwords(l):\n",
    "    stop = set(stopwords.words('english'))\n",
    "    for word in l:\n",
    "        if word in stop:\n",
    "            l.remove(word)\n",
    "    return l"
   ]
  },
  {
   "cell_type": "code",
   "execution_count": 15,
   "metadata": {},
   "outputs": [
    {
     "data": {
      "text/plain": [
       "['ironhack', 'q', 'websit']"
      ]
     },
     "execution_count": 15,
     "metadata": {},
     "output_type": "execute_result"
    }
   ],
   "source": [
    "l = stem_and_lemmatize(l)\n",
    "\n",
    "remove_stopwords(l)"
   ]
  },
  {
   "cell_type": "markdown",
   "metadata": {},
   "source": [
    "# Challenge 3\n",
    "\n",
    "--> Sentiment Analysis"
   ]
  },
  {
   "cell_type": "code",
   "execution_count": 16,
   "metadata": {},
   "outputs": [
    {
     "name": "stderr",
     "output_type": "stream",
     "text": [
      "[nltk_data] Downloading package vader_lexicon to\n",
      "[nltk_data]     /home/paula/nltk_data...\n",
      "[nltk_data]   Package vader_lexicon is already up-to-date!\n"
     ]
    },
    {
     "data": {
      "text/plain": [
       "{'compound': 0.8442, 'neg': 0.0, 'neu': 0.741, 'pos': 0.259}"
      ]
     },
     "execution_count": 16,
     "metadata": {},
     "output_type": "execute_result"
    }
   ],
   "source": [
    "# TRY PACKAGE\n",
    "\n",
    "from nltk.sentiment.vader import SentimentIntensityAnalyzer\n",
    "nltk.download('vader_lexicon')\n",
    "txt = \"Ironhack is a Global Tech School ranked num 2 worldwide. Our mission is to help people transform their careers and join a thriving community of tech professionals that love what they do.\"\n",
    "analyzer = SentimentIntensityAnalyzer()\n",
    "analyzer.polarity_scores(txt)"
   ]
  },
  {
   "cell_type": "code",
   "execution_count": 19,
   "metadata": {},
   "outputs": [],
   "source": [
    "# Loading and Exploring Data\n",
    "import pandas as pd\n",
    "\n",
    "data= pd.read_csv('Sentiment140.csv')\n",
    "\n",
    "data_sample = data.sample(n=20000, random_state=1)"
   ]
  },
  {
   "cell_type": "code",
   "execution_count": 22,
   "metadata": {},
   "outputs": [
    {
     "data": {
      "text/plain": [
       "(1600000, 6)"
      ]
     },
     "metadata": {},
     "output_type": "display_data"
    },
    {
     "data": {
      "text/plain": [
       "(20000, 6)"
      ]
     },
     "metadata": {},
     "output_type": "display_data"
    },
    {
     "data": {
      "text/plain": [
       "target     int64\n",
       "id         int64\n",
       "date      object\n",
       "flag      object\n",
       "user      object\n",
       "text      object\n",
       "dtype: object"
      ]
     },
     "metadata": {},
     "output_type": "display_data"
    },
    {
     "data": {
      "text/html": [
       "<div>\n",
       "<style scoped>\n",
       "    .dataframe tbody tr th:only-of-type {\n",
       "        vertical-align: middle;\n",
       "    }\n",
       "\n",
       "    .dataframe tbody tr th {\n",
       "        vertical-align: top;\n",
       "    }\n",
       "\n",
       "    .dataframe thead th {\n",
       "        text-align: right;\n",
       "    }\n",
       "</style>\n",
       "<table border=\"1\" class=\"dataframe\">\n",
       "  <thead>\n",
       "    <tr style=\"text-align: right;\">\n",
       "      <th></th>\n",
       "      <th>target</th>\n",
       "      <th>id</th>\n",
       "      <th>date</th>\n",
       "      <th>flag</th>\n",
       "      <th>user</th>\n",
       "      <th>text</th>\n",
       "    </tr>\n",
       "  </thead>\n",
       "  <tbody>\n",
       "    <tr>\n",
       "      <th>514293</th>\n",
       "      <td>0</td>\n",
       "      <td>2190584004</td>\n",
       "      <td>Tue Jun 16 03:08:48 PDT 2009</td>\n",
       "      <td>NO_QUERY</td>\n",
       "      <td>Vicki_Gee</td>\n",
       "      <td>i miss nikki nu nu already  shes always there ...</td>\n",
       "    </tr>\n",
       "    <tr>\n",
       "      <th>142282</th>\n",
       "      <td>0</td>\n",
       "      <td>1881451988</td>\n",
       "      <td>Fri May 22 04:42:15 PDT 2009</td>\n",
       "      <td>NO_QUERY</td>\n",
       "      <td>PatCashin</td>\n",
       "      <td>So I had a dream last night. I  remember a sig...</td>\n",
       "    </tr>\n",
       "    <tr>\n",
       "      <th>403727</th>\n",
       "      <td>0</td>\n",
       "      <td>2058252964</td>\n",
       "      <td>Sat Jun 06 14:34:17 PDT 2009</td>\n",
       "      <td>NO_QUERY</td>\n",
       "      <td>deelectable</td>\n",
       "      <td>@girlyghost ohh poor sickly you   (((hugs)) ho...</td>\n",
       "    </tr>\n",
       "    <tr>\n",
       "      <th>649503</th>\n",
       "      <td>0</td>\n",
       "      <td>2237307600</td>\n",
       "      <td>Fri Jun 19 05:34:22 PDT 2009</td>\n",
       "      <td>NO_QUERY</td>\n",
       "      <td>justinekepa</td>\n",
       "      <td>it is raining again</td>\n",
       "    </tr>\n",
       "    <tr>\n",
       "      <th>610789</th>\n",
       "      <td>0</td>\n",
       "      <td>2224301193</td>\n",
       "      <td>Thu Jun 18 09:20:06 PDT 2009</td>\n",
       "      <td>NO_QUERY</td>\n",
       "      <td>cmatt007</td>\n",
       "      <td>@MissKeriBaby wish I was in LA right now</td>\n",
       "    </tr>\n",
       "  </tbody>\n",
       "</table>\n",
       "</div>"
      ],
      "text/plain": [
       "        target          id                          date      flag  \\\n",
       "514293       0  2190584004  Tue Jun 16 03:08:48 PDT 2009  NO_QUERY   \n",
       "142282       0  1881451988  Fri May 22 04:42:15 PDT 2009  NO_QUERY   \n",
       "403727       0  2058252964  Sat Jun 06 14:34:17 PDT 2009  NO_QUERY   \n",
       "649503       0  2237307600  Fri Jun 19 05:34:22 PDT 2009  NO_QUERY   \n",
       "610789       0  2224301193  Thu Jun 18 09:20:06 PDT 2009  NO_QUERY   \n",
       "\n",
       "               user                                               text  \n",
       "514293    Vicki_Gee  i miss nikki nu nu already  shes always there ...  \n",
       "142282    PatCashin  So I had a dream last night. I  remember a sig...  \n",
       "403727  deelectable  @girlyghost ohh poor sickly you   (((hugs)) ho...  \n",
       "649503  justinekepa                               it is raining again   \n",
       "610789     cmatt007          @MissKeriBaby wish I was in LA right now   "
      ]
     },
     "metadata": {},
     "output_type": "display_data"
    }
   ],
   "source": [
    "display(data.shape)\n",
    "display(data_sample.shape)\n",
    "display(data_sample.dtypes)\n",
    "display(data_sample.head())"
   ]
  },
  {
   "cell_type": "code",
   "execution_count": 24,
   "metadata": {},
   "outputs": [
    {
     "data": {
      "text/html": [
       "<div>\n",
       "<style scoped>\n",
       "    .dataframe tbody tr th:only-of-type {\n",
       "        vertical-align: middle;\n",
       "    }\n",
       "\n",
       "    .dataframe tbody tr th {\n",
       "        vertical-align: top;\n",
       "    }\n",
       "\n",
       "    .dataframe thead th {\n",
       "        text-align: right;\n",
       "    }\n",
       "</style>\n",
       "<table border=\"1\" class=\"dataframe\">\n",
       "  <thead>\n",
       "    <tr style=\"text-align: right;\">\n",
       "      <th></th>\n",
       "      <th>target</th>\n",
       "      <th>id</th>\n",
       "      <th>date</th>\n",
       "      <th>flag</th>\n",
       "      <th>user</th>\n",
       "      <th>text</th>\n",
       "      <th>text_processed</th>\n",
       "    </tr>\n",
       "  </thead>\n",
       "  <tbody>\n",
       "    <tr>\n",
       "      <th>514293</th>\n",
       "      <td>0</td>\n",
       "      <td>2190584004</td>\n",
       "      <td>Tue Jun 16 03:08:48 PDT 2009</td>\n",
       "      <td>NO_QUERY</td>\n",
       "      <td>Vicki_Gee</td>\n",
       "      <td>i miss nikki nu nu already  shes always there ...</td>\n",
       "      <td>[miss, nikki, nu, nu, alreadi, alway, when, ne...</td>\n",
       "    </tr>\n",
       "    <tr>\n",
       "      <th>142282</th>\n",
       "      <td>0</td>\n",
       "      <td>1881451988</td>\n",
       "      <td>Fri May 22 04:42:15 PDT 2009</td>\n",
       "      <td>NO_QUERY</td>\n",
       "      <td>PatCashin</td>\n",
       "      <td>So I had a dream last night. I  remember a sig...</td>\n",
       "      <td>[dream, last, night, rememb, sign, clearli, to...</td>\n",
       "    </tr>\n",
       "    <tr>\n",
       "      <th>403727</th>\n",
       "      <td>0</td>\n",
       "      <td>2058252964</td>\n",
       "      <td>Sat Jun 06 14:34:17 PDT 2009</td>\n",
       "      <td>NO_QUERY</td>\n",
       "      <td>deelectable</td>\n",
       "      <td>@girlyghost ohh poor sickly you   (((hugs)) ho...</td>\n",
       "      <td>[girlyghost, ohh, poor, sickli, hug, hope, fee...</td>\n",
       "    </tr>\n",
       "    <tr>\n",
       "      <th>649503</th>\n",
       "      <td>0</td>\n",
       "      <td>2237307600</td>\n",
       "      <td>Fri Jun 19 05:34:22 PDT 2009</td>\n",
       "      <td>NO_QUERY</td>\n",
       "      <td>justinekepa</td>\n",
       "      <td>it is raining again</td>\n",
       "      <td>[is, rain]</td>\n",
       "    </tr>\n",
       "    <tr>\n",
       "      <th>610789</th>\n",
       "      <td>0</td>\n",
       "      <td>2224301193</td>\n",
       "      <td>Thu Jun 18 09:20:06 PDT 2009</td>\n",
       "      <td>NO_QUERY</td>\n",
       "      <td>cmatt007</td>\n",
       "      <td>@MissKeriBaby wish I was in LA right now</td>\n",
       "      <td>[misskeribabi, wish, wa, la, right]</td>\n",
       "    </tr>\n",
       "  </tbody>\n",
       "</table>\n",
       "</div>"
      ],
      "text/plain": [
       "        target          id                          date      flag  \\\n",
       "514293       0  2190584004  Tue Jun 16 03:08:48 PDT 2009  NO_QUERY   \n",
       "142282       0  1881451988  Fri May 22 04:42:15 PDT 2009  NO_QUERY   \n",
       "403727       0  2058252964  Sat Jun 06 14:34:17 PDT 2009  NO_QUERY   \n",
       "649503       0  2237307600  Fri Jun 19 05:34:22 PDT 2009  NO_QUERY   \n",
       "610789       0  2224301193  Thu Jun 18 09:20:06 PDT 2009  NO_QUERY   \n",
       "\n",
       "               user                                               text  \\\n",
       "514293    Vicki_Gee  i miss nikki nu nu already  shes always there ...   \n",
       "142282    PatCashin  So I had a dream last night. I  remember a sig...   \n",
       "403727  deelectable  @girlyghost ohh poor sickly you   (((hugs)) ho...   \n",
       "649503  justinekepa                               it is raining again    \n",
       "610789     cmatt007          @MissKeriBaby wish I was in LA right now    \n",
       "\n",
       "                                           text_processed  \n",
       "514293  [miss, nikki, nu, nu, alreadi, alway, when, ne...  \n",
       "142282  [dream, last, night, rememb, sign, clearli, to...  \n",
       "403727  [girlyghost, ohh, poor, sickli, hug, hope, fee...  \n",
       "649503                                         [is, rain]  \n",
       "610789                [misskeribabi, wish, wa, la, right]  "
      ]
     },
     "execution_count": 24,
     "metadata": {},
     "output_type": "execute_result"
    }
   ],
   "source": [
    "# Prepare Textual Data for Sentiment Analysis\n",
    "\n",
    "def clean_f(x): \n",
    "    functions = [clean_up, tokenize, stem_and_lemmatize, remove_stopwords]\n",
    "    for f in functions: \n",
    "        x = f(x)\n",
    "    return x\n",
    "    \n",
    "data_sample['text_processed']=data_sample.text.apply(clean_f)\n",
    "\n",
    "data_sample.head()"
   ]
  },
  {
   "cell_type": "code",
   "execution_count": 35,
   "metadata": {},
   "outputs": [
    {
     "name": "stdout",
     "output_type": "stream",
     "text": [
      "['the', 'i', 'a', 'go', 'my', 'get', 's', 'm', 'wa', 'day', 't', 'thi', 'good', 'like', 'love', 'you', 'work', 'to', 'it', 'have', 'got', 'u', 'quot', 'time', 'today', 'miss', 'want', 'lol', 'be', 'back', 'thank', 'one', 'realli', 'know', 'im', 'think', 'amp', 'see', 'feel', 'watch', 'need', 'still', 'well', 'night', 'make', 'hope', 'oh', 'can', 'home', 'look', 'new', 'na', 'ha', 'is', 'me', 'that', 'come', 'twitter', 'much', 'do', 'just', 'last', 'in', 'am', 'not', 'so', 'wish', 'morn', 'great', 'wait', 'and', 'are', 'll', 'all', 'sad', 'tomorrow', 'would', 'haha', 'sleep', 'right', 'whi', 'fun', 'thing', 'follow', 'tonight', 'onli', 'happi', 'friend', 'on', 'week', 'nice', 'tri', 'bad', 'veri', 'sorri', 'hi', 'don', 'take', 'say', 'for', 'way', 'better', 'school', 'now', 'had', 'could', 're', 'yeah', 'hate', 'will', 'bed', 'peopl', 'start', 'tweet', 'gon', 'your', 'of', 'though', 'hour', 'show', 'even', 'guy', 've', 'weekend', 'play', 'too', 'everyon', 'let', 'littl', 'final', 'lt', 'cant', 'life', 'hey', 'x', 'ye', 'use', 'wan', 'movi', 'rain', 'year', 'first', 'p', 'sick', 'ok', 'awesom', 'but', 'no', 'tire', 'find', 'best', 'never', 'next', 'soon', 'ani', 'with', 'there', 'we', 'done', 'man', 'talk', 'sure', 'call', 'head', 'phone', 'dont', 'anoth', 'plea', 'help', 'alreadi', 'some', 'at', 'alway', 'long', 'cool', 'mayb', 'they', 'keep', 'hurt', 'yay', 'leav', 'song', 'lot', 'n', 'girl', 'live', 'someth', 'made', 'enjoy', 'eat', 'bore', 'old', 'thought', 'yet', 'becaus', 'read', 'suck', 'ever', 'ur', 'w', 'lost', 'pretti', 'readi', 'away', 'actual', 'finish', 'sound', 'went', 'hous', 'should', 'an', 'b', 'excit', 'd', 'listen', 'hear', 'game', 'summer', 'happen', 'someon', 'left', 'up', 'guess', 'befor', 'noth', 'r', 'babi', 'earli', 'wonder', 'doe', 'job', 'did', 'he', 'tell', 'sinc', 'her', 'late', 'omg', 'glad', 'end', 'out', 'ugh', 'car', 'gone', 'kid', 'weather', 'here', 'saw', 'beauti', 'ya', 'wow', 'pic', 'check', 'mom', 'then', 'later', 'damn', 'amaz', 'bit', 'birthday', 'about', 'what', 'big', 'said', 'stop', 'mean', 'hot', 'sun', 'parti', 'give', 'also', 'god', 'more', 'die', 'updat', 'two', 'run', 'may', 'com', 'must', 'been', 'move', 'shit', 'seem', 'world', 'hard', 'iphon', 'put', 'ta', 'free', 'didn', 'cold', 'yesterday', 'luck', 'th', 'meet', 'might', 'month', 'studi', 'stay', 'found', 'mine', 'c', 'music', 'aww', 'mani', 'gt', 'boy', 'ill', 'e', 'book', 'friday', 'lunch', 'she', 'buy', 'fuck', 'woke', 'exam', 'shop', 'were', 'post', 'around', 'l', 'video', 'clean', 'monday', 'tho', 'cri', 'least', 'stuff', 'okay', 'famili', 'xx', 'pictur', 'till', 'anyth', 'welcom', 'forward', 'sooo', 'believ', 'drink', 'sweet', 'cute', 'busi', 'everyth', 'hahaha', 'drive', 'how', 'food', 'train', 'walk', 'everi', 'stupid', 'anyon', 'k', 'el', 'sit', 'sunday', 'probabl', 'poor', 'turn', 'name', 'chang', 'outsid', 'dad', 'win', 'plan', 'our', 'almost', 'far', 'write', 'place', 'hair', 'g', 'if', 'goodnight', 'wrong', 'dream', 'real', 'kill', 'blog', 'ask', 'caus', 'fan', 'rememb', 'tv', 'won', 'dog', 'rest', 'funni', 'repli', 'quit', 'face', 'other', 'wake', 'total', 'over', 'class', 'minut', 'worri', 'off', 'room', 'eye', 'anymor', 'hit', 'came', 'vote', 'when', 'true', 'dinner', 'without', 'sister', 'seen', 'send', 'offic', 'money', 'mother', 'news', 'word', 'whole', 'photo', 'hang', 'aw', 'link', 'brother', 'open', 'onc', 'either', 'danc', 'took', 'pain', 'break', 'person', 'idea', 'headach', 'coffe', 'saturday', 'www', 'half', 'hehe', 'hug', 'st', 'awww', 'hello', 'kinda', 'close', 'ah', 'onlin', 'bring', 'care', 'anyway', 'text', 'v', 'full', 'abl', 'crap', 'enough', 'set', 'them', 'trip', 'reason', 'dude', 'crazi', 'jealou', 'cours', 'fall', 'comput', 'same', 'fix', 'pm', 'season', 'heard', 'fine', 'interest', 'bought', 'favorit', 'heart', 'j', 'wont', 'forgot', 'rock', 'didnt', 'kind', 'add', 'site', 'f', 'pay', 'high', 'mr', 'again', 'beach', 'visit', 'h', 'awak', 'sunni', 'relax', 'star', 'problem', 'learn', 'from', 'red', 'dead', 'smile', 'sign', 'la', 'super', 'serious', 'ago', 'haven', 'cuz', 'fail', 'afternoon', 'line', 'soo', 'asleep', 'drop', 'mileycyru', 'mind', 'lucki', 'ladi', 'hell', 'email', 'power', 'sore', 'tommcfli', 'few', 'congrat', 'nd', 'ride', 'math', 'lose', 'part', 'him', 'definit', 'concert', 'min', 'boo', 'instead', 'broke', 'wear', 'dear', 'offici', 'youtub', 'facebook', 'ticket', 'shower', 'hand', 'mad', 'mention', 'breakfast', 'short', 'those', 'perfect', 'internet', 'cat', 'btw', 'sometim', 'park', 'order', 'bet', 'agre', 'award', 'gym', 'catch', 'togeth', 'test', 'team', 'beat', 'suppos', 'figur', 'sat', 'nap', 'homework', 'pack', 'june', 'upload', 'alon', 'soooo', 'pick', 'pas', 'store', 'xxx', 'second', 'album', 'jona', 'stuck', 'dress', 'em', 'yea', 'by', 'sing', 'lmao', 'water', 'nite', 'xd', 'coupl', 'side', 'hungri', 'wed', 'sigh', 'goin', 'ice', 'vacat', 'air', 'easi', 'or', 'laptop', 'cook', 'cousin', 'bless', 'foot', 'decid', 'citi', 'save', 'account', 'holiday', 'wors', 'le', 'til', 'revis', 'moment', 'join', 'past', 'mood', 'spend', 'goe', 'point', 'top', 'sleepi', 'window', 'stori', 'ad', 'graduat', 'differ', 'answer', 'age', 'ipod', 'current', 'forget', 'understand', 'co', 'yep', 'throat', 'chanc', 'tour', 'town', 'fast', 'hmm', 'told', 'load', 'tea', 'celebr', 'bout', 'mtv', 'cream', 'chat', 'realiz', 'annoy', 'mac', 'knew', 'road', 'thursday', 'date', 'comment', 'jonasbroth', 'shoot', 'expect', 'fb', 'camp', 'scare', 'cut', 'ddlovato', 'shirt', 'via', 'episod', 'fli', 'ahhh', 'complet', 'down', 'count', 'kick', 'lazi', 'cancel', 'ive', 'especi', 'card', 'their', 'flight', 'ppl', 'mum', 'number', 'rather', 'black', 'download', 'most', 'list', 'chocol', 'yr', 'shoe', 'appl', 'ate', 'colleg', 'sent', 'film', 'state', 'bye', 'pizza', 'worst', 'wtf', 'wine', 'question', 'juli', 'present', 'laugh', 'meant', 'english', 'manag', 'share', 'lil', 'followfriday', 'servic', 'worth', 'than', 'search', 'ach', 'flu', 'depress', 'nope', 'freak', 'smell', 'unfortun', 'due', 'mess', 'woman', 'beer', 'messag', 'bitch', 'support', 'leg', 'websit', 'bike', 'moon', 'case', 'touch', 'parent', 'church', 'sunshin', 'swim', 'spent', 'miley', 'possibl', 'boyfriend', 'pool', 'stomach', 'page', 'yummi', 'burn', 'hmmm', 'lay', 'weird', 'bum', 'appar', 'becom', 'father', 'cake', 'hill', 'airport', 'blue', 'safe', 'wasn', 'event', 'fell', 'shame', 'hr', 'usual', 'shot', 'london', 'insid', 'xoxo', 'surpris', 'round', 'tummi', 'z', 'voic', 'googl', 'cheer', 'broken', 'practic', 'type', 'near', 'after', 'stress', 'huge', 'taken', 'where', 'warm', 'absolut', 'such', 'normal', 'alright', 'idk', 'own', 'hold', 'scari', 'horribl', 'stand', 'chill', 'block', 'note', 'doctor', 'uk', 'box', 'club', 'fire', 'pray', 'ball', 'cup', 'sooooo', 'slow', 'shall', 'cd', 'band', 'deserv', 'myspac', 'disappoint', 'notic', 'bodi', 'exactli', 'view', 'green', 'issu', 'myself', 'si', 'lie', 'fit', 'bro', 'mile', 'gorgeou', 'ff', 'paper', 'confus', 'arm', 'terribl', 'ear', 'da', 'tan', 'doesn', 'except', 'sell', 'twitpic', 'shift', 'bu', 'woo', 'low', 'doesnt', 'fair', 'sadli', 'mate', 'project', 'app', 'pop', 'plu', 'tom', 'countri', 'wit', 'longer', 'crash', 'raini', 'david', 'caught', 'special', 'cover', 'wednesday', 'sim', 'luv', 'ju', 'finger', 'hubbi', 'earlier', 'both', 'gosh', 'hangov', 'invit', 'piec', 'mail', 'sale', 'hun', 'return', 'yo', 'fight', 'radio', 'yup', 'sky', 'lame', 'gave', 'avail', 'ahead', 'connect', 'act', 'nearli', 'fish', 'proud', 'isnt', 'prepar', 'watchin', 'de', 'white', 'taylor', 'sort', 'interview', 'xo', 'blackberri', 'grow', 'recommend', 'inde', 'argh', 'sexi', 'guitar', 'small', 'bill', 'congratul', 'front', 'design', 'offer', 'forev', 'thx', 'fact', 'cloth', 'kiss', 'upset', 'joy', 'gettin', 'glass', 'bird', 'promis', 'tune', 'tuesday', 'bag', 'matter', 'fill', 'exhaust', 'self', 'nose', 'deal', 'lone', 'chees', 'version', 'futur', 'john', 'breath', 'product', 'gig', 'teeth', 'blah', 'quiet', 'arriv', 'drunk', 'storm', 'fever', 'o', 'singl', 'profil', 'mix', 'folk', 'couldn', 'ring', 'met', 'pink', 'goodby', 'fav', 'everybodi', 'experi', 'quick', 'import', 'child', 'although', 'memori', 'daughter', 'nah', 'aint', 'art', 'fantast', 'behind', 'son', 'bar', 'three', 'while', 'buddi', 'huh', 'hospit', 'lesson', 'magic', 'remind', 'web', 'releas', 'bday', 'land', 'appreci', 'seat', 'lake', 'daddi', 'peac', 'ouch', 'piss', 'blood', 'addict', 'knee', 'havent', 'middl', 'group', 'dvd', 'dure', 'jack', 'paint', 'roll', 'puppi', 'swine', 'tast', 'perform', 'file', 'stick', 'australia', 'dentist', 'dm', 'session', 'light', 'young', 'bloodi', 'track', 'info', 'delet', 'channel', 'nail', 'race', 'ran', 'local', 'ny', 'q', 'bbq', 'gut', 'trend', 'cooki', 'tear', 'camera', 'joe', 'french', 'system', 'edit', 'these', 'doubl', 'twilight', 'ng', 'jk', 'nobodi', 'travel', 'histori', 'marri', 'jon', 'chicken', 'compani', 'plz', 'mommi', 'suggest', 'whatev', 'feelin', 'record', 'ohh', 'dr', 'rule', 'four', 'form', 'garden', 'neck', 'felt', 'badli', 'dark', 'street', 'slept', 'continu', 'awwww', 'adam', 'pl', 'yum', 'shut', 'nick', 'ahh', 'fri', 'brain', 'gay', 'teacher', 'davidarchi', 'hahah', 'nyc', 'trailer', 'natur', 'vip', 'who', 'forc', 'dunno', 'ador', 'allow', 'trek', 'inspir', 'extra', 'board', 'shoulder', 'contact', 'bowl', 'ed', 'space', 'twit', 'cloud', 'ooh', 'entertain', 'king', 'babe', 'along', 'rob', 'laker', 'tree', 'festiv', 'ruin', 'random', 'seriou', 'joke', 'bear', 'seri', 'bb', 'gift', 'midnight', 'bunch', 'hotel', 'mark', 'vega', 'pc', 'ho', 'entir', 'report', 'essay', 'shine', 'plane', 'apart', 'fam', 'alot', 'kate', 'wind', 'inform', 'paid', 'hannah', 'bright', 'eh', 'america', 'uh', 'attack', 'hilari', 'chine', 'mmm', 'thru', 'teach', 'chillin', 'key', 'begin', 'flash', 'rip', 'server', 'traffic', 'mama', 'sum', 'topic', 'couldnt', 'er', 'level', 'chicago', 'prayer', 'jame', 'draw', 'pull', 'coz', 'bother', 'wasnt', 'silli', 'pant', 'bf', 'articl', 'txt', 'everytim', 'mike', 'jordanknight', 'itun', 'burnt', 'fml', 'somewher', 'dang', 'match', 'chick', 'market', 'player', 'includ', 'vid', 'choic', 'hook', 'sold', 'ga', 'mcfli', 'speak', 'harri', 'mobil', 'cough', 'studio', 'brown', 'soup', 'kitti', 'chair', 'evil', 'wife', 'bake', 'librari', 'heat', 'energi', 'wk', 'realis', 'five', 'consid', 'major', 'termin', 'sex', 'unit', 'bigger', 'rd', 'fave', 'sushi', 'aim', 'outta', 'morrow', 'as', 'clear', 'gotten', 'fat', 'taylorswift', 'pari', 'cross', 'student', 'instal', 'build', 'wall', 'relat', 'starbuck', 'yall', 'american', 'medium', 'bos', 'mouth', 'door', 'drag', 'ughh', 'background', 'pro', 'war', 'doc', 'ob', 'color', 'until', 'batteri', 'assign', 'ty', 'toni', 'anim', 'tonit', 'blame', 'perhap', 'period', 'code', 'fed', 'jam', 'bottl', 'dave', 'spot', 'kelli', 'shout', 'crack', 'skin', 'button', 'tweetdeck', 'danni', 'scream', 'prob', 'screen', 'alarm', 'lack', 'floor', 'honey', 'degre', 'effect', 'hah', 'jump', 'mo', 'uni', 'grad', 'oop', 'couch', 'crowd', 'hav', 'heh', 'jason', 'extrem', 'howev', 'franc', 'peep', 'depend', 'step', 'doubt', 'north', 'simpli', 'pour', 'weak', 'thanx', 'niec', 'fab', 'dammit', 'flower', 'wing', 'realiti', 'goal', 'princess', 'disney', 'winner', 'within', 'blow', 'epic', 'darn', 'butt', 'laundri', 'convers', 'anytim', 'mall', 'wii', 'fellow', 'brazil', 'non', 'heheh', 'reach', 'bug', 'wet', 'groceri', 'bath', 'ami', 'appear', 'boot', 'cuddl', 'meal', 'desk', 'difficult', 'fake', 'area', 'net', 'ebay', 'imagin', 'strong', 'machin', 'demi', 'banana', 'surviv', 'lead', 'despit', 'egg', 'incred', 'soccer', 'germani', 'climb', 'success', 'bare', 'sa', 'med', 'bread', 'option', 'thunder', 'scene', 'juic', 'univers', 'imma', 'sam', 'social', 'result', 'posit', 'crappi', 'ben', 'main', 'impress', 'wast', 'west', 'delay', 'ep', 'mee', 'island', 'gener', 'troubl', 'flat', 'decis', 'faster', 'jonathanrknight', 'program', 'cabl', 'woop', 'station', 'ignor', 'attempt', 'law', 'girlfriend', 'smart', 'dirti', 'wash', 'bank', 'charg', 'recov', 'hahahaha', 'yes', 'isn', 'treat', 'cali', 'easier', 'crave', 'price', 'xbox', 'client', 'dnt', 'soooooo', 'respond', 'shake', 'ryan', 'toy', 'excel', 'weight', 'gunna', 'mcflyforgermani', 'cell', 'replac', 'tough', 'etc', 'spam', 'simpl', 'justin', 'kept', 'woohoo', 'death', 'heaven', 'earth', 'tie', 'orang', 'mi', 'mornin', 'scienc', 'brought', 'direct', 'imag', 'coast', 'tweeti', 'avoid', 'rush', 'bust', 'warn', 'wee', 'involv', 'delici', 'blast', 'texa', 'brilliant', 'husband', 'hero', 'freakin', 'mitchelmusso', 'cur', 'review', 'plant', 'kno', 'size', 'trick', 'bgt', 'liter', 'tee', 'artist', 'style', 'often', 'charact', 'emot', 'goodmorn', 'swear', 'nephew', 'dc', 'trade', 'correct', 'screw', 'human', 'scratch', 'public', 'grr', 'flip', 'workin', 'toe', 'salad', 'grandma', 'access', 'wrote', 'comp', 'ish', 'receiv', 'fresh', 'grab', 'smoke', 'workout', 'doin', 'fuckin', 'million', 'angri', 'iran', 'bite', 'dam', 'sm', 'expens', 'error', 'mistak', 'sport', 'men', 'frustrat', 'favourit', 'spanish', 'contest', 'tha', 'cupcak', 'trust', 'deep', 'talent', 'asap', 'pen', 'alcohol', 'term', 'base', 'spin', 'bc', 'row', 'spring', 'handl', 'classic', 'south', 'matt', 'slowli', 'bff', 'speed', 'loud', 'alex', 'holi', 'sandwich', 'shock', 'msn', 'tweeter', 'user', 'allergi', 'prom', 'credit', 'contract', 'solut', 'macbook', 'kati', 'yourself', 'prefer', 'thinkin', 'truth', 'rite', 'atm', 'imposs', 'sf', 'pre', 'picnic', 'kevin', 'dj', 'awhil', 'poop', 'kitchen', 'toast', 'throw', 'bedtim', 'wave', 'tweeteradd', 'mon', 'rub', 'afford', 'heavi', 'bee', 'golf', 'gb', 'marathon', 'tag', 'ow', 'peterfacinelli', 'nervou', 'tweep', 'youu', 'tooth', 'rent', 'pair', 'none', 'tech', 'grade', 'ohhh', 'angel', 'wat', 'truck', 'tip', 'cheap', 'disappear', 'ch', 'ahaha', 'dat', 'straight', 'boston', 'nation', 'lip', 'creat', 'dumb', 'cloudi', 'challeng', 'nothin', 'grandpa', 'model', 'honestli', 'ray', 'accid', 'basketbal', 'dread', 'freez', 'driver', 'refresh', 'sweeti', 'yell', 'theme', 'rid', 'bio', 'awsom', 'complain', 'oooh', 'doggi', 'brand', 'stage', 'stare', 'appli', 'swift', 'steve', 'everyday', 'winter', 'nasti', 'lookin', 'rate', 'mari', 'jb', 'dri', 'across', 'michael', 'strang', 'def', 'enter', 'suddenli', 'grey', 'candi', 'purchas', 'mostli', 'sever', 'kitten', 'besti', 'urgh', 'yeh', 'kay', 'bak', 'aliv', 'ac', 'network', 'longest', 'monster', 'bump', 'perezhilton', 'peter', 'singer', 'kim', 'ash', 'comfort', 'secret', 'desktop', 'detail', 'museum', 'auto', 'confirm', 'grandpar', 'id', 'compar', 'ar', 'limit', 'sarah', 'ton', 'action', 'booo', 'cost', 'jess', 'unfollow', 'makeup', 'remov', 'letter', 'advic', 'hip', 'sweat', 'san', 'nt', 'august', 'arent', 'loss', 'soul', 'diet', 'tini', 'spell', 'smash', 'recent', 'loo', 'leagu', 'pub', 'fashion', 'proper', 'armi', 'twice', 'latest', 'control', 'into', 'farrah', 'squarespac', 'empti', 'german', 'infect', 'tenni', 'friendli', 'lock', 'ahhhh', 'schedul', 'hide', 'sir', 'ing', 'launch', 'hockey', 'stink', 'healthi', 'each', 'hall', 'hungov', 'jay', 'meh', 'piano', 'ew', 'greek', 'develop', 'custom', 'obvious', 'heck', 'sugar', 'michel', 'fabul', 'mountain', 'ca', 'transform', 'organis', 'hors', 'milk', 'function', 'chri', 'retweet', 'discus', 'yah', 'playoff', 'lmfao', 'address', 'nightmar', 'joey', 'improv', 'tim', 'ima', 'settl', 'diver', 'tht', 'xxxx', 'lovin', 'ace', 'excus', 'field', 'insan', 'iron', 'nooo', 'rofl', 'wide', 'nkotb', 'norway', 'anybodi', 'mm', 'closer', 'poker', 'strawberri', 'focu', 'explain', 'geek', 'pa', 'sux', 'announc', 'surgeri', 'ashley', 'hat', 'browser', 'crew', 'which', 'somebodi', 'bbc', 'through', 'nerd', 'atl', 'ooo', 'unless', 'rare', 'speech', 'japan', 'grand', 'stone', 'chapter', 'italian', 'push', 'poster', 'decent', 'admit', 'cinema', 'dollar', 'susan', 'gossip', 'hole', 'tooo', 'insur', 'log', 'crawl', 'adventur', 'biggest', 'paul', 'ko', 'sittin', 'lord', 'noooo', 'requir', 'poo', 'hayfev', 'tweepl', 'miser', 'goodi', 'songzyuuup', 'wisdom', 'tax', 'experienc', 'nugget', 'pet', 'emili', 'attent', 'josh', 'surf', 'neighbor', 'amanda', 'statu', 'lover', 'drank', 'sunglass', 'tool', 'vet', 'intern', 'forgotten', 'condit', 'mini', 'loung', 'wrap', 'refer', 'rough', 'stoke', 'fear', 'apolog', 'procrastin', 'wheel', 'appoint', 'england', 'spain', 'usa', 'potato', 'kri', 'heal', 'struggl', 'mmmm', 'copi', 'gross', 'tabl', 'viru', 'court', 'honor', 'dish', 'flop', 'sen', 'blush', 'bella', 'effin', 'signal', 'data', 'titl', 'hella', 'monkey', 'fm', 'conan', 'buck', 'loser', 'serv', 'bone', 'ground', 'creepi', 'queen', 'lyric', 'moro', 'itali', 'bathroom', 'regret', 'judg', 'qualiti', 'softwar', 'gfalcon', 'tue', 'jerk', 'onto', 'greatest', 'dannymcfli', 'pride', 'max', 'neg', 'indoor', 'al', 'ugli', 'lb', 'hawaii', 'tix', 'marsiscom', 'freedom', 'europ', 'oliv', 'bell', 'target', 'clock', 'van', 'eatin', 'jen', 'spider', 'skype', 'afraid', 'ankl', 'cafe', 'clip', 'laura', 'yellow', 'idol', 'fyi', 'slightli', 'starv', 'jimmi', 'jeff', 'brian', 'wolverin', 'ridicul', 'blister', 'lauren', 'odd', 'doll', 'split', 'older', 'aren', 'organ', 'somehow', 'promot', 'pie', 'provid', 'mitchel', 'collect', 'mileymonday', 'choos', 'heyi', 'besid', 'tmrw', 'fruit', 'nurs', 'jacob', 'physic', 'basebal', 'urg', 'ireland', 'downtown', 'firefox', 'locat', 'nicol', 'swollen', 'wouldn', 'poorli', 'april', 'sheet', 'jazz', 'audio', 'central', 'grass', 'ohhhh', 'britney', 'pj', 'digit', 'gona', 'eaten', 'switch', 'mandi', 'snuggl', 'shitti', 'opera', 'accept', 'hack', 'spare', 'whenev', 'ie', 'certain', 'podcast', 'regular', 'cam', 'york', 'cheat', 'matthew', 'host', 'heyyy', 'punch', 'nigga', 'amount', 'lang', 'boom', 'jo', 'keyboard', 'thumb', 'carri', 'career', 'hd', 'bay', 'cramp', 'haircut', 'situat', 'east', 'workshop', 'ex', 'sydney', 'balanc', 'gr', 'thankyou', 'charger', 'yeahh', 'rove', 'everywher', 'bk', 'commun', 'toward', 'feed', 'gd', 'mid', 'grrr', 'wknd', 'rose', 'soak', 'given', 'noodl', 'hoo', 'pretend', 'donut', 'suffer', 'dig', 'neither', 'shaundiviney', 'playlist', 'footbal', 'subject', 'um', 'orlando', 'aha', 'defin', 'shave', 'massag', 'approach', 'gaga', 'budget', 'skill', 'featur', 'johncmay', 'curiou', 'tt', 'chemistri', 'tommorow', 'fawcett', 'convinc', 'monitor', 'quickli', 'fanci', 'zoo', 'remot', 'hm', 'seattl', 'nh', 'punk', 'pleasur', 'tube', 'lighter', 'sonic', 'acoust', 'shouldn', 'pump', 'barbi', 'philippin', 'health', 'suit', 'html', 'fault', 'poison', 'layout', 'potter', 'battl', 'ban', 'pee', 'writer', 'bubbl', 'rib', 'nadal', 'exist', 'temp', 'upgrad', 'fulli', 'request', 'sync', 'avatar', 'waffl', 'nikki', 'nu', 'lo', 'role', 'activ', 'dougiemcfli', 'dougi', 'eric', 'icon', 'stalker', 'montana', 'nowher', 'bull', 'angela', 'dalla', 'walmart', 'mint', 'nois', 'sneez', 'whilst', 'ne', 'volunt', 'atleast', 'britain', 'twist', 'lectur', 'attend', 'cherri', 'lightn', 'awwwww', 'lawn', 'advanc', 'whether', 'wick', 'score', 'csi', 'opportun', 'pe', 'burger', 'bob', 'selena', 'muffin', 'ten', 'aunt', 'refus', 'metro', 'unabl', 'deliv', 'propos', 'threw', 'sniff', 'sean', 'commerci', 'known', 'sew', 'senior', 'six', 'gain', 'knock', 'click', 'regist', 'nz', 'blip', 'discov', 'appt', 'employe', 'tmr', 'butter', 'maker', 'melbourn', 'pure', 'stranger', 'blind', 'solo', 'ol', 'wifi', 'philli', 'wallet', 'process', 'mental', 'bomb', 'basic', 'canada', 'ala', 'forum', 'emma', 'billi', 'hung', 'funer', 'roast', 'under', 'awar', 'donniewahlberg', 'anti', 'esp', 'lvatt', 'chuck', 'yahoo', 'motiv', 'wise', 'wild', 'anywher', 'wrk', 'nw', 'polit', 'officialtila', 'pierc', 'princ', 'trash', 'privat', 'sourc', 'third', 'abt', 'master', 'written', 'research', 'spread', 'robot', 'melt', 'cu', 'sampl', 'drain', 'regard', 'babysit', 'kirstiealley', 'patrick', 'bacon', 'sunburn', 'worn', 'offlin', 'hunt', 'magazin', 'distract', 'reliev', 'hardli', 'cap', 'print', 'harder', 'tweetup', 'fund', 'tryin', 'thingi', 'woot', 'hop', 'sway', 'bat', 'press', 'origin', 'robert', 'flow', 'applic', 'phil', 'cheeto', 'hurri', 'preview', 'pancak', 'standard', 'pound', 'bing', 'cop', 'papa', 'fridg', 'crunch', 'apprentic', 'turkey', 'stole', 'creativ', 'victoria', 'steak', 'thunderstorm', 'oprah', 'cav', 'bummer', 'tight', 'duti', 'piti', 'alyssa', 'ship', 'irish', 'ab', 'similar', 'java', 'rise', 'dun', 'typo', 'gah', 'luckili', 'nevermind', 'lisa', 'uncl', 'satisfi', 'noo', 'promo', 'recip', 'killer', 'properli', 'march', 'aplusk', 'rum', 'asshol', 'tryna', 'cooler', 'alexalltimelow', 'callin', 'bueno', 'chest', 'sprint', 'legend', 'anniversari', 'cm', 'leed', 'panda', 'umm', 'pocket', 'fl', 'novemb', 'leno', 'balloon', 'sunburnt', 'edward', 'ant', 'pr', 'verizon', 'center', 'plenti', 'soft', 'mega', 'snap', 'breez', 'frozen', 'wkend', 'wi', 'bonfir', 'cutest', 'weren', 'common', 'fi', 'perez', 'wipe', 'ocean', 'chase', 'biscuit', 'beg', 'flickr', 'oper', 'hay', 'coverag', 'william', 'suppli', 'script', 'zac', 'lend', 'sight', 'lad', 'tyson', 'crush', 'tiger', 'rais', 'grace', 'tomorow', 'titan', 'en', 'yike', 'yearbook', 'jane', 'famou', 'smh', 'earn', 'guest', 'sweater', 'disturb', 'repeat', 'snow', 'ooooh', 'oak', 'bruis', 'megan', 'christian', 'florida', 'pearl', 'mysteri', 'bedroom', 'ftw', 'aussi', 'guid', 'taught', 'pasta', 'tape', 'calm', 'zone', 'goooood', 'se', 'cheaper', 'oil', 'knight', 'scott', 'queue', 'frm', 'sand', 'california', 'packag', 'larg', 'legit', 'easili', 'nxt', 'flick', 'tweeterfollow', 'ili', 'retard', 'gmail', 'content', 'pete', 'spoil', 'respons', 'loll', 'jesu', 'heel', 'eu', 'sniffl', 'linux', 'reinstal', 'xp', 'lou', 'cruel', 'cancer', 'iranelect', 'secondstomar', 'boat', 'semi', 'emerg', 'sauc', 'india', 'patient', 'claim', 'trail', 'chew', 'abc', 'espn', 'sea', 'murder', 'member', 'rehears', 'msg', 'fortun', 'teh', 'oww', 'chop', 'tomato', 'ubuntu', 'japanes', 'jean', 'presid', 'accord', 'purpos', 'cheesecak', 'steal', 'rang', 'countdown', 'comfi', 'woah', 'cash', 'sofa', 'apt', 'advertis', 'british', 'km', 'chan', 'holla', 'entri', 'ross', 'tattoo', 'awe', 'chem', 'theater', 'jersey', 'approv', 'coke', 'damnit', 'mainli', 'mrskutcher', 'hater', 'hol', 'chi', 'milano', 'woof', 'kirsti', 'idiot', 'youngq', 'cast', 'celeb', 'explor', 'ma', 'stat', 'stalk', 'kc', 'gold', 'restaur', 'momma', 'resist', 'curri', 'selenagomez', 'girli', 'recept', 'thrown', 'brace', 'thousand', 'blond', 'frame', 'exchang', 'usb', 'shoutout', 'jun', 'debat', 'nj', 'blink', 'veggi', 'nintendo', 'truli', 'bunni', 'miami', 'elect', 'darl', 'prep', 'colour', 'jaw', 'creep', 'panic', 'valu', 'journey', 'downstair', 'boooo', 'georg', 'invent', 'tournament', 'someday', 'andyhurleyday', 'stock', 'river', 'eva', 'hw', 'sink', 'cab', 'nom', 'sb', 'upsid', 'roomi', 'inbox', 'ping', 'recoveri', 'mexico', 'guilti', 'warp', 'lab', 'fluffi', 'mow', 'woken', 'noon', 'spa', 'shud', 'drove', 'spotifi', 'insomnia', 'complic', 'nighti', 'yoga', 'bleed', 'bass', 'cartoon', 'numb', 'purs', 'giveaway', 'simon', 'routin', 'sneak', 'emo', 'solid', 'regent', 'con', 'andrew', 'kennedi', 'matti', 'drama', 'sympathi', 'di', 'septemb', 'cycl', 'wood', 'photograph', 'thirsti', 'overnight', 'thin', 'meee', 'shade', 'otherwis', 'christma', 'format', 'php', 'rap', 'coursework', 'domain', 'meeee', 'gg', 'electr', 'jenni', 'geez', 'detroit', 'palm', 'sooon', 'steph', 'quarter', 'asot', 'male', 'stuf', 'technic', 'marvel', 'greet', 'twittervers', 'protect', 'ako', 'wooo', 'stream', 'atlanta', 'former', 'thrill', 'outlook', 'jewelri', 'mass', 'bracelet', 'coolest', 'henri', 'outdoor', 'brunch', 'taxi', 'beyond', 'task', 'blueberri', 'industri', 'premier', 'ahhhhh', 'born', 'biz', 'ain', 'volleybal', 'region', 'maddi', 'contempl', 'gari', 'deadlin', 'prize', 'medicin', 'eek', 'asia', 'wth', 'hasnt', 'held', 'glasgow', 'biolog', 'purpl', 'capit', 'tbh', 'ghost', 'destroy', 'stolen', 'egypt', 'pathet', 'retreat', 'ninja', 'wouldnt', 'insult', 'accomplish', 'slice', 'veronica', 'coach', 'mp', 'rode', 'previou', 'gnome', 'entourag', 'dan', 'chef', 'jeremi', 'beta', 'makin', 'mojo', 'younger', 'rio', 'yard', 'whew', 'gcse', 'dick', 'irrit', 'gm', 'holli', 'itchi', 'lift', 'technolog', 'assassin', 'eminem', 'liz', 'aaron', 'rubbish', 'netflix', 'heather', 'ea', 'lili', 'competit', 'jade', 'weed', 'jail', 'hasn', 'alien', 'yer', 'bound', 'vb', 'raw', 'au', 'elli', 'grant', 'spammer', 'rt', 'alan', 'educ', 'rich', 'gf', 'dust', 'humid', 'nake', 'addit', 'chilli', 'cope', 'exercis', 'era', 'liar', 'squirrel', 'stun', 'jackson', 'dye', 'browni', 'gather', 'il', 'easter', 'rad', 'blew', 'andyclemmensen', 'netbook', 'mb', 'jeez', 'stephani', 'patch', 'meg', 'ink', 'sox', 'neighbour', 'lower', 'encourag', 'yu', 'submit', 'fa', 'rome', 'frog', 'saint', 'twin', 'grrrr', 'sunset', 'boyl', 'sadder', 'popular', 'pattinson', 'hub', 'per', 'exampl', 'vaca', 'cum', 'twitterfon', 'abandon', 'exit', 'hafta', 'santa', 'goddess', 'cha', 'musicmonday', 'deli', 'wana', 'ot', 'resid', 'smith', 'assum', 'damag', 'backyard', 'spoke', 'ferri', 'jog', 'honest', 'lolz', 'respect', 'twittervil', 'allen', 'noe', 'archuleta', 'ikea', 'te', 'robin', 'hoppusday', 'hire', 'cc', 'translat', 'snack', 'jsut', 'daili', 'lion', 'banksyart', 'croc', 'nine', 'yawn', 'kyle', 'becam', 'y', 'refund', 'shaun', 'royal', 'hangin', 'conf', 'belli', 'shatter', 'thee', 'classmat', 'ttyl', 'convo', 'mode', 'chore', 'ughhh', 'rowland', 'dawn', 'tempt', 'funn', 'bobbi', 'diamond', 'happybdaykrisallen', 'twitterberri', 'fome', 'ct', 'daniel', 'mexican', 'naw', 'jet', 'pit', 'muscl', 'uhm', 'mikeywayday', 'wnbaopeningday', 'engin', 'constant', 'ram', 'youuuu', 'donna', 'ut', 'beef', 'lopez', 'betta', 'roller', 'henc', 'liquid', 'hv', 'storag', 'bang', 'badminton', 'waitin', 'bom', 'creek', 'neglect', 'tat', 'gray', 'facial', 'dork', 'reward', 'sob', 'ceil', 'toilet', 'ry', 'outfit', 'err', 'naughti', 'rout', 'selfish', 'sooooooo', 'rugbi', 'unpack', 'overcast', 'grew', 'ann', 'cleaner', 'iv', 'hmmmm', 'nut', 'ikr', 'argument', 'pumpkin', 'thnx', 'snl', 'sadden', 'unbeliev', 'somethin', 'loooov', 'pollen', 'tripl', 'whack', 'asthma', 'christ', 'surprisingli', 'cow', 'nba', 'johnson', 'comic', 'lotu', 'comedi', 'ap', 'loop', 'anatomi', 'pixi', 'lotteri', 'prove', 'determin', 'evid', 'anger', 'youll', 'kool', 'vegan', 'carpet', 'hahahah', 'scroll', 'parad', 'stamp', 'mgiraudoffici', 'effort', 'gabe', 'unlock', 'hee', 'fred', 'bleach', 'wordpress', 'ti', 'compliment', 'drum', 'jpg', 'toronto', 'scar', 'symphnysldr', 'looong', 'habit', 'cuti', 'villag', 'attract', 'planet', 'ginger', 'dollhous', 'thou', 'alert', 'mia', 'combin', 'favor', 'houston', 'endless', 'georgia', 'bud', 'booti', 'pattern', 'minu', 'disneyland', 'china', 'spongebob', 'bride', 'sheep', 'mourn', 'un', 'missin', 'twa', 'kat', 'reader', 'confid', 'walker', 'belong', 'relay', 'lighten', 'backup', 'sticki', 'owner', 'colleagu', 'delight', 'ehh', 'jordan', 'horror', 'danger', 'jc', 'fay', 'golden', 'joeymcintyr', 'gp', 'lap', 'doughnut', 'hamster', 'picci', 'katyperri', 'gee', 'tireddd', 'intend', 'subscrib', 'championship', 'argentina', 'aloud', 'sandal', 'honeymoon', 'grill', 'wot', 'dayi', 'jar', 'progress', 'graham', 'skip', 'charlott', 'compat', 'ron', 'presal', 'consol', 'gnight', 'influenc', 'bleh', 'theatr', 'whoa', 'faith', 'feedback', 'rli', 'disapoint', 'ui', 'ummm', 'toss', 'soooooooo', 'farm', 'lit', 'champ', 'pup', 'femal', 'asian', 'sumthin', 'tab', 'lag', 'yayi', 'bah', 'ali', 'moo', 'unreal', 'aunti', 'hint', 'gawd', 'deck', 'hollywood', 'cereal', 'brew', 'brb', 'yeaa', 'section', 'mann', 'youuu', 'dairi', 'frank', 'deliveri', 'bein', 'mirror', 'basement', 'upstair', 'vou', 'quiz', 'spici', 'hahahahaha', 'vibe', 'anticip', 'masterchef', 'clair', 'kg', 'champagn', 'notebook', 'behav', 'mango', 'bid', 'smooth', 'antibiot', 'swallow', 'sail', 'admir', 'aug', 'fag', 'noooooo', 'talkin', 'defeat', 'archi', 'muah', 'sock', 'tommi', 'charli', 'deni', 'bicycl', 'audit', 'releg', 'kb', 'martin', 'bean', 'denni', 'stretch', 'jacki', 'portland', 'slap', 'disast', 'pig', 'jerri', 'disco', 'obama', 'ada', 'input', 'jl', 'dangit', 'embarrass', 'highli', 'luke', 'lv', 'sticker', 'roof', 'rach', 'url', 'athen', 'swing', 'gi', 'plug', 'supris', 'intens', 'metal', 'overwhelm', 'chip', 'investig', 'preciou', 'scan', 'murphi', 'ay', 'drinkin', 'oral', 'din', 'popcorn', 'tomoro', 'ceremoni', 'peed', 'gurl', 'optimist', 'listenin', 'pin', 'haiku', 'wha', 'derbi', 'chelsea', 'licens', 'havin', 'heidi', 'seek', 'vh', 'markhoppu', 'profit', 'wolf', 'homemad', 'lee', 'yey', 'factor', 'disgust', 'dissapoint', 'assembl', 'wale', 'homi', 'mai', 'earthquak', 'mma', 'injur', 'etsi', 'lyk', 'sudden', 'spill', 'immedi', 'prevent', 'wallpap', 'programm', 'commentari', 'ewww', 'rick', 'mcdonald', 'prais', 'ashleytisdal', 'nat', 'keith', 'subway', 'trent', 'andi', 'donat', 'leah', 'global', 'polish', 'nacho', 'aka', 'hassl', 'uhh', 'surround', 'wah', 'tgif', 'abov', 'rabbit', 'carniv', 'goood', 'ure', 'margarita', 'neil', 'eclips', 'wendi', 'failur', 'buffet', 'edg', 'sammi', 'mraz', 'skool', 'whip', 'prison', 'tx', 'theori', 'needl', 'unlucki', 'cave', 'phoenix', 'cnt', 'zombi', 'skirt', 'predict', 'dee', 'qualifi', 'awh', 'mill', 'millionair', 'author', 'tall', 'vegetarian', 'ang', 'reject', 'stair', 'microsoft', 'taco', 'hiya', 'upon', 'spymast', 'dare', 'fulfil', 'stephen', 'neat', 'rel', 'ja', 'denver', 'pat', 'escap', 'peak', 'seven', 'elev', 'roommat', 'heartbreak', 'salvat', 'xox', 'bangalor', 'knit', 'den', 'tomfelton', 'express', 'bin', 'halo', 'freaki', 'whoop', 'jackalltimelow', 'urban', 'branch', 'omfg', 'stacey', 'gud', 'pt', 'huhu', 'fuzzi', 'garag', 'imax', 'austin', 'jst', 'souljaboytellem', 'partner', 'ding', 'clearli', 'bagel', 'tu', 'fangirl', 'repair', 'fo', 'coaster', 'seren', 'cr', 'bark', 'themselv', 'dip', 'kiddo', 'tutori', 'northern', 'warmer', 'shld', 'dannywood', 'flood', 'brook', 'maan', 'stadium', 'retir', 'directli', 'yg', 'littlefletch', 'fianc', 'dublin', 'jojo', 'bot', 'blend', 'circl', 'punish', 'gif', 'latin', 'indi', 'withdraw', 'practis', 'demo', 'pinki', 'opposit', 'ki', 'ting', 'cheek', 'arcad', 'mous', 'allerg', 'hast', 'omggg', 'aj', 'md', 'shite', 'speaker', 'len', 'foster', 'carlo', 'diego', 'await', 'goodluck', 'celli', 'lamb', 'jessica', 'upper', 'tortur', 'celtic', 'permit', 'clark', 'sausag', 'commut', 'karen', 'ideal', 'adopt', 'meeeeee', 'mimi', 'nin', 'sac', 'werent', 'spilt', 'luggag', 'nikon', 'threat', 'spencer', 'dfizzi', 'pole', 'convert', 'wossi', 'cs', 'yeee', 'paramor', 'oz', 'cullen', 'menu', 'tf', 'spi', 'jumper', 'waaa', 'hotdog', 'pea', 'penguin', 'pittsburgh', 'itouch', 'dwight', 'nooooo', 'giant', 'wud', 'footi', 'fone', 'phew', 'dk', 'cept', 'uncomfort', 'recal', 'mandyyjirouxx', 'slip', 'flag', 'shanedawson', 'brittani', 'boobi', 'superman', 'highway', 'hooray', 'sensibl', 'rainin', 'amus', 'string', 'bbm', 'poem', 'jazzi', 'trouser', 'dorm', 'eng', 'quad', 'gummi', 'timelin', 'debbiefletch', 'employ', 'bead', 'firefli', 'tumblr', 'kayak', 'daisi', 'relient', 'increas', 'absenc', 'mg', 'discount', 'ciaobella', 'pod', 'boost', 'tissu', 'anxiou', 'bibl', 'bizarr', 'mmmmm', 'elbow', 'fox', 'audi', 'mmmmmm', 'rumbl', 'api', 'amber', 'brazilian', 'essenti', 'philip', 'setup', 'twitt', 'crow', 'ef', 'reaction', 'glow', 'buzz', 'altern', 'remain', 'extend', 'ryanseacrest', 'nicer', 'negoti', 'yt', 'jill', 'ecstat', 'latt', 'rocket', 'shannon', 'font', 'oldi', 'vodka', 'carter', 'horrid', 'mariahcarey', 'julia', 'scrape', 'lool', 'randomli', 'editor', 'hyper', 'havnt', 'isplay', 'homesick', 'hola', 'spoon', 'orient', 'mission', 'lizzi', 'bridal', 'thoma', 'pixel', 'noisi', 'modern', 'ford', 'byee', 'doug', 'pint', 'bail', 'jake', 'boooooo', 'password', 'delta', 'firework', 'wimbledon', 'nike', 'accident', 'ph', 'zach', 'puppet', 'boohoo', 'shortli', 'dirt', 'ide', 'melissa', 'sprain', 'reckon', 'therapi', 'karat', 'stephaniepratt', 'exclus', 'looov', 'theyr', 'icecream', 'candl', 'carolin', 'tragic', 'awwwwww', 'nicest', 'boob', 'mic', 'corner', 'madison', 'duno', 'natali', 'abbi', 'bball', 'franchis', 'ebassman', 'paw', 'kimmi', 'et', 'chad', 'huhuhu', 'itch', 'urself', 'inch', 'eight', 'munch', 'logo', 'slipper', 'buuut', 'loui', 'marin', 'berri', 'complaint', 'jennettemccurdi', 'luve', 'skinni', 'hundr', 'societi', 'commiss', 'chart', 'reli', 'debut', 'playin', 'thedebbyryan', 'strike', 'crop', 'frickin', 'bnp', 'blazer', 'root', 'ego', 'counti', 'counter', 'gem', 'owi', 'nauseou', 'simpson', 'dia', 'childhood', 'pale', 'wire', 'lobster', 'nao', 'occur', 'riandawson', 'bliss', 'eww', 'paradis', 'deb', 'chili', 'tay', 'traci', 'ke', 'inbetween', 'liver', 'sp', 'champion', 'classi', 'dragon', 'techniqu', 'hangout', 'reinvent', 'sorta', 'span', 'wembley', 'teenag', 'sd', 'twitterfox', 'stack', 'risk', 'headin', 'omgosh', 'passion', 'dump', 'televis', 'immens', 'dot', 'circuit', 'marley', 'lust', 'drivin', 'killin', 'gooood', 'cruis', 'drown', 'januari', 'goooooood', 'para', 'massiv', 'dylan', 'tp', 'bradin', 'indic', 'secur', 'newbi', 'wuv', 'musclenerd', 'bbl', 'indian', 'rk', 'spit', 'dvr', 'tila', 'turtl', 'filter', 'fur', 'hai', 'davi', 'gloomi', 'tr', 'twat', 'coldplay', 'somewhat', 'frenchi', 'billyraycyru', 'tracecyru', 'kenni', 'lori', 'prolli', 'recess', 'mrw', 'madden', 'equal', 'rachel', 'yayyy', 'nicolerichi', 'mend', 'poke', 'desper', 'unfair', 'opp', 'headphon', 'pinot', 'op', 'fee', 'graphic', 'devil', 'pedicur', 'ka', 'ashton', 'sherrieshepherd', 'float', 'greater', 'destin', 'tidi', 'fairli', 'envi', 'freshman', 'geniu', 'gun', 'tommorrow', 'iranian', 'krispi', 'kreme', 'techno', 'regga', 'sg', 'cure', 'pitcher', 'plain', 'dope', 'engag', 'erin', 'newcastl', 'director', 'imho', 'octob', 'typic', 'deer', 'mainten', 'tide', 'oui', 'superstar', 'sophi', 'lean', 'rp', 'booth', 'deduct', 'teen', 'mayer', 'comparison', 'sara', 'shaunjumpnow', 'beyonc', 'dull', 'cranki', 'produc', 'diana', 'throb', 'utterli', 'chap', 'forecast', 'slower', 'diseas', 'grumpi', 'darker', 'heartbroken', 'filipino', 'cameron', 'levi', 'seesmic', 'zoe', 'spear', 'steel', 'mc', 'reserv', 'slave', 'relationship', 'treasur', 'admin', 'hobo', 'illeg', 'fart', 'bubba', 'blurri', 'ii', 'cheesi', 'goo', 'pile', 'startrek', 'onion', 'tutor', 'hunni', 'bt', 'terri', 'gulpanag', 'cleveland', 'ai', 'wen', 'jelou', 'eddi', 'jamba', 'greec', 'intro', 'shyt', 'badger', 'shouldnt', 'oki', 'toooo', 'sober', 'kit', 'stu', 'semest', 'folder', 'paulo', 'bullshit', 'monica', 'tonn', 'ramen', 'sleepov', 'uhhh', 'concentr', 'hunter', 'vitamin', 'core', 'introduc', 'photoshoot', 'sicki', 'dual', 'alter', 'disciplin', 'yumm', 'understood', 'owl', 'ft', 'shini', 'irvin', 'dislik', 'tornado', 'tanya', 'curl', 'http', 'port', 'hype', 'initi', 'mock', 'twelv', 'bow', 'sake', 'washington', 'whose', 'nay', 'fer', 'hon', 'montreal', 'european', 'bash', 'mar', 'pretzel', 'display', 'sunflow', 'cyru', 'vampir', 'sec', 'ellen', 'icki', 'tricia', 'necklac', 'charm', 'jailbreak', 'shane', 'baker', 'lawyer', 'angi', 'mister', 'rocki', 'htc', 'tb', 'youuuuu', 'spirit', 'whiskey', 'pregnant', 'oooo', 'blanket', 'vi', 'morow', 'booooo', 'commit', 'rl', 'showtim', 'byeee', 'paus', 'pleasant', 'broadcast', 'humor', 'aid', 'autumn', 'migrain', 'rat', 'pepper', 'gw', 'captur', 'mope', 'aight', 'delish', 'index', 'blanki', 'wreck', 'expert', 'marriag', 'pud', 'supernatur', 'yi', 'ciao', 'length', 'rington', 'therealtiffani', 'ole', 'marleematlin', 'spree', 'eurovis', 'bond', 'strap', 'prop', 'squar', 'shrimp', 'fighter', 'twitterland', 'rue', 'dub', 'theellenshow', 'cardio', 'snore', 'offens', 'comin', 'halfway', 'proxi', 'brit', 'chester', 'gin', 'twenti', 'stanley', 'flirt', 'scrub', 'tomoz', 'soundtrack', 'po', 'moder', 'omj', 'cock', 'oregon', 'hik', 'wardrob', 'mk', 'rainbow', 'toaster', 'israel', 'pillow', 'dmb', 'wid', 'amongst', 'rb', 'concept', 'custard', 'mikey', 'materi', 'basket', 'dogbook', 'ao', 'spectacular', 'hu', 'ditch', 'cuzin', 'structur', 'vomit', 'kimkardashian', 'shove', 'diaper', 'rash', 'affair', 'ulcer', 'postcard', 'munchkin', 'label', 'cellar', 'frown', 'scc', 'android', 'chrisdjmoyl', 'hotword', 'highlight', 'norm', 'hotmail', 'covergirl', 'laughter', 'ele', 'wive', 'coulda', 'ung', 'maid', 'symptom', 'rude', 'sli', 'pinkberri', 'ventur', 'prime', 'hum', 'drew', 'janic', 'bawl', 'christi', 'whale', 'blahh', 'crib', 'shortcut', 'dy', 'salesman', 'patti', 'complex', 'xt', 'toastcommun', 'uniform', 'segundo', 'spark', 'teddi', 'cape', 'cod', 'wwe', 'weirdest', 'gma', 'lib', 'shay', 'alexand', 'litter', 'temptat', 'sangria', 'chewi', 'walkin', 'joelmadden', 'sorrow', 'jase', 'tap', 'resourc', 'nicki', 'hse', 'rave', 'lebron', 'disc', 'dsi', 'segment', 'tomarrow', 'highschool', 'flannel', 'ano', 'happier', 'moor', 'canon', 'karma', 'ina', 'rape', 'rubi', 'larri', 'map', 'slut', 'yanke', 'beckyc', 'tam', 'nuffin', 'scratchi', 'ddnt', 'photographi', 'struck', 'safari', 'alyankov', 'preorder', 'att', 'knowwww', 'urgent', 'br', 'lambert', 'byron', 'knowledg', 'pokemon', 'unrel', 'ver', 'gil', 'moz', 'polic', 'abit', 'sketch', 'grove', 'shark', 'sid', 'frankfurt', 'niki', 'hondura', 'printchick', 'fwd', 'backpack', 'wnt', 'ultim', 'centuri', 'riot', 'labor', 'assist', 'bastard', 'debbi', 'syd', 'chicki', 'doze', 'boogi', 'brighten', 'afterward', 'leo', 'greatli', 'switzerland', 'furri', 'geeki', 'howz', 'sri', 'kimi', 'nickjona', 'summit', 'toot', 'kfc', 'impati', 'bullet', 'bg', 'mash', 'fuel', 'wearin', 'sting', 'hiphop', 'dannygokey', 'floyd', 'vocal', 'peanut', 'certainli', 'spose', 'oi', 'worship', 'nicknam', 'xohanna', 'affect', 'af', 'instruct', 'dose', 'dian', 'exhibit', 'philadelphia', 'hottest', 'rank', 'ir', 'banget', 'hail', 'construct', 'smaller', 'salandpepp', 'congest', 'loopi', 'overslept', 'raspberri', 'wheelchair', 'owe', 'junk', 'cotton', 'loudli', 'sayin', 'vancouv', 'twitterspher', 'agh', 'scooter', 'cowork', 'ricki', 'wut', 'bale', 'portug', 'depot', 'housework', 'canadian', 'mgmt', 'connor', 'adelaid', 'poll', 'brief', 'matey', 'gtg', 'fright', 'kev', 'specif', 'sunris', 'overload', 'turkish', 'birth', 'gpa', 'td', 'wikipedia', 'weirdo', 'dive', 'runnin', 'forest', 'stday', 'cracker', 'critic', 'utd', 'alic', 'hog', 'usernam', 'venic', 'garbag', 'clever', 'swarm', 'dslr', 'excess', 'brandi', 'renew', 'perth', 'iamdiddi', 'brush', 'mucho', 'resort', 'darren', 'majorli', 'brodi', 'econom', 'vine', 'yogurt', 'automat', 'imi', 'mechan', 'vero', 'relaxin', 'lastnight', 'kobe', 'recogn', 'glambert', 'takin', 'polo', 'towel', 'creatur', 'bruno', 'arg', 'freezer', 'courtesi', 'tub', 'hp', 'nag', 'reveal', 'ness', 'vidzon', 'amazon', 'duper', 'xc', 'muh', 'smokin', 'quietli', 'kiwi', 'sho', 'swan', 'tail', 'gina', 'gen', 'overflow', 'inlov', 'particularli', 'prejudic', 'abound', 'giggl', 'mocha', 'whatta', 'mu', 'goshh', 'mami', 'xl', 'larger', 'sham', 'creeper', 'bandwagon', 'flawless', 'hadn', 'greg', 'nashvil', 'socal', 'insect', 'frighten', 'feblub', 'trainer', 'kent', 'terrifi', 'nem', 'mermaid', 'tale', 'aguilera', 'stinkin', 'blank', 'koi', 'pond', 'frnd', 'factori', 'ungodli', 'dd', 'bord', 'ham', 'dwighthoward', 'plaid', 'lax', 'slide', 'dell', 'wierd', 'headband', 'ahahaha', 'blogtv', 'blown', 'waz', 'thur', 'lush', 'wrist', 'lovey', 'expir', 'calv', 'savannah', 'arrest', 'yaa', 'document', 'victim', 'mel', 'fold', 'caffein', 'frick', 'moan', 'lololol', 'stumbl', 'joshthoma', 'orgasm', 'alpha', 'fu', 'whisper', 'epiphanygirl', 'worker', 'averag', 'lightsnois', 'gal', 'kristen', 'properti', 'bahama', 'laid', 'luxuri', 'reunion', 'frankiethesat', 'meantim', 'dita', 'gum', 'pill', 'zw', 'shorter', 'commenc', 'reali', 'rope', 'mount', 'driven', 'stain', 'rod', 'fucken', 'tot', 'sooooooooo', 'command', 'downtim', 'steven', 'omigosh', 'mosquito', 'wether', 'fella', 'replay', 'vball', 'pow', 'rumor', 'sin', 'pork', 'furiou', 'travi', 'passport', 'patienc', 'protein', 'mcr', 'memphi', 'oldest', 'benjamin', 'kudo', 'ag', 'flask', 'homeward', 'stfu', 'gloriou', 'irememb', 'thesi', 'dane', 'barn', 'andr', 'trivia', 'thisgoesher', 'linda', 'hobbi', 'devic', 'portal', 'jshe', 'apollo', 'therealryanhiga', 'wif', 'shizzl', 'ottawa', 'relli', 'exact', 'li', 'irl', 'cheerio', 'nih', 'vo', 'unwind', 'syndrom', 'judi', 'surgeon', 'ia', 'nudg', 'ze', 'bj', 'marshal', 'moni', 'becca', 'romania', 'bradiewebb', 'tlc', 'fearless', 'unchart', 'va', 'conclus', 'ranger', 'cuss', 'thanks', 'yday', 'hike', 'porn', 'monsoon', 'hoop', 'percent', 'ewwww', 'nov', 'vaccin', 'potti', 'bucket', 'scotland', 'heidimontag', 'cz', 'kickin', 'mwah', 'ahah', 'cobra', 'oasi', 'tick', 'fearnecotton', 'fern', 'wore', 'joint', 'consult', 'bamboozl', 'friggin', 'dart', 'lah', 'scale', 'kathi', 'likey', 'sunbath', 'pose', 'hideou', 'algebra', 'ahmad', 'howi', 'recuper', 'housew', 'checkin', 'vent', 'explod', 'bbi', 'gasp', 'pitch', 'laser', 'aerob', 'nyt', 'hardest', 'hectic', 'childcar', 'quicker', 'collaps', 'umbrella', 'diff', 'bald', 'ipswich', 'lem', 'dunkin', 'zoom', 'achi', 'tokyo', 'igloo', 'arrang', 'spoiler', 'illustr', 'hii', 'coincid', 'pan', 'africa', 'bo', 'flown', 'gap', 'tend', 'tiffani', 'sue', 'babygirl', 'buse', 'sighhh', 'primev', 'focus', 'postpon', 'russian', 'antiqu', 'whine', 'oreo', 'sonni', 'xoxox', 'transport', 'nae', 'laze', 'amazingphoeb', 'yung', 'ment', 'bn', 'straw', 'leak', 'milo', 'aq', 'imac', 'agentbooth', 'pug', 'su', 'smoshian', 'diva', 'stil', 'obviou', 'rockin', 'plate', 'timberlak', 'pot', 'select', 'juri', 'passeng', 'jare', 'lincoln', 'batch', 'ddub', 'belt', 'twitterrif', 'michigan', 'powder', 'mozwold', 'heehe', 'molli', 'mug', 'particip', 'dah', 'tank', 'hoedown', 'throwdown', 'ru', 'metallica', 'yaaa', 'pad', 'hatton', 'mmitchelldaviss', 'constantli', 'hahha', 'plaza', 'builder', 'yelyahwilliam', 'rec', 'partit', 'multi', 'reznor', 'friendship', 'drip', 'aa', 'franci', 'truffl', 'lick', 'distanc', 'vanish', 'brill', 'farah', 'shawn', 'strain', 'sasha', 'haveyouev', 'suitcas', 'roger', 'quantum', 'stuffi', 'niic', 'mah', 'flavor', 'brat', 'foward', 'ahahahaha', 'bradi', 'gotcha', 'castl', 'amazingg', 'morgan', 'firmwar', 'creation', 'kar', 'seo', 'chariti', 'nessi', 'buttt', 'fiddl', 'motto', 'guilt', 'helicopt', 'ahhhhhh', 'buffer', 'shown', 'seed', 'xcite', 'susi', 'overal', 'org', 'soy', 'glitter', 'kk', 'sidekick', 'waaay', 'wherev', 'shin', 'aquarium', 'bestfriend', 'allright', 'crumbl', 'olivia', 'grader', 'pimp', 'youth', 'redo', 'drill', 'contin', 'tequila', 'element', 'muse', 'guarante', 'stephenfri', 'lotta', 'newli', 'mil', 'anxious', 'spelt', 'correctli', 'silverwar', 'soap', 'tiff', 'barcelona', 'wang', 'calendar', 'ist', 'entrepreneur', 'etch', 'qood', 'domino', 'anywho', 'madagascar', 'indonesia', 'sh', 'bcuz', 'item', 'littleradg', 'visitor', 'scariest', 'fink', 'clue', 'iy', 'nichola', 'homeless', 'tre', 'unhappi', 'separ', 'paolo', 'dean', 'mannn', 'vista', 'pooh', 'shoppin', 'extern', 'ict', 'indulg', 'carmen', 'tongu', 'lolllll', 'hbo', 'condol', 'stronger', 'conserv', 'alll', 'jawar', 'shuffl', 'cram', 'regim', 'realist', 'grind', 'stab', 'eachoth', 'vicki', 'medic', 'loan', 'khloekardashian', 'iwillmoonu', 'softbal', 'homo', 'patron', 'clueless', 'coat', 'del', 'migrat', 'amandapalm', 'roach', 'bd', 'gram', 'scottish', 'fool', 'rot', 'describ', 'faggot', 'sip', 'ittt', 'happpi', 'ouchh', 'cheeki', 'pantri', 'attach', 'ooooo', 'manni', 'duck', 'yearli', 'yur', 'oc', 'varieti', 'inconveni', 'ass', 'lilyroseallen', 'oliviamunn', 'petewentz', 'venu', 'kindli', 'tweak', 'therefor', 'xma', 'loooong', 'phx', 'outlet', 'bulldog', 'az', 'remedi', 'legal', 'rm', 'uggh', 'lime', 'brave', 'atmospher', 'chrome', 'joejona', 'talker', 'mcflyharri', 'cheeri', 'psp', 'kong', 'anxieti', 'gooooooo', 'trueblood', 'iam', 'joker', 'allison', 'siriu', 'fourth', 'rpattz', 'fin', 'ughhhh', 'whyyyy', 'unwel', 'slumdog', 'bebo', 'lineup', 'dood', 'among', 'crook', 'painter', 'hurtin', 'boogiti', 'curtain', 'cube', 'rees', 'mcmahon', 'ezra', 'alli', 'amsterdam', 'mozo', 'consum', 'webcam', 'crown', 'shape', 'xoxoxo', 'abil', 'climat', 'benefit', 'audiobook', 'lg', 'uu', 'mau', 'spoken', 'silver', 'dancer', 'justic', 'twitta', 'hahahaa', 'tent', 'wireless', 'dana', 'sole', 'drake', 'sunda', 'salon', 'ctr', 'pooch', 'treadmil', 'batman', 'rockstar', 'errand', 'chai', 'ftl', 'reload', 'immort', 'maui', 'duh', 'paranoid', 'remak', 'cocktail', 'demon', 'twtrcon', 'straighten', 'tyler', 'restor', 'remix', 'worm', 'follwer', 'hush', 'alrighti', 'uc', 'firewal', 'warren', 'dove', 'trace', 'alllll', 'keepin', 'du', 'suprisingli', 'cmon', 'roseann', 'uv', 'mario', 'korea', 'dutch', 'vanessa', 'pointless', 'lane', 'cone', 'ich', 'heartmileycyru', 'yeaah', 'brighton', 'plastic', 'tj', 'phl', 'fuk', 'slick', 'vintag', 'hittin', 'hump', 'gavin', 'ox', 'lautner', 'tlk', 'crimin', 'digest', 'iamalicecullen', 'starter', 'sowwi', 'kennel', 'regularli', 'upcom', 'acn', 'catalyst', 'hoot', 'valv', 'psycholog', 'captain', 'sista', 'grit', 'crime', 'belov', 'centr', 'radar', 'wayyyi', 'choir', 'salli', 'kinagranni', 'mam', 'lex', 'reed', 'stomp', 'ra', 'feder', 'fallin', 'singapor', 'dramat', 'jacket', 'connecticut', 'taker', 'navi', 'calcutta', 'arizona', 'rescu', 'nativ', 'cedar', 'runner', 'norton', 'eventu', 'tylenol', 'abi', 'foto', 'kita', 'oo', 'ooc', 'gu', 'bento', 'cheryl', 'stylist', 'needle', 'nostalgia', 'que', 'elf', 'rom', 'funki', 'sparkl', 'stayin', 'rapper', 'wnba', 'ivi', 'happend', 'ted', 'watcher', 'tasti', 'boil', 'thesim', 'wharf', 'marcu', 'drool', 'charl', 'abigail', 'musso', 'buffalo', 'richard', 'livin', 'beast', 'tcot', 'silk', 'raiden', 'zero', 'advert', 'sulk', 'burst', 'unemploy', 'thu']\n"
     ]
    }
   ],
   "source": [
    "# Creating Bag of Words: top 5,000 words\n",
    "from nltk.probability import FreqDist\n",
    "\n",
    "words_list = []\n",
    "\n",
    "for row in data_sample['text_processed']:\n",
    "    for word in row:\n",
    "        words_list.append(word)\n",
    "    \n",
    "fdist = FreqDist(words_list)\n",
    "voc = fdist.most_common(5000)\n",
    "top = [x[0] for x in voc]\n",
    "\n",
    "print(top)  # las primeras 9 palabras deberia haberlas eliminado alguno de los filtros anteiores??"
   ]
  },
  {
   "cell_type": "code",
   "execution_count": 37,
   "metadata": {},
   "outputs": [],
   "source": [
    "# Building Features\n",
    "\n",
    "def find_features(document):\n",
    "    words = set(document)\n",
    "    features = {}\n",
    "    for w in top:\n",
    "        features[w] = (w in words)\n",
    "    s = SentimentIntensityAnalyzer().polarity_scores(\" \".join(document))\n",
    "    if s[\"pos\"] > 0.2:\n",
    "        s = True\n",
    "    else:\n",
    "        s = False\n",
    "    return (features, s)\n",
    "\n",
    "feature = list(data_sample.text_processed.apply(find_features))"
   ]
  },
  {
   "cell_type": "code",
   "execution_count": 39,
   "metadata": {},
   "outputs": [
    {
     "name": "stdout",
     "output_type": "stream",
     "text": [
      "Most Informative Features\n",
      "                    love = True             True : False  =     50.4 : 1.0\n",
      "                      xd = True             True : False  =     48.3 : 1.0\n",
      "                   great = True             True : False  =     45.4 : 1.0\n",
      "                    best = True             True : False  =     41.3 : 1.0\n",
      "                     wow = True             True : False  =     33.6 : 1.0\n",
      "                    xoxo = True             True : False  =     33.4 : 1.0\n",
      "                   super = True             True : False  =     32.0 : 1.0\n",
      "                   proud = True             True : False  =     27.4 : 1.0\n",
      "                   bless = True             True : False  =     25.4 : 1.0\n",
      "                     woo = True             True : False  =     25.4 : 1.0\n"
     ]
    }
   ],
   "source": [
    "# Building and Traininng Naive Bayes Model\n",
    "\n",
    "from nltk.corpus import names\n",
    "\n",
    "train_set, test_set = feature[500:], feature[:500]\n",
    "classifier = nltk.NaiveBayesClassifier.train(train_set)\n",
    "\n",
    "classifier.show_most_informative_features()"
   ]
  },
  {
   "cell_type": "code",
   "execution_count": 41,
   "metadata": {},
   "outputs": [
    {
     "name": "stdout",
     "output_type": "stream",
     "text": [
      "The accuracy of the model Naive Bayes is: 0.856\n"
     ]
    }
   ],
   "source": [
    "print ('The accuracy of the model Naive Bayes is: {}'.format(nltk.classify.accuracy(classifier, test_set)))"
   ]
  },
  {
   "cell_type": "code",
   "execution_count": null,
   "metadata": {},
   "outputs": [],
   "source": []
  }
 ],
 "metadata": {
  "kernelspec": {
   "display_name": "Python 3",
   "language": "python",
   "name": "python3"
  },
  "language_info": {
   "codemirror_mode": {
    "name": "ipython",
    "version": 3
   },
   "file_extension": ".py",
   "mimetype": "text/x-python",
   "name": "python",
   "nbconvert_exporter": "python",
   "pygments_lexer": "ipython3",
   "version": "3.6.7"
  }
 },
 "nbformat": 4,
 "nbformat_minor": 2
}
