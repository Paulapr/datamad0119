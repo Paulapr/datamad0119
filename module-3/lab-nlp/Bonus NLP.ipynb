{
 "cells": [
  {
   "cell_type": "code",
   "execution_count": null,
   "metadata": {},
   "outputs": [],
   "source": [
    "import nltk\n",
    "import re\n",
    "import pandas as pd\n",
    "from nltk import sent_tokenize, word_tokenize\n",
    "from nltk.stem import PorterStemmer\n",
    "from nltk.stem import WordNetLemmatizer\n",
    "from nltk.corpus import stopwords\n",
    "from nltk.sentiment.vader import SentimentIntensityAnalyzer\n",
    "from nltk.probability import FreqDist\n",
    "from nltk.corpus import names\n",
    "\n",
    "nltk.download('vader_lexicon')\n",
    "nltk.download('stopwords')\n",
    "nltk.download('wordnet')"
   ]
  },
  {
   "cell_type": "code",
   "execution_count": null,
   "metadata": {},
   "outputs": [],
   "source": [
    "# FUNCIONES\n",
    "\n",
    "def clean_up(s):\n",
    "    s = re.sub('https?://(?:[-\\w.]|(?:%[\\da-fA-F]{2}))+', '', s)\n",
    "    s = s.lower()\n",
    "    s = re.sub('[^a-z]+', ' ', s)\n",
    "    return s.strip()\n",
    "\n",
    "def tokenize(s):\n",
    "    s = word_tokenize(s)\n",
    "    return s\n",
    "\n",
    "def stem_and_lemmatize(l):\n",
    "    new_l = []\n",
    "    ps = PorterStemmer()\n",
    "    lemmatizer = WordNetLemmatizer()\n",
    "    for word in l:\n",
    "        word = lemmatizer.lemmatize(ps.stem(word))\n",
    "        new_l.append(word)\n",
    "    return new_l\n",
    "\n",
    "def remove_stopwords(l):\n",
    "    stop = set(stopwords.words('english'))\n",
    "    for word in l:\n",
    "        if word in stop:\n",
    "            l.remove(word)\n",
    "    return l\n",
    "\n",
    "def clean_f(x): # todas las funciones anteriores juntas\n",
    "    functions = [clean_up, tokenize, stem_and_lemmatize, remove_stopwords]\n",
    "    for f in functions: \n",
    "        x = f(x)\n",
    "    return x\n",
    "\n",
    "def freqdist (c, number_words):   # input: columna de palabras, y número de palabras que queremos quedarnos\n",
    "    words_list = []\n",
    "\n",
    "    for row in c:\n",
    "        for word in row:\n",
    "            words_list.append(word)\n",
    "\n",
    "    fdist = FreqDist(words_list)\n",
    "    voc = fdist.most_common(number_words)\n",
    "    top = [x[0] for x in voc]\n",
    "    \n",
    "    return top\n",
    "\n",
    "def find_features(document):    # extraer las features de cada palabra\n",
    "    words = set(document)\n",
    "    features = {}\n",
    "    for w in top:\n",
    "        features[w] = (w in words)\n",
    "    s = SentimentIntensityAnalyzer().polarity_scores(\" \".join(document))\n",
    "    if s[\"pos\"] > 0.2:\n",
    "        s = True\n",
    "    else:\n",
    "        s = False\n",
    "    return (features, s)\n",
    "\n",
    "def model_naives (feature):\n",
    "    train_set, test_set = feature[500:], feature[:500]\n",
    "    classifier = nltk.NaiveBayesClassifier.train(train_set)\n",
    "\n",
    "    return (classifier.show_most_informative_features(), 'The accuracy of the model Naive Bayes is: {}'.format(nltk.classify.accuracy(classifier, test_set)))"
   ]
  },
  {
   "cell_type": "code",
   "execution_count": null,
   "metadata": {},
   "outputs": [],
   "source": [
    "# Import dataset\n",
    "\n",
    "data= pd.read_csv('Sentiment140.csv')\n",
    "\n",
    "#data_sample = data.sample(n=20000, random_state=1)\n",
    "\n",
    "#Voy a tratar de usar todo el dataset completo"
   ]
  },
  {
   "cell_type": "markdown",
   "metadata": {},
   "source": [
    "# Bonus Question 1: Improve Model Performance"
   ]
  },
  {
   "cell_type": "code",
   "execution_count": null,
   "metadata": {},
   "outputs": [],
   "source": []
  },
  {
   "cell_type": "markdown",
   "metadata": {},
   "source": [
    "# Bonus Question 2: Machine Learning Pipeline"
   ]
  },
  {
   "cell_type": "code",
   "execution_count": null,
   "metadata": {},
   "outputs": [],
   "source": []
  },
  {
   "cell_type": "markdown",
   "metadata": {},
   "source": [
    "# Bonus Question 3: Apache Spark"
   ]
  },
  {
   "cell_type": "code",
   "execution_count": null,
   "metadata": {},
   "outputs": [],
   "source": []
  }
 ],
 "metadata": {
  "kernelspec": {
   "display_name": "Python 3",
   "language": "python",
   "name": "python3"
  },
  "language_info": {
   "codemirror_mode": {
    "name": "ipython",
    "version": 3
   },
   "file_extension": ".py",
   "mimetype": "text/x-python",
   "name": "python",
   "nbconvert_exporter": "python",
   "pygments_lexer": "ipython3",
   "version": "3.6.7"
  }
 },
 "nbformat": 4,
 "nbformat_minor": 2
}
